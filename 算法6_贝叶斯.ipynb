{
 "cells": [
  {
   "cell_type": "markdown",
   "id": "bafc7e65",
   "metadata": {},
   "source": [
    "# 贝叶斯"
   ]
  },
  {
   "cell_type": "markdown",
   "id": "e8ce9992",
   "metadata": {},
   "source": [
    "### 贝叶斯公式"
   ]
  },
  {
   "attachments": {
    "image.png": {
     "image/png": "[encoded data removed]"
    }
   },
   "cell_type": "markdown",
   "id": "273d8d27",
   "metadata": {},
   "source": [
    "![image.png](attachment:image.png)"
   ]
  },
  {
   "cell_type": "markdown",
   "id": "1e518cf3",
   "metadata": {},
   "source": [
    "### 后验概率 = 先验概率 * 似然估计"
   ]
  },
  {
   "cell_type": "code",
   "execution_count": 1,
   "id": "1ec126c8",
   "metadata": {},
   "outputs": [],
   "source": [
    "from sklearn.model_selection import GridSearchCV\n",
    "from sklearn.naive_bayes import BernoulliNB\n",
    "from sklearn.naive_bayes import GaussianNB\n",
    "from sklearn.naive_bayes import MultinomialNB\n",
    "from sklearn.naive_bayes import ComplementNB\n",
    "from sklearn.metrics import brier_score_loss as BS\n",
    "from sklearn.model_selection import cross_val_score\n",
    "from sklearn.model_selection import train_test_split\n",
    "from imblearn.over_sampling import RandomOverSampler\n",
    "from sklearn.preprocessing import KBinsDiscretizer\n",
    "import matplotlib.pyplot as plt\n",
    "import pandas as pd\n",
    "import numpy as np\n",
    "# 导入自己写的工具类\n",
    "from my_tools import *\n",
    "# 忽略warning\n",
    "import warnings\n",
    "warnings.filterwarnings(\"ignore\")"
   ]
  },
  {
   "cell_type": "markdown",
   "id": "6ed7f5c7",
   "metadata": {},
   "source": [
    "### 加载数据"
   ]
  },
  {
   "cell_type": "code",
   "execution_count": 2,
   "id": "6744aa6d",
   "metadata": {},
   "outputs": [],
   "source": [
    "jibing_res = pd.read_excel(\"./jibing_feature_res_final.xlsx\")\n",
    "jibing = pd.read_excel(\"./jibing_feature_final.xlsx\")"
   ]
  },
  {
   "cell_type": "code",
   "execution_count": 3,
   "id": "b14cdd5b",
   "metadata": {
    "scrolled": true
   },
   "outputs": [
    {
     "name": "stdout",
     "output_type": "stream",
     "text": [
      "#######################贝叶斯########################\n",
      "+--------------------+--------------------+--------------------+\n",
      "|     precision      |       recall       |         f1         |\n",
      "+--------------------+--------------------+--------------------+\n",
      "| 0.8572650775775776 | 0.9850746268656716 | 0.9167365544834742 |\n",
      "+--------------------+--------------------+--------------------+\n"
     ]
    }
   ],
   "source": [
    "clf = GaussianNB()\n",
    "Xtrain,Xtest,Ytrain,Ytest = train_test_split(jibing,jibing_res,test_size=0.3)\n",
    "clf.fit(Xtrain, Ytrain)\n",
    "y_pre = clf.predict(Xtest)\n",
    "metrics_ = res_metrics(Ytest,y_pre,\"贝叶斯\")"
   ]
  },
  {
   "cell_type": "markdown",
   "id": "01714e50",
   "metadata": {},
   "source": [
    "### 按照高斯贝叶斯的原理，将样本标准化\n",
    "### 并且解决样本不均衡的问题"
   ]
  },
  {
   "cell_type": "code",
   "execution_count": 4,
   "id": "ac9fafa8",
   "metadata": {},
   "outputs": [],
   "source": [
    "col = jibing.columns.tolist()\n",
    "col = col[10:59]\n",
    "col.append(\"年龄\")\n",
    "sampler = RandomOverSampler(sampling_strategy=1, random_state=42)\n",
    "Xtrain, Ytrain = sampler.fit_resample(Xtrain,Ytrain)"
   ]
  },
  {
   "cell_type": "markdown",
   "id": "e6d79ab9",
   "metadata": {},
   "source": [
    "### 归一化\n"
   ]
  },
  {
   "cell_type": "code",
   "execution_count": 5,
   "id": "8aec106c",
   "metadata": {},
   "outputs": [],
   "source": [
    "jibing = guiyihua(jibing)"
   ]
  },
  {
   "cell_type": "markdown",
   "id": "880e43d4",
   "metadata": {},
   "source": [
    "### 标准化"
   ]
  },
  {
   "cell_type": "code",
   "execution_count": 6,
   "id": "3aca7a53",
   "metadata": {},
   "outputs": [],
   "source": [
    "jibing = biaozhunhua(jibing)"
   ]
  },
  {
   "cell_type": "code",
   "execution_count": 7,
   "id": "68882975",
   "metadata": {},
   "outputs": [],
   "source": [
    "Xtrain,Xtest,Ytrain,Ytest = train_test_split(jibing,jibing_res,test_size=0.3)"
   ]
  },
  {
   "cell_type": "code",
   "execution_count": 8,
   "id": "867843d0",
   "metadata": {},
   "outputs": [
    {
     "data": {
      "text/html": [
       "<div>\n",
       "<style scoped>\n",
       "    .dataframe tbody tr th:only-of-type {\n",
       "        vertical-align: middle;\n",
       "    }\n",
       "\n",
       "    .dataframe tbody tr th {\n",
       "        vertical-align: top;\n",
       "    }\n",
       "\n",
       "    .dataframe thead th {\n",
       "        text-align: right;\n",
       "    }\n",
       "</style>\n",
       "<table border=\"1\" class=\"dataframe\">\n",
       "  <thead>\n",
       "    <tr style=\"text-align: right;\">\n",
       "      <th></th>\n",
       "      <th>左右</th>\n",
       "      <th>是否外伤</th>\n",
       "      <th>症状持续时间</th>\n",
       "      <th>明显夜间痛</th>\n",
       "      <th>年龄</th>\n",
       "      <th>高血压</th>\n",
       "      <th>高血脂</th>\n",
       "      <th>2型糖尿病</th>\n",
       "      <th>吸烟与否</th>\n",
       "      <th>饮酒与否</th>\n",
       "      <th>...</th>\n",
       "      <th>腺苷脱氨酶ADA</th>\n",
       "      <th>果糖胺</th>\n",
       "      <th>肌酸激酶</th>\n",
       "      <th>α-L-盐藻糖苷酶</th>\n",
       "      <th>乳酸</th>\n",
       "      <th>淀粉酶</th>\n",
       "      <th>同型半胱氨酸</th>\n",
       "      <th>铁</th>\n",
       "      <th>总铁结合力</th>\n",
       "      <th>血型</th>\n",
       "    </tr>\n",
       "  </thead>\n",
       "  <tbody>\n",
       "    <tr>\n",
       "      <th>0</th>\n",
       "      <td>0</td>\n",
       "      <td>0</td>\n",
       "      <td>3</td>\n",
       "      <td>0</td>\n",
       "      <td>0.402864</td>\n",
       "      <td>1</td>\n",
       "      <td>0</td>\n",
       "      <td>0</td>\n",
       "      <td>0</td>\n",
       "      <td>-0.448892</td>\n",
       "      <td>...</td>\n",
       "      <td>-0.396787</td>\n",
       "      <td>-0.160764</td>\n",
       "      <td>-0.176406</td>\n",
       "      <td>-1.241122</td>\n",
       "      <td>0.269307</td>\n",
       "      <td>-0.755958</td>\n",
       "      <td>-0.420427</td>\n",
       "      <td>-0.880622</td>\n",
       "      <td>-1.226099</td>\n",
       "      <td>3</td>\n",
       "    </tr>\n",
       "    <tr>\n",
       "      <th>1</th>\n",
       "      <td>1</td>\n",
       "      <td>1</td>\n",
       "      <td>2</td>\n",
       "      <td>0</td>\n",
       "      <td>0.180258</td>\n",
       "      <td>1</td>\n",
       "      <td>0</td>\n",
       "      <td>0</td>\n",
       "      <td>0</td>\n",
       "      <td>-0.448892</td>\n",
       "      <td>...</td>\n",
       "      <td>-0.396787</td>\n",
       "      <td>-0.079732</td>\n",
       "      <td>-0.098498</td>\n",
       "      <td>-0.773740</td>\n",
       "      <td>-0.390723</td>\n",
       "      <td>0.608493</td>\n",
       "      <td>-0.538745</td>\n",
       "      <td>-0.132586</td>\n",
       "      <td>0.088761</td>\n",
       "      <td>0</td>\n",
       "    </tr>\n",
       "    <tr>\n",
       "      <th>2</th>\n",
       "      <td>1</td>\n",
       "      <td>0</td>\n",
       "      <td>4</td>\n",
       "      <td>1</td>\n",
       "      <td>-0.339156</td>\n",
       "      <td>0</td>\n",
       "      <td>0</td>\n",
       "      <td>0</td>\n",
       "      <td>0</td>\n",
       "      <td>-0.448892</td>\n",
       "      <td>...</td>\n",
       "      <td>1.055008</td>\n",
       "      <td>-0.035743</td>\n",
       "      <td>-0.095811</td>\n",
       "      <td>-0.072667</td>\n",
       "      <td>0.269307</td>\n",
       "      <td>0.949606</td>\n",
       "      <td>-0.420427</td>\n",
       "      <td>-1.742489</td>\n",
       "      <td>-0.360483</td>\n",
       "      <td>0</td>\n",
       "    </tr>\n",
       "    <tr>\n",
       "      <th>3</th>\n",
       "      <td>1</td>\n",
       "      <td>0</td>\n",
       "      <td>3</td>\n",
       "      <td>0</td>\n",
       "      <td>0.031854</td>\n",
       "      <td>0</td>\n",
       "      <td>0</td>\n",
       "      <td>0</td>\n",
       "      <td>0</td>\n",
       "      <td>-0.448892</td>\n",
       "      <td>...</td>\n",
       "      <td>1.345367</td>\n",
       "      <td>-0.077417</td>\n",
       "      <td>-0.058200</td>\n",
       "      <td>-1.241122</td>\n",
       "      <td>-0.390723</td>\n",
       "      <td>0.096824</td>\n",
       "      <td>-0.521842</td>\n",
       "      <td>-0.311464</td>\n",
       "      <td>-0.185168</td>\n",
       "      <td>0</td>\n",
       "    </tr>\n",
       "    <tr>\n",
       "      <th>4</th>\n",
       "      <td>0</td>\n",
       "      <td>1</td>\n",
       "      <td>3</td>\n",
       "      <td>0</td>\n",
       "      <td>0.106056</td>\n",
       "      <td>0</td>\n",
       "      <td>0</td>\n",
       "      <td>0</td>\n",
       "      <td>0</td>\n",
       "      <td>-0.448892</td>\n",
       "      <td>...</td>\n",
       "      <td>0.474290</td>\n",
       "      <td>-0.095938</td>\n",
       "      <td>-0.149541</td>\n",
       "      <td>-1.007431</td>\n",
       "      <td>0.005295</td>\n",
       "      <td>3.678509</td>\n",
       "      <td>-0.724673</td>\n",
       "      <td>-0.734267</td>\n",
       "      <td>-0.963127</td>\n",
       "      <td>0</td>\n",
       "    </tr>\n",
       "  </tbody>\n",
       "</table>\n",
       "<p>5 rows × 60 columns</p>\n",
       "</div>"
      ],
      "text/plain": [
       "   左右  是否外伤  症状持续时间  明显夜间痛        年龄  高血压  高血脂  2型糖尿病  吸烟与否      饮酒与否  ...  \\\n",
       "0   0     0       3      0  0.402864    1    0      0     0 -0.448892  ...   \n",
       "1   1     1       2      0  0.180258    1    0      0     0 -0.448892  ...   \n",
       "2   1     0       4      1 -0.339156    0    0      0     0 -0.448892  ...   \n",
       "3   1     0       3      0  0.031854    0    0      0     0 -0.448892  ...   \n",
       "4   0     1       3      0  0.106056    0    0      0     0 -0.448892  ...   \n",
       "\n",
       "   腺苷脱氨酶ADA       果糖胺      肌酸激酶  α-L-盐藻糖苷酶        乳酸       淀粉酶    同型半胱氨酸  \\\n",
       "0 -0.396787 -0.160764 -0.176406  -1.241122  0.269307 -0.755958 -0.420427   \n",
       "1 -0.396787 -0.079732 -0.098498  -0.773740 -0.390723  0.608493 -0.538745   \n",
       "2  1.055008 -0.035743 -0.095811  -0.072667  0.269307  0.949606 -0.420427   \n",
       "3  1.345367 -0.077417 -0.058200  -1.241122 -0.390723  0.096824 -0.521842   \n",
       "4  0.474290 -0.095938 -0.149541  -1.007431  0.005295  3.678509 -0.724673   \n",
       "\n",
       "          铁     总铁结合力  血型  \n",
       "0 -0.880622 -1.226099   3  \n",
       "1 -0.132586  0.088761   0  \n",
       "2 -1.742489 -0.360483   0  \n",
       "3 -0.311464 -0.185168   0  \n",
       "4 -0.734267 -0.963127   0  \n",
       "\n",
       "[5 rows x 60 columns]"
      ]
     },
     "execution_count": 8,
     "metadata": {},
     "output_type": "execute_result"
    }
   ],
   "source": [
    "jibing.head()"
   ]
  },
  {
   "cell_type": "code",
   "execution_count": 9,
   "id": "fd6cc446",
   "metadata": {},
   "outputs": [
    {
     "name": "stdout",
     "output_type": "stream",
     "text": [
      "#####################高斯朴素贝叶斯######################\n",
      "+--------------------+--------------------+--------------------+\n",
      "|     precision      |       recall       |         f1         |\n",
      "+--------------------+--------------------+--------------------+\n",
      "| 0.7810734153125458 | 0.9054054054054054 | 0.8386563573225105 |\n",
      "+--------------------+--------------------+--------------------+\n"
     ]
    }
   ],
   "source": [
    "clf = GaussianNB()\n",
    "clf = clf.fit(Xtrain,Ytrain)\n",
    "y_pre = clf.predict(Xtest)\n",
    "metrics_ = res_metrics(Ytest,y_pre,\"高斯朴素贝叶斯\")"
   ]
  },
  {
   "cell_type": "markdown",
   "id": "590f20a5",
   "metadata": {},
   "source": [
    "### 多项式贝叶斯"
   ]
  },
  {
   "cell_type": "markdown",
   "id": "95fe2dc4",
   "metadata": {},
   "source": [
    "### 由于多项式贝叶斯中样本不能为负数，所以要重新加载数据\n",
    "### 只进行归一化"
   ]
  },
  {
   "cell_type": "code",
   "execution_count": 11,
   "id": "a140d335",
   "metadata": {},
   "outputs": [],
   "source": [
    "jibing_res = pd.read_excel(\"./jibing_feature_res_final.xlsx\")\n",
    "jibing = pd.read_excel(\"./jibing_feature_final.xlsx\")\n",
    "jibing = guiyihua(jibing)\n",
    "col = jibing.columns.tolist()\n",
    "col = col[10:59]\n",
    "col.append(\"年龄\")\n",
    "sampler = RandomOverSampler(sampling_strategy=1, random_state=42)\n",
    "Xtrain,Xtest,Ytrain,Ytest = train_test_split(jibing,jibing_res,test_size=0.3)\n",
    "Xtrain, Ytrain = sampler.fit_resample(jibing,jibing_res)"
   ]
  },
  {
   "cell_type": "code",
   "execution_count": 12,
   "id": "593b6445",
   "metadata": {},
   "outputs": [
    {
     "name": "stdout",
     "output_type": "stream",
     "text": [
      "#####################多项式朴素贝叶斯#####################\n",
      "+--------------------+--------+-------------------+\n",
      "|     precision      | recall |         f1        |\n",
      "+--------------------+--------+-------------------+\n",
      "| 0.7861635385297756 |  0.5   | 0.611246948757734 |\n",
      "+--------------------+--------+-------------------+\n"
     ]
    }
   ],
   "source": [
    "clf = MultinomialNB()\n",
    "clf.fit(Xtrain, Ytrain)\n",
    "y_pre = clf.predict(Xtest)\n",
    "metrics_ = res_metrics(Ytest,y_pre,\"多项式朴素贝叶斯\")"
   ]
  },
  {
   "cell_type": "markdown",
   "id": "e2f3dc2e",
   "metadata": {},
   "source": [
    "### 分箱"
   ]
  },
  {
   "cell_type": "code",
   "execution_count": 17,
   "id": "7e9f2094",
   "metadata": {},
   "outputs": [],
   "source": [
    "jibing_res = pd.read_excel(\"./jibing_feature_res_final.xlsx\")\n",
    "jibing = pd.read_excel(\"./jibing_feature_final.xlsx\")\n",
    "col = jibing.columns.tolist()\n",
    "col = col[10:59]\n",
    "col.append(\"年龄\")\n",
    "est = KBinsDiscretizer(n_bins=67, encode='ordinal', strategy=\"kmeans\")\n",
    "est.fit(jibing[col])\n",
    "jibing[col] = est.transform(jibing[col])"
   ]
  },
  {
   "cell_type": "code",
   "execution_count": 18,
   "id": "d8848dfe",
   "metadata": {},
   "outputs": [
    {
     "name": "stdout",
     "output_type": "stream",
     "text": [
      "###################分箱的多项式朴素贝叶斯####################\n",
      "+--------------------+--------------------+--------------------+\n",
      "|     precision      |       recall       |         f1         |\n",
      "+--------------------+--------------------+--------------------+\n",
      "| 0.5720988942905088 | 0.5259433962264151 | 0.5480510869920623 |\n",
      "+--------------------+--------------------+--------------------+\n"
     ]
    }
   ],
   "source": [
    "clf = MultinomialNB()\n",
    "sampler = RandomOverSampler(sampling_strategy=1, random_state=42)\n",
    "jibing, jibing_res = sampler.fit_resample(jibing,jibing_res)\n",
    "Xtrain,Xtest,Ytrain,Ytest = train_test_split(jibing,jibing_res,test_size=0.3)\n",
    "clf.fit(Xtrain, Ytrain)\n",
    "y_pre = clf.predict(Xtest)\n",
    "metrics_ = res_metrics(Ytest,y_pre,\"分箱的多项式朴素贝叶斯\")"
   ]
  },
  {
   "cell_type": "markdown",
   "id": "1893a8a1",
   "metadata": {},
   "source": [
    "### f1-score 到了0.6"
   ]
  },
  {
   "cell_type": "markdown",
   "id": "b2dcfc57",
   "metadata": {},
   "source": [
    "### 伯努利朴素贝叶斯"
   ]
  },
  {
   "cell_type": "markdown",
   "id": "d14a32f4",
   "metadata": {},
   "source": [
    "#### 伯努利贝叶斯分类器中，指定各个特征是独立的，没有相互关联。\n",
    "#### 这里考虑到疾病的理化指标不可能是相互独立的，所以这种方法不适用。"
   ]
  },
  {
   "cell_type": "markdown",
   "id": "cc86d114",
   "metadata": {},
   "source": [
    "### ComplementNB 互补朴素贝叶斯"
   ]
  },
  {
   "cell_type": "code",
   "execution_count": 46,
   "id": "f043d3d1",
   "metadata": {},
   "outputs": [],
   "source": [
    "jibing_res = pd.read_excel(\"./jibing_feature_res_final.xlsx\")\n",
    "jibing = pd.read_excel(\"./jibing_feature_final.xlsx\")\n",
    "col = jibing.columns.tolist()\n",
    "col = col[10:59]\n",
    "col.append(\"年龄\")\n",
    "est = KBinsDiscretizer(n_bins=67, encode='ordinal', strategy=\"kmeans\")\n",
    "est.fit(jibing[col])\n",
    "jibing[col] = est.transform(jibing[col])\n",
    "sampler = RandomOverSampler(sampling_strategy=1, random_state=42)\n",
    "jibing, jibing_res = sampler.fit_resample(jibing,jibing_res)\n",
    "Xtrain,Xtest,Ytrain,Ytest = train_test_split(jibing,jibing_res,test_size=0.3)"
   ]
  },
  {
   "cell_type": "code",
   "execution_count": 47,
   "id": "f73c7ff0",
   "metadata": {},
   "outputs": [
    {
     "data": {
      "text/plain": [
       "GridSearchCV(cv=5, estimator=ComplementNB(),\n",
       "             param_grid={'alpha': array([0.        , 0.05263158, 0.10526316, 0.15789474, 0.21052632,\n",
       "       0.26315789, 0.31578947, 0.36842105, 0.42105263, 0.47368421,\n",
       "       0.52631579, 0.57894737, 0.63157895, 0.68421053, 0.73684211,\n",
       "       0.78947368, 0.84210526, 0.89473684, 0.94736842, 1.        ]),\n",
       "                         'fit_prior': [True, False]})"
      ]
     },
     "execution_count": 47,
     "metadata": {},
     "output_type": "execute_result"
    }
   ],
   "source": [
    "clf = ComplementNB()\n",
    "param_grid = {'alpha': np.linspace(0,1,20), 'fit_prior': [True, False]}\n",
    "grid_search = GridSearchCV(clf, param_grid=param_grid, cv=5)\n",
    "grid_search.fit(Xtrain, Ytrain)"
   ]
  },
  {
   "cell_type": "code",
   "execution_count": 48,
   "id": "27f32aa7",
   "metadata": {},
   "outputs": [
    {
     "data": {
      "text/plain": [
       "{'alpha': 0.0, 'fit_prior': True}"
      ]
     },
     "execution_count": 48,
     "metadata": {},
     "output_type": "execute_result"
    }
   ],
   "source": [
    "grid_search.best_params_"
   ]
  },
  {
   "cell_type": "code",
   "execution_count": 49,
   "id": "4abca77f",
   "metadata": {},
   "outputs": [
    {
     "name": "stdout",
     "output_type": "stream",
     "text": [
      "#####################互补朴素贝叶斯######################\n",
      "+--------------------+--------------------+--------------------+\n",
      "|     precision      |       recall       |         f1         |\n",
      "+--------------------+--------------------+--------------------+\n",
      "| 0.6068796068796068 | 0.6009732360097324 | 0.6039119804400979 |\n",
      "+--------------------+--------------------+--------------------+\n"
     ]
    }
   ],
   "source": [
    "clf = ComplementNB(alpha=0,fit_prior=True)\n",
    "clf.fit(Xtrain, Ytrain)\n",
    "y_pre = clf.predict(Xtest)\n",
    "metrics_ = res_metrics(Ytest,y_pre,\"互补朴素贝叶斯\")"
   ]
  },
  {
   "cell_type": "markdown",
   "id": "e67eefbf",
   "metadata": {},
   "source": [
    "### 徘徊在 0.59-0.61 之间"
   ]
  }
 ],
 "metadata": {
  "kernelspec": {
   "display_name": "Python 3 (ipykernel)",
   "language": "python",
   "name": "python3"
  },
  "language_info": {
   "codemirror_mode": {
    "name": "ipython",
    "version": 3
   },
   "file_extension": ".py",
   "mimetype": "text/x-python",
   "name": "python",
   "nbconvert_exporter": "python",
   "pygments_lexer": "ipython3",
   "version": "3.7.0"
  }
 },
 "nbformat": 4,
 "nbformat_minor": 5
}
