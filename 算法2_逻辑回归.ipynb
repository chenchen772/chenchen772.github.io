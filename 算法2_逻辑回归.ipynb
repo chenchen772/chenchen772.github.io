{
 "cells": [
  {
   "cell_type": "markdown",
   "id": "bb1bebd5",
   "metadata": {},
   "source": [
    "# 逻辑回归"
   ]
  },
  {
   "cell_type": "markdown",
   "id": "c0299da8",
   "metadata": {},
   "source": [
    "## 导入包"
   ]
  },
  {
   "cell_type": "code",
   "execution_count": 1,
   "id": "dd5fb4a2",
   "metadata": {},
   "outputs": [],
   "source": [
    "from sklearn.model_selection import GridSearchCV\n",
    "from sklearn.linear_model import LogisticRegression\n",
    "from sklearn.model_selection import cross_val_score\n",
    "from sklearn.model_selection import train_test_split\n",
    "from sklearn.feature_selection import mutual_info_classif\n",
    "from imblearn.over_sampling import RandomOverSampler\n",
    "import matplotlib.pyplot as plt\n",
    "import pandas as pd\n",
    "import numpy as np\n",
    "from my_tools import *"
   ]
  },
  {
   "cell_type": "code",
   "execution_count": 2,
   "id": "60df1fb5",
   "metadata": {},
   "outputs": [],
   "source": [
    "import warnings\n",
    "warnings.filterwarnings(\"ignore\")"
   ]
  },
  {
   "cell_type": "code",
   "execution_count": 3,
   "id": "2c8d150a",
   "metadata": {
    "scrolled": false
   },
   "outputs": [],
   "source": [
    "jibing_res = pd.read_excel(\"./jibing_feature_res_final.xlsx\")\n",
    "jibing = pd.read_excel(\"./jibing_feature_final.xlsx\")"
   ]
  },
  {
   "cell_type": "code",
   "execution_count": 4,
   "id": "34b60466",
   "metadata": {},
   "outputs": [
    {
     "data": {
      "text/html": [
       "<div>\n",
       "<style scoped>\n",
       "    .dataframe tbody tr th:only-of-type {\n",
       "        vertical-align: middle;\n",
       "    }\n",
       "\n",
       "    .dataframe tbody tr th {\n",
       "        vertical-align: top;\n",
       "    }\n",
       "\n",
       "    .dataframe thead th {\n",
       "        text-align: right;\n",
       "    }\n",
       "</style>\n",
       "<table border=\"1\" class=\"dataframe\">\n",
       "  <thead>\n",
       "    <tr style=\"text-align: right;\">\n",
       "      <th></th>\n",
       "      <th>左右</th>\n",
       "      <th>是否外伤</th>\n",
       "      <th>症状持续时间</th>\n",
       "      <th>明显夜间痛</th>\n",
       "      <th>年龄</th>\n",
       "      <th>高血压</th>\n",
       "      <th>高血脂</th>\n",
       "      <th>2型糖尿病</th>\n",
       "      <th>吸烟与否</th>\n",
       "      <th>饮酒与否</th>\n",
       "      <th>...</th>\n",
       "      <th>腺苷脱氨酶ADA</th>\n",
       "      <th>果糖胺</th>\n",
       "      <th>肌酸激酶</th>\n",
       "      <th>α-L-盐藻糖苷酶</th>\n",
       "      <th>乳酸</th>\n",
       "      <th>淀粉酶</th>\n",
       "      <th>同型半胱氨酸</th>\n",
       "      <th>铁</th>\n",
       "      <th>总铁结合力</th>\n",
       "      <th>血型</th>\n",
       "    </tr>\n",
       "  </thead>\n",
       "  <tbody>\n",
       "    <tr>\n",
       "      <th>0</th>\n",
       "      <td>0</td>\n",
       "      <td>0</td>\n",
       "      <td>3</td>\n",
       "      <td>0</td>\n",
       "      <td>65</td>\n",
       "      <td>1</td>\n",
       "      <td>0</td>\n",
       "      <td>0</td>\n",
       "      <td>0</td>\n",
       "      <td>0</td>\n",
       "      <td>...</td>\n",
       "      <td>10.0</td>\n",
       "      <td>1.32</td>\n",
       "      <td>48.0</td>\n",
       "      <td>12.0</td>\n",
       "      <td>1.9</td>\n",
       "      <td>49.0</td>\n",
       "      <td>9.9</td>\n",
       "      <td>12.3</td>\n",
       "      <td>43.5</td>\n",
       "      <td>3</td>\n",
       "    </tr>\n",
       "    <tr>\n",
       "      <th>1</th>\n",
       "      <td>1</td>\n",
       "      <td>1</td>\n",
       "      <td>2</td>\n",
       "      <td>0</td>\n",
       "      <td>62</td>\n",
       "      <td>1</td>\n",
       "      <td>0</td>\n",
       "      <td>0</td>\n",
       "      <td>0</td>\n",
       "      <td>0</td>\n",
       "      <td>...</td>\n",
       "      <td>10.0</td>\n",
       "      <td>1.67</td>\n",
       "      <td>77.0</td>\n",
       "      <td>16.0</td>\n",
       "      <td>1.4</td>\n",
       "      <td>81.0</td>\n",
       "      <td>9.2</td>\n",
       "      <td>16.9</td>\n",
       "      <td>55.5</td>\n",
       "      <td>0</td>\n",
       "    </tr>\n",
       "    <tr>\n",
       "      <th>2</th>\n",
       "      <td>1</td>\n",
       "      <td>0</td>\n",
       "      <td>4</td>\n",
       "      <td>1</td>\n",
       "      <td>55</td>\n",
       "      <td>0</td>\n",
       "      <td>0</td>\n",
       "      <td>0</td>\n",
       "      <td>0</td>\n",
       "      <td>0</td>\n",
       "      <td>...</td>\n",
       "      <td>15.0</td>\n",
       "      <td>1.86</td>\n",
       "      <td>78.0</td>\n",
       "      <td>22.0</td>\n",
       "      <td>1.9</td>\n",
       "      <td>89.0</td>\n",
       "      <td>9.9</td>\n",
       "      <td>7.0</td>\n",
       "      <td>51.4</td>\n",
       "      <td>0</td>\n",
       "    </tr>\n",
       "    <tr>\n",
       "      <th>3</th>\n",
       "      <td>1</td>\n",
       "      <td>0</td>\n",
       "      <td>3</td>\n",
       "      <td>0</td>\n",
       "      <td>60</td>\n",
       "      <td>0</td>\n",
       "      <td>0</td>\n",
       "      <td>0</td>\n",
       "      <td>0</td>\n",
       "      <td>0</td>\n",
       "      <td>...</td>\n",
       "      <td>16.0</td>\n",
       "      <td>1.68</td>\n",
       "      <td>92.0</td>\n",
       "      <td>12.0</td>\n",
       "      <td>1.4</td>\n",
       "      <td>69.0</td>\n",
       "      <td>9.3</td>\n",
       "      <td>15.8</td>\n",
       "      <td>53.0</td>\n",
       "      <td>0</td>\n",
       "    </tr>\n",
       "    <tr>\n",
       "      <th>4</th>\n",
       "      <td>0</td>\n",
       "      <td>1</td>\n",
       "      <td>3</td>\n",
       "      <td>0</td>\n",
       "      <td>61</td>\n",
       "      <td>0</td>\n",
       "      <td>0</td>\n",
       "      <td>0</td>\n",
       "      <td>0</td>\n",
       "      <td>0</td>\n",
       "      <td>...</td>\n",
       "      <td>13.0</td>\n",
       "      <td>1.60</td>\n",
       "      <td>58.0</td>\n",
       "      <td>14.0</td>\n",
       "      <td>1.7</td>\n",
       "      <td>153.0</td>\n",
       "      <td>8.1</td>\n",
       "      <td>13.2</td>\n",
       "      <td>45.9</td>\n",
       "      <td>0</td>\n",
       "    </tr>\n",
       "  </tbody>\n",
       "</table>\n",
       "<p>5 rows × 60 columns</p>\n",
       "</div>"
      ],
      "text/plain": [
       "   左右  是否外伤  症状持续时间  明显夜间痛  年龄  高血压  高血脂  2型糖尿病  吸烟与否  饮酒与否  ...  腺苷脱氨酶ADA  \\\n",
       "0   0     0       3      0  65    1    0      0     0     0  ...      10.0   \n",
       "1   1     1       2      0  62    1    0      0     0     0  ...      10.0   \n",
       "2   1     0       4      1  55    0    0      0     0     0  ...      15.0   \n",
       "3   1     0       3      0  60    0    0      0     0     0  ...      16.0   \n",
       "4   0     1       3      0  61    0    0      0     0     0  ...      13.0   \n",
       "\n",
       "    果糖胺  肌酸激酶  α-L-盐藻糖苷酶   乳酸    淀粉酶  同型半胱氨酸     铁  总铁结合力  血型  \n",
       "0  1.32  48.0       12.0  1.9   49.0     9.9  12.3   43.5   3  \n",
       "1  1.67  77.0       16.0  1.4   81.0     9.2  16.9   55.5   0  \n",
       "2  1.86  78.0       22.0  1.9   89.0     9.9   7.0   51.4   0  \n",
       "3  1.68  92.0       12.0  1.4   69.0     9.3  15.8   53.0   0  \n",
       "4  1.60  58.0       14.0  1.7  153.0     8.1  13.2   45.9   0  \n",
       "\n",
       "[5 rows x 60 columns]"
      ]
     },
     "execution_count": 4,
     "metadata": {},
     "output_type": "execute_result"
    }
   ],
   "source": [
    "jibing.head()"
   ]
  },
  {
   "cell_type": "code",
   "execution_count": 5,
   "id": "491ee4f0",
   "metadata": {},
   "outputs": [
    {
     "data": {
      "text/html": [
       "<div>\n",
       "<style scoped>\n",
       "    .dataframe tbody tr th:only-of-type {\n",
       "        vertical-align: middle;\n",
       "    }\n",
       "\n",
       "    .dataframe tbody tr th {\n",
       "        vertical-align: top;\n",
       "    }\n",
       "\n",
       "    .dataframe thead th {\n",
       "        text-align: right;\n",
       "    }\n",
       "</style>\n",
       "<table border=\"1\" class=\"dataframe\">\n",
       "  <thead>\n",
       "    <tr style=\"text-align: right;\">\n",
       "      <th></th>\n",
       "      <th>结果</th>\n",
       "    </tr>\n",
       "  </thead>\n",
       "  <tbody>\n",
       "    <tr>\n",
       "      <th>0</th>\n",
       "      <td>0</td>\n",
       "    </tr>\n",
       "    <tr>\n",
       "      <th>1</th>\n",
       "      <td>1</td>\n",
       "    </tr>\n",
       "    <tr>\n",
       "      <th>2</th>\n",
       "      <td>1</td>\n",
       "    </tr>\n",
       "    <tr>\n",
       "      <th>3</th>\n",
       "      <td>0</td>\n",
       "    </tr>\n",
       "    <tr>\n",
       "      <th>4</th>\n",
       "      <td>1</td>\n",
       "    </tr>\n",
       "  </tbody>\n",
       "</table>\n",
       "</div>"
      ],
      "text/plain": [
       "   结果\n",
       "0   0\n",
       "1   1\n",
       "2   1\n",
       "3   0\n",
       "4   1"
      ]
     },
     "execution_count": 5,
     "metadata": {},
     "output_type": "execute_result"
    }
   ],
   "source": [
    "jibing_res.head()"
   ]
  },
  {
   "cell_type": "markdown",
   "id": "7ec77a87",
   "metadata": {},
   "source": [
    "### 归一化"
   ]
  },
  {
   "cell_type": "code",
   "execution_count": 6,
   "id": "d699a557",
   "metadata": {},
   "outputs": [],
   "source": [
    "jibing = guiyihua(jibing)"
   ]
  },
  {
   "cell_type": "markdown",
   "id": "c33abf71",
   "metadata": {},
   "source": [
    "### 标准化"
   ]
  },
  {
   "cell_type": "code",
   "execution_count": 7,
   "id": "27bc45a8",
   "metadata": {},
   "outputs": [],
   "source": [
    "jibing = biaozhunhua(jibing)"
   ]
  },
  {
   "cell_type": "code",
   "execution_count": 8,
   "id": "7c42a13b",
   "metadata": {
    "scrolled": false
   },
   "outputs": [
    {
     "data": {
      "text/plain": [
       "左右               0.000000\n",
       "是否外伤             0.000000\n",
       "症状持续时间           3.000000\n",
       "明显夜间痛            0.000000\n",
       "年龄               0.402864\n",
       "高血压              1.000000\n",
       "高血脂              0.000000\n",
       "2型糖尿病            0.000000\n",
       "吸烟与否             0.000000\n",
       "饮酒与否            -0.448892\n",
       "红细胞计数*10^12/L   -0.111242\n",
       "血红蛋白            -1.262287\n",
       "红细胞压积           -0.628449\n",
       "血小板计数            1.836626\n",
       "血小板压积           -0.016066\n",
       "总蛋白g/L           0.117665\n",
       "白蛋白g/L          -0.783686\n",
       "球蛋白g/L           0.892589\n",
       "白球比             -1.141215\n",
       "ALT丙氨酸氨基转移酶     -0.955624\n",
       "碱性磷酸酶            0.577122\n",
       "谷氨酸转肽酶          -0.458009\n",
       "AST:ALT          1.972187\n",
       "总胆红素            -0.567388\n",
       "直接胆红素            0.058454\n",
       "间接胆红素           -0.700329\n",
       "钾                1.331665\n",
       "钠               -0.154827\n",
       "氯               -0.203053\n",
       "钙               -1.011273\n",
       "磷               -0.094543\n",
       "镁                1.419808\n",
       "葡萄糖             -0.813153\n",
       "肌酐               0.219459\n",
       "尿素               0.950509\n",
       "尿酸              -0.222815\n",
       "甘油三酯             0.111053\n",
       "总胆固醇             0.102856\n",
       "H高密度胆固醇          0.085759\n",
       "L低密度胆固醇          0.101836\n",
       "载脂蛋白A1          -0.047968\n",
       "载脂蛋白B            0.763163\n",
       "载脂蛋白E mg/l      -0.397325\n",
       "aPoB/aPoA1       0.073904\n",
       "脂蛋白小a           -0.059640\n",
       "乳酸脱氢酶LDH        -1.057407\n",
       "β-2微球蛋白          1.273672\n",
       "胆碱酯酶            -1.187449\n",
       "前白蛋白mg/l         0.070510\n",
       "总胆汁酸            -0.415554\n",
       "腺苷脱氨酶ADA        -0.396787\n",
       "果糖胺             -0.160764\n",
       "肌酸激酶            -0.176406\n",
       "α-L-盐藻糖苷酶       -1.241122\n",
       "乳酸               0.269307\n",
       "淀粉酶             -0.755958\n",
       "同型半胱氨酸          -0.420427\n",
       "铁               -0.880622\n",
       "总铁结合力           -1.226099\n",
       "血型               3.000000\n",
       "Name: 0, dtype: float64"
      ]
     },
     "execution_count": 8,
     "metadata": {},
     "output_type": "execute_result"
    }
   ],
   "source": [
    "jibing.iloc[0]"
   ]
  },
  {
   "cell_type": "markdown",
   "id": "fcb167e3",
   "metadata": {},
   "source": [
    "### 要调的参数\n",
    "- penalty：惩罚项，L1 正则化和 L2 正则化。\n",
    "L2 正则化通常会导致模型的参数值变小，使得模型的决策边界会更平滑。它也可以帮助防止过拟合。所以这里选择l2 正则化\n",
    "- c:正则化系数的倒数\n",
    "- 对于l2 正则化，可以选择 newton-cg，lbfgs，saga\n",
    "\n",
    "  saga:随机平均梯度下降\n",
    "  \n",
    "  newton-cg:类似于牛顿法\n",
    "  \n",
    "  lbfgs:一种梯度下降的方法"
   ]
  },
  {
   "cell_type": "markdown",
   "id": "2b9fc7eb",
   "metadata": {},
   "source": [
    "### 训练"
   ]
  },
  {
   "cell_type": "code",
   "execution_count": 13,
   "id": "f6a11265",
   "metadata": {},
   "outputs": [
    {
     "name": "stdout",
     "output_type": "stream",
     "text": [
      "#######################逻辑回归#######################\n",
      "+--------------------+--------+-----+\n",
      "|     precision      | recall |  f1 |\n",
      "+--------------------+--------+-----+\n",
      "| 0.7729340277777778 |  0.0   | 0.0 |\n",
      "+--------------------+--------+-----+\n"
     ]
    }
   ],
   "source": [
    "Xtrain,Xtest,Ytrain,Ytest = train_test_split(jibing,jibing_res,test_size=0.3)\n",
    "clf = LogisticRegression(C=c, solver=solver,random_state=30)\n",
    "clf.fit(Xtrain, Ytrain)\n",
    "# 预测\n",
    "y_pre = clf.predict(Xtest)\n",
    "metrics_ = res_metrics(Ytest,y_pre,\"逻辑回归\")"
   ]
  },
  {
   "cell_type": "markdown",
   "id": "51c85c20",
   "metadata": {},
   "source": [
    "### 召回率为0可能是样本不均衡导致的，使得算法以多数类为主"
   ]
  },
  {
   "cell_type": "markdown",
   "id": "dd2468b3",
   "metadata": {},
   "source": [
    "### 一个阳性也没有检测出来"
   ]
  },
  {
   "cell_type": "markdown",
   "id": "d885880c",
   "metadata": {},
   "source": [
    "## 为解决样本不均衡问题\n",
    "## 使用 SMOTE 补充数据\n",
    "## SMOTE：插值的方法扩充数据"
   ]
  },
  {
   "cell_type": "code",
   "execution_count": 18,
   "id": "c81e1254",
   "metadata": {},
   "outputs": [
    {
     "data": {
      "image/png": "[encoded data removed]",
      "text/plain": [
       "<Figure size 640x480 with 1 Axes>"
      ]
     },
     "metadata": {},
     "output_type": "display_data"
    }
   ],
   "source": [
    "from sklearn.feature_selection import SelectKBest\n",
    "from sklearn.feature_selection import chi2\n",
    "from imblearn.over_sampling import SMOTE\n",
    "f1_list = []\n",
    "set_font()\n",
    "for i in range(1,60):\n",
    "    smote = SMOTE(sampling_strategy=1, random_state=42)\n",
    "    selector = SelectKBest(mutual_info_classif, k=i)\n",
    "    jibing_ = selector.fit_transform(jibing, jibing_res)\n",
    "    Xtrain,Xtest,Ytrain,Ytest = train_test_split(jibing_,jibing_res,test_size=0.3,random_state=42)\n",
    "    Xtrain, Ytrain = smote.fit_resample(Xtrain,Ytrain)    \n",
    "    clf = LogisticRegression(random_state=42)\n",
    "    clf.fit(Xtrain, Ytrain)\n",
    "    y_pre = clf.predict(Xtest)\n",
    "    metrics_ = res_metrics(Ytest,y_pre,\"调参\")\n",
    "    f1_list.append(metrics_[\"f1-score\"])\n",
    "zhexiantu(range(1,60),f1_list,\"f1 - 特征筛选\")"
   ]
  },
  {
   "cell_type": "markdown",
   "id": "4d417ac5",
   "metadata": {},
   "source": [
    "### 发现 f1-score 的最高值出现在 0-10 之间"
   ]
  },
  {
   "cell_type": "code",
   "execution_count": 20,
   "id": "273c7eac",
   "metadata": {},
   "outputs": [
    {
     "data": {
      "image/png": "[encoded data removed]",
      "text/plain": [
       "<Figure size 640x480 with 1 Axes>"
      ]
     },
     "metadata": {},
     "output_type": "display_data"
    }
   ],
   "source": [
    "f1_list=[]\n",
    "for i in range(5,11):\n",
    "    smote = SMOTE(sampling_strategy=1, random_state=42)\n",
    "    selector = SelectKBest(mutual_info_classif, k=i)\n",
    "    jibing_ = selector.fit_transform(jibing, jibing_res)\n",
    "    Xtrain,Xtest,Ytrain,Ytest = train_test_split(jibing_,jibing_res,test_size=0.3,random_state=42)\n",
    "    Xtrain, Ytrain = smote.fit_resample(Xtrain,Ytrain)\n",
    "    clf = LogisticRegression(random_state=42)\n",
    "    clf.fit(Xtrain, Ytrain)\n",
    "    y_pre = clf.predict(Xtest)\n",
    "    metrics_ = res_metrics(Ytest,y_pre,\"调参\")\n",
    "    f1_list.append(metrics_[\"f1-score\"])\n",
    "zhexiantu(range(5,11),f1_list,\"f1 - 特征筛选\")"
   ]
  },
  {
   "cell_type": "markdown",
   "id": "4d3f9a8e",
   "metadata": {},
   "source": [
    "### 选取最佳的6个特征进行训练，K = 6"
   ]
  },
  {
   "cell_type": "code",
   "execution_count": 26,
   "id": "28fee43e",
   "metadata": {},
   "outputs": [
    {
     "name": "stdout",
     "output_type": "stream",
     "text": [
      "#####################f1 - k=6#####################\n",
      "+--------------------+--------------------+--------------------+\n",
      "|     precision      |       recall       |         f1         |\n",
      "+--------------------+--------------------+--------------------+\n",
      "| 0.8265539116030419 | 0.6724137931034483 | 0.7415586728925839 |\n",
      "+--------------------+--------------------+--------------------+\n"
     ]
    }
   ],
   "source": [
    "smote = SMOTE(sampling_strategy=1, random_state=42)\n",
    "selector = SelectKBest(mutual_info_classif, k=6)\n",
    "jibing_ = selector.fit_transform(jibing, jibing_res)\n",
    "Xtrain,Xtest,Ytrain,Ytest = train_test_split(jibing_,jibing_res,test_size=0.3,random_state=42)\n",
    "\n",
    "Xtrain, Ytrain = smote.fit_resample(Xtrain,Ytrain)\n",
    "clf = LogisticRegression(random_state=42)\n",
    "clf.fit(Xtrain, Ytrain)\n",
    "\n",
    "y_pre = clf.predict(Xtest)\n",
    "metrics_ = res_metrics(Ytest,y_pre,\"f1 - k=6\")"
   ]
  },
  {
   "cell_type": "markdown",
   "id": "45134b99",
   "metadata": {},
   "source": [
    "### 尝试降维\n",
    "### PCA"
   ]
  },
  {
   "cell_type": "code",
   "execution_count": 29,
   "id": "80d59d13",
   "metadata": {},
   "outputs": [
    {
     "data": {
      "image/png": "[encoded data removed]",
      "text/plain": [
       "<Figure size 640x480 with 1 Axes>"
      ]
     },
     "metadata": {},
     "output_type": "display_data"
    }
   ],
   "source": [
    "f1_list = []\n",
    "from sklearn.manifold import TSNE\n",
    "from sklearn.decomposition import PCA\n",
    "for i in range(1,6):\n",
    "    clf = LogisticRegression(random_state=42)\n",
    "    pca = PCA(n_components=i,random_state=42)\n",
    "    Xtrain_ = pca.fit_transform(Xtrain,Ytrain)\n",
    "    clf.fit(Xtrain_, Ytrain)\n",
    "    Xtest_ = pca.fit_transform(Xtest)\n",
    "    y_pre = clf.predict(Xtest_)\n",
    "    metrics_ = res_metrics(Ytest,y_pre,\"调参\")\n",
    "    f1_list.append(metrics_[\"f1-score\"])\n",
    "zhexiantu(range(1,6),f1_list,\"f1 - PCA\")"
   ]
  },
  {
   "cell_type": "code",
   "execution_count": 31,
   "id": "d3e680a0",
   "metadata": {},
   "outputs": [
    {
     "data": {
      "image/png": "[encoded data removed]",
      "text/plain": [
       "<Figure size 640x480 with 1 Axes>"
      ]
     },
     "metadata": {},
     "output_type": "display_data"
    }
   ],
   "source": [
    "f1_list = []\n",
    "from sklearn.manifold import TSNE\n",
    "for i in range(1,4):\n",
    "    clf = LogisticRegression(random_state=42)\n",
    "    tsne = TSNE(n_components=i,random_state=42)\n",
    "    Xtrain_ = tsne.fit_transform(Xtrain,Ytrain)\n",
    "    clf.fit(Xtrain_, Ytrain)\n",
    "    Xtest_ = tsne.fit_transform(Xtest)\n",
    "    y_pre = clf.predict(Xtest_)\n",
    "    metrics_ = res_metrics(Ytest,y_pre,\"调参\")\n",
    "    f1_list.append(metrics_[\"f1-score\"])\n",
    "zhexiantu(range(1,4),f1_list,\"tsne - F1\")"
   ]
  },
  {
   "cell_type": "markdown",
   "id": "f648e5e3",
   "metadata": {},
   "source": [
    "### 放弃降维，直接使用 K = 6 的特征筛选"
   ]
  },
  {
   "cell_type": "code",
   "execution_count": 32,
   "id": "e750f234",
   "metadata": {},
   "outputs": [
    {
     "name": "stdout",
     "output_type": "stream",
     "text": [
      "####################逻辑回归-特征筛选#####################\n",
      "+--------------------+--------------------+--------------------+\n",
      "|     precision      |       recall       |         f1         |\n",
      "+--------------------+--------------------+--------------------+\n",
      "| 0.8263447971781305 | 0.7068965517241379 | 0.7619678246723789 |\n",
      "+--------------------+--------------------+--------------------+\n"
     ]
    }
   ],
   "source": [
    "smote = SMOTE(sampling_strategy=1, random_state=42)\n",
    "selector = SelectKBest(mutual_info_classif, k=6)\n",
    "jibing_ = selector.fit_transform(jibing, jibing_res)\n",
    "Xtrain,Xtest,Ytrain,Ytest = train_test_split(jibing_,jibing_res,test_size=0.3,random_state=42)\n",
    "Xtrain, Ytrain = smote.fit_resample(Xtrain,Ytrain)\n",
    "# 训练，拟合\n",
    "clf = LogisticRegression(random_state=42)\n",
    "clf.fit(Xtrain, Ytrain)\n",
    "y_pre = clf.predict(Xtest)\n",
    "metrics_ = res_metrics(Ytest,y_pre,\"逻辑回归-特征筛选\")"
   ]
  },
  {
   "cell_type": "markdown",
   "id": "69750378",
   "metadata": {},
   "source": [
    "## 最高的 f1-score 为0.76"
   ]
  },
  {
   "cell_type": "code",
   "execution_count": null,
   "id": "cf9198e5",
   "metadata": {},
   "outputs": [],
   "source": []
  }
 ],
 "metadata": {
  "kernelspec": {
   "display_name": "Python 3 (ipykernel)",
   "language": "python",
   "name": "python3"
  },
  "language_info": {
   "codemirror_mode": {
    "name": "ipython",
    "version": 3
   },
   "file_extension": ".py",
   "mimetype": "text/x-python",
   "name": "python",
   "nbconvert_exporter": "python",
   "pygments_lexer": "ipython3",
   "version": "3.7.0"
  }
 },
 "nbformat": 4,
 "nbformat_minor": 5
}
