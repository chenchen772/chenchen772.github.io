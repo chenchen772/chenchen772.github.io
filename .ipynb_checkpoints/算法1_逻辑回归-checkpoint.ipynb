{
 "cells": [
  {
   "cell_type": "markdown",
   "id": "c0299da8",
   "metadata": {},
   "source": [
    "## 导入包"
   ]
  },
  {
   "cell_type": "code",
   "execution_count": 1,
   "id": "dd5fb4a2",
   "metadata": {},
   "outputs": [],
   "source": [
    "from sklearn.model_selection import GridSearchCV\n",
    "from sklearn.linear_model import LogisticRegression\n",
    "from sklearn.model_selection import cross_val_score\n",
    "from sklearn.model_selection import train_test_split\n",
    "from imblearn.over_sampling import RandomOverSampler\n",
    "import matplotlib.pyplot as plt\n",
    "import pandas as pd\n",
    "import numpy as np\n",
    "from my_tools import *"
   ]
  },
  {
   "cell_type": "code",
   "execution_count": 2,
   "id": "60df1fb5",
   "metadata": {},
   "outputs": [],
   "source": [
    "import warnings\n",
    "warnings.filterwarnings(\"ignore\")"
   ]
  },
  {
   "cell_type": "code",
   "execution_count": 3,
   "id": "2c8d150a",
   "metadata": {
    "scrolled": false
   },
   "outputs": [],
   "source": [
    "jibing_res = pd.read_excel(\"./jibing_feature_res_final.xlsx\")\n",
    "jibing = pd.read_excel(\"./jibing_feature_final.xlsx\")"
   ]
  },
  {
   "cell_type": "code",
   "execution_count": 4,
   "id": "34b60466",
   "metadata": {},
   "outputs": [
    {
     "data": {
      "text/html": [
       "<div>\n",
       "<style scoped>\n",
       "    .dataframe tbody tr th:only-of-type {\n",
       "        vertical-align: middle;\n",
       "    }\n",
       "\n",
       "    .dataframe tbody tr th {\n",
       "        vertical-align: top;\n",
       "    }\n",
       "\n",
       "    .dataframe thead th {\n",
       "        text-align: right;\n",
       "    }\n",
       "</style>\n",
       "<table border=\"1\" class=\"dataframe\">\n",
       "  <thead>\n",
       "    <tr style=\"text-align: right;\">\n",
       "      <th></th>\n",
       "      <th>左右</th>\n",
       "      <th>是否外伤</th>\n",
       "      <th>症状持续时间</th>\n",
       "      <th>明显夜间痛</th>\n",
       "      <th>年龄</th>\n",
       "      <th>高血压</th>\n",
       "      <th>高血脂</th>\n",
       "      <th>2型糖尿病</th>\n",
       "      <th>吸烟与否</th>\n",
       "      <th>饮酒与否</th>\n",
       "      <th>...</th>\n",
       "      <th>腺苷脱氨酶ADA</th>\n",
       "      <th>果糖胺</th>\n",
       "      <th>肌酸激酶</th>\n",
       "      <th>α-L-盐藻糖苷酶</th>\n",
       "      <th>乳酸</th>\n",
       "      <th>淀粉酶</th>\n",
       "      <th>同型半胱氨酸</th>\n",
       "      <th>铁</th>\n",
       "      <th>总铁结合力</th>\n",
       "      <th>血型</th>\n",
       "    </tr>\n",
       "  </thead>\n",
       "  <tbody>\n",
       "    <tr>\n",
       "      <th>0</th>\n",
       "      <td>1</td>\n",
       "      <td>0</td>\n",
       "      <td>3</td>\n",
       "      <td>0</td>\n",
       "      <td>49</td>\n",
       "      <td>0</td>\n",
       "      <td>0</td>\n",
       "      <td>0</td>\n",
       "      <td>1</td>\n",
       "      <td>1</td>\n",
       "      <td>...</td>\n",
       "      <td>22.0</td>\n",
       "      <td>1.42</td>\n",
       "      <td>43.0</td>\n",
       "      <td>22.0</td>\n",
       "      <td>1.10</td>\n",
       "      <td>86.0</td>\n",
       "      <td>12.2</td>\n",
       "      <td>8.0</td>\n",
       "      <td>38.9</td>\n",
       "      <td>3</td>\n",
       "    </tr>\n",
       "    <tr>\n",
       "      <th>1</th>\n",
       "      <td>1</td>\n",
       "      <td>0</td>\n",
       "      <td>4</td>\n",
       "      <td>0</td>\n",
       "      <td>45</td>\n",
       "      <td>0</td>\n",
       "      <td>0</td>\n",
       "      <td>0</td>\n",
       "      <td>0</td>\n",
       "      <td>0</td>\n",
       "      <td>...</td>\n",
       "      <td>12.0</td>\n",
       "      <td>1.94</td>\n",
       "      <td>104.0</td>\n",
       "      <td>25.6</td>\n",
       "      <td>2.12</td>\n",
       "      <td>98.0</td>\n",
       "      <td>16.8</td>\n",
       "      <td>18.3</td>\n",
       "      <td>47.6</td>\n",
       "      <td>3</td>\n",
       "    </tr>\n",
       "    <tr>\n",
       "      <th>2</th>\n",
       "      <td>1</td>\n",
       "      <td>0</td>\n",
       "      <td>4</td>\n",
       "      <td>1</td>\n",
       "      <td>63</td>\n",
       "      <td>0</td>\n",
       "      <td>0</td>\n",
       "      <td>0</td>\n",
       "      <td>0</td>\n",
       "      <td>0</td>\n",
       "      <td>...</td>\n",
       "      <td>11.0</td>\n",
       "      <td>1.94</td>\n",
       "      <td>115.0</td>\n",
       "      <td>21.0</td>\n",
       "      <td>0.80</td>\n",
       "      <td>69.0</td>\n",
       "      <td>10.8</td>\n",
       "      <td>15.8</td>\n",
       "      <td>54.2</td>\n",
       "      <td>0</td>\n",
       "    </tr>\n",
       "    <tr>\n",
       "      <th>3</th>\n",
       "      <td>1</td>\n",
       "      <td>0</td>\n",
       "      <td>3</td>\n",
       "      <td>0</td>\n",
       "      <td>65</td>\n",
       "      <td>0</td>\n",
       "      <td>0</td>\n",
       "      <td>0</td>\n",
       "      <td>0</td>\n",
       "      <td>0</td>\n",
       "      <td>...</td>\n",
       "      <td>19.0</td>\n",
       "      <td>2.39</td>\n",
       "      <td>141.0</td>\n",
       "      <td>28.0</td>\n",
       "      <td>1.50</td>\n",
       "      <td>67.0</td>\n",
       "      <td>18.5</td>\n",
       "      <td>20.4</td>\n",
       "      <td>50.8</td>\n",
       "      <td>0</td>\n",
       "    </tr>\n",
       "    <tr>\n",
       "      <th>4</th>\n",
       "      <td>1</td>\n",
       "      <td>0</td>\n",
       "      <td>4</td>\n",
       "      <td>0</td>\n",
       "      <td>65</td>\n",
       "      <td>1</td>\n",
       "      <td>0</td>\n",
       "      <td>0</td>\n",
       "      <td>0</td>\n",
       "      <td>0</td>\n",
       "      <td>...</td>\n",
       "      <td>11.0</td>\n",
       "      <td>2.22</td>\n",
       "      <td>78.0</td>\n",
       "      <td>26.0</td>\n",
       "      <td>1.80</td>\n",
       "      <td>82.0</td>\n",
       "      <td>9.3</td>\n",
       "      <td>12.0</td>\n",
       "      <td>53.6</td>\n",
       "      <td>2</td>\n",
       "    </tr>\n",
       "  </tbody>\n",
       "</table>\n",
       "<p>5 rows × 60 columns</p>\n",
       "</div>"
      ],
      "text/plain": [
       "   左右  是否外伤  症状持续时间  明显夜间痛  年龄  高血压  高血脂  2型糖尿病  吸烟与否  饮酒与否  ...  腺苷脱氨酶ADA  \\\n",
       "0   1     0       3      0  49    0    0      0     1     1  ...      22.0   \n",
       "1   1     0       4      0  45    0    0      0     0     0  ...      12.0   \n",
       "2   1     0       4      1  63    0    0      0     0     0  ...      11.0   \n",
       "3   1     0       3      0  65    0    0      0     0     0  ...      19.0   \n",
       "4   1     0       4      0  65    1    0      0     0     0  ...      11.0   \n",
       "\n",
       "    果糖胺   肌酸激酶  α-L-盐藻糖苷酶    乳酸   淀粉酶  同型半胱氨酸     铁  总铁结合力  血型  \n",
       "0  1.42   43.0       22.0  1.10  86.0    12.2   8.0   38.9   3  \n",
       "1  1.94  104.0       25.6  2.12  98.0    16.8  18.3   47.6   3  \n",
       "2  1.94  115.0       21.0  0.80  69.0    10.8  15.8   54.2   0  \n",
       "3  2.39  141.0       28.0  1.50  67.0    18.5  20.4   50.8   0  \n",
       "4  2.22   78.0       26.0  1.80  82.0     9.3  12.0   53.6   2  \n",
       "\n",
       "[5 rows x 60 columns]"
      ]
     },
     "execution_count": 4,
     "metadata": {},
     "output_type": "execute_result"
    }
   ],
   "source": [
    "jibing.head()"
   ]
  },
  {
   "cell_type": "code",
   "execution_count": 5,
   "id": "491ee4f0",
   "metadata": {},
   "outputs": [
    {
     "data": {
      "text/html": [
       "<div>\n",
       "<style scoped>\n",
       "    .dataframe tbody tr th:only-of-type {\n",
       "        vertical-align: middle;\n",
       "    }\n",
       "\n",
       "    .dataframe tbody tr th {\n",
       "        vertical-align: top;\n",
       "    }\n",
       "\n",
       "    .dataframe thead th {\n",
       "        text-align: right;\n",
       "    }\n",
       "</style>\n",
       "<table border=\"1\" class=\"dataframe\">\n",
       "  <thead>\n",
       "    <tr style=\"text-align: right;\">\n",
       "      <th></th>\n",
       "      <th>结果</th>\n",
       "    </tr>\n",
       "  </thead>\n",
       "  <tbody>\n",
       "    <tr>\n",
       "      <th>0</th>\n",
       "      <td>0</td>\n",
       "    </tr>\n",
       "    <tr>\n",
       "      <th>1</th>\n",
       "      <td>0</td>\n",
       "    </tr>\n",
       "    <tr>\n",
       "      <th>2</th>\n",
       "      <td>0</td>\n",
       "    </tr>\n",
       "    <tr>\n",
       "      <th>3</th>\n",
       "      <td>1</td>\n",
       "    </tr>\n",
       "    <tr>\n",
       "      <th>4</th>\n",
       "      <td>0</td>\n",
       "    </tr>\n",
       "  </tbody>\n",
       "</table>\n",
       "</div>"
      ],
      "text/plain": [
       "   结果\n",
       "0   0\n",
       "1   0\n",
       "2   0\n",
       "3   1\n",
       "4   0"
      ]
     },
     "execution_count": 5,
     "metadata": {},
     "output_type": "execute_result"
    }
   ],
   "source": [
    "jibing_res.head()"
   ]
  },
  {
   "cell_type": "markdown",
   "id": "7ec77a87",
   "metadata": {},
   "source": [
    "### 归一化"
   ]
  },
  {
   "cell_type": "code",
   "execution_count": 6,
   "id": "d699a557",
   "metadata": {},
   "outputs": [],
   "source": [
    "jibing = guiyihua(jibing)"
   ]
  },
  {
   "cell_type": "markdown",
   "id": "c33abf71",
   "metadata": {},
   "source": [
    "### 标准化"
   ]
  },
  {
   "cell_type": "code",
   "execution_count": 7,
   "id": "27bc45a8",
   "metadata": {},
   "outputs": [],
   "source": [
    "jibing = biaozhunhua(jibing)"
   ]
  },
  {
   "cell_type": "code",
   "execution_count": 8,
   "id": "7c42a13b",
   "metadata": {
    "scrolled": false
   },
   "outputs": [
    {
     "data": {
      "text/plain": [
       "左右               1.000000\n",
       "是否外伤             0.000000\n",
       "症状持续时间           3.000000\n",
       "明显夜间痛            0.000000\n",
       "年龄              -0.782967\n",
       "高血压              0.000000\n",
       "高血脂              0.000000\n",
       "2型糖尿病            0.000000\n",
       "吸烟与否             1.000000\n",
       "饮酒与否             2.220159\n",
       "红细胞计数*10^12/L   -0.100346\n",
       "血红蛋白            -1.062727\n",
       "红细胞压积           -0.712083\n",
       "血小板计数            0.601403\n",
       "血小板压积           -0.018775\n",
       "总蛋白g/L           1.362433\n",
       "白蛋白g/L           0.504105\n",
       "球蛋白g/L           1.402628\n",
       "白球比             -0.742195\n",
       "AST天门冬氨酸氨基转移酶   -0.776387\n",
       "碱性磷酸酶           -0.836542\n",
       "谷氨酸转肽酶          -0.425771\n",
       "AST:ALT          0.210464\n",
       "总胆红素            -0.818293\n",
       "直接胆红素            0.595279\n",
       "间接胆红素           -1.230900\n",
       "钾               -0.317774\n",
       "钠               -0.887191\n",
       "氯               -0.210961\n",
       "钙                0.477400\n",
       "磷                2.182514\n",
       "镁                1.032615\n",
       "葡萄糖             -0.271927\n",
       "肌酐              -0.506974\n",
       "尿素              -1.347595\n",
       "尿酸              -0.536631\n",
       "甘油三酯            -0.140851\n",
       "总胆固醇            -0.737608\n",
       "H高密度胆固醇         -0.926010\n",
       "L低密度胆固醇         -0.150892\n",
       "载脂蛋白A1          -0.857419\n",
       "载脂蛋白B           -0.069834\n",
       "载脂蛋白E mg/l      -0.420783\n",
       "aPoB/aPoA1       0.128310\n",
       "脂蛋白小a            0.020888\n",
       "乳酸脱氢酶LDH        -0.803781\n",
       "β-2微球蛋白         -0.524135\n",
       "胆碱酯酶            -0.251662\n",
       "前白蛋白mg/l        -0.671292\n",
       "总胆汁酸            -0.675483\n",
       "腺苷脱氨酶ADA         3.084870\n",
       "果糖胺             -0.136984\n",
       "肌酸激酶            -0.189276\n",
       "α-L-盐藻糖苷酶       -0.073237\n",
       "乳酸              -0.785344\n",
       "淀粉酶              0.821117\n",
       "同型半胱氨酸          -0.030360\n",
       "铁               -1.592012\n",
       "总铁结合力           -1.739854\n",
       "血型               3.000000\n",
       "Name: 0, dtype: float64"
      ]
     },
     "execution_count": 8,
     "metadata": {},
     "output_type": "execute_result"
    }
   ],
   "source": [
    "jibing.iloc[0]"
   ]
  },
  {
   "cell_type": "markdown",
   "id": "fcb167e3",
   "metadata": {},
   "source": [
    "### 要调的参数\n",
    "- penalty：惩罚项，L1 正则化和 L2 正则化。\n",
    "L2 正则化通常会导致模型的参数值变小，使得模型的决策边界会更平滑。它也可以帮助防止过拟合。所以这里选择l2 正则化\n",
    "- c:正则化系数的倒数\n",
    "- 对于l2 正则化，可以选择 newton-cg，lbfgs，saga\n",
    "\n",
    "  saga:随机平均梯度下降\n",
    "  \n",
    "  newton-cg:类似于牛顿法\n",
    "  \n",
    "  lbfgs:一种梯度下降的方法"
   ]
  },
  {
   "cell_type": "markdown",
   "id": "a236c1d4",
   "metadata": {},
   "source": [
    "### 确定用于网格搜索的字典"
   ]
  },
  {
   "cell_type": "code",
   "execution_count": 9,
   "id": "79435646",
   "metadata": {},
   "outputs": [],
   "source": [
    "param_grid = {'C': [0.001, 0.01, 0.1, 1, 10, 100],\n",
    "              'solver': ['newton-cg', 'saga','lbfgs']}"
   ]
  },
  {
   "cell_type": "markdown",
   "id": "3effb00d",
   "metadata": {},
   "source": [
    "### 创建模型并进行网格搜索"
   ]
  },
  {
   "cell_type": "code",
   "execution_count": 10,
   "id": "3c16e62d",
   "metadata": {},
   "outputs": [],
   "source": [
    "logistic_regression = LogisticRegression(random_state=30)\n",
    "grid_search = GridSearchCV(estimator=logistic_regression, param_grid=param_grid, cv=5)"
   ]
  },
  {
   "cell_type": "code",
   "execution_count": 11,
   "id": "76110887",
   "metadata": {},
   "outputs": [
    {
     "data": {
      "text/plain": [
       "GridSearchCV(cv=5, estimator=LogisticRegression(random_state=30),\n",
       "             param_grid={'C': [0.001, 0.01, 0.1, 1, 10, 100],\n",
       "                         'solver': ['newton-cg', 'saga', 'lbfgs']})"
      ]
     },
     "execution_count": 11,
     "metadata": {},
     "output_type": "execute_result"
    }
   ],
   "source": [
    "grid_search.fit(jibing, jibing_res)"
   ]
  },
  {
   "cell_type": "markdown",
   "id": "f3a46abe",
   "metadata": {},
   "source": [
    "### 获取最佳参数\n",
    "#### 牛顿法更加适合这个模型"
   ]
  },
  {
   "cell_type": "code",
   "execution_count": 12,
   "id": "e1536f60",
   "metadata": {},
   "outputs": [
    {
     "name": "stdout",
     "output_type": "stream",
     "text": [
      "c=0.001,solver=newton-cg\n"
     ]
    }
   ],
   "source": [
    "c = grid_search.best_params_['C']\n",
    "solver = grid_search.best_params_['solver']\n",
    "print(\"c={},solver={}\".format(c,solver))"
   ]
  },
  {
   "cell_type": "markdown",
   "id": "2b9fc7eb",
   "metadata": {},
   "source": [
    "### 训练"
   ]
  },
  {
   "cell_type": "code",
   "execution_count": 13,
   "id": "f6a11265",
   "metadata": {},
   "outputs": [
    {
     "name": "stdout",
     "output_type": "stream",
     "text": [
      "#######################逻辑回归#######################\n",
      "+-----------+--------+-----+\n",
      "| precision | recall |  f1 |\n",
      "+-----------+--------+-----+\n",
      "|    0.0    |  0.0   | 0.0 |\n",
      "+-----------+--------+-----+\n"
     ]
    }
   ],
   "source": [
    "Xtrain,Xtest,Ytrain,Ytest = train_test_split(jibing,jibing_res,test_size=0.3)\n",
    "clf = LogisticRegression(C=c, solver=solver,random_state=30)\n",
    "clf.fit(Xtrain, Ytrain)\n",
    "# 预测\n",
    "y_pre = clf.predict(Xtest)\n",
    "metrics_ = res_metrics(Ytest,y_pre,\"逻辑回归\")"
   ]
  },
  {
   "cell_type": "markdown",
   "id": "51c85c20",
   "metadata": {},
   "source": [
    "### 这中结果可能是样本不均衡导致的"
   ]
  },
  {
   "cell_type": "code",
   "execution_count": 14,
   "id": "041dfa9d",
   "metadata": {},
   "outputs": [
    {
     "name": "stdout",
     "output_type": "stream",
     "text": [
      "测试标签中有0个阳性，预测的样本中有64个阳性。\n"
     ]
    }
   ],
   "source": [
    "print(\"测试标签中有{}个阳性，预测的样本中有{}个阳性。\".format(y_pre.sum(),Ytest[\"结果\"].sum()))"
   ]
  },
  {
   "cell_type": "markdown",
   "id": "dd2468b3",
   "metadata": {},
   "source": [
    "### 一个阳性也没有检测出来"
   ]
  },
  {
   "cell_type": "markdown",
   "id": "d885880c",
   "metadata": {},
   "source": [
    "## 为解决样本不均衡问题\n",
    "## 使用 RandomOverSampler 补充数据"
   ]
  },
  {
   "cell_type": "code",
   "execution_count": 15,
   "id": "4c0494bd",
   "metadata": {
    "scrolled": true
   },
   "outputs": [],
   "source": [
    "f1_list = []\n",
    "sampling_strategy_list = []\n",
    "for rot in np.linspace(0.5,1,10):\n",
    "    # 过采样\n",
    "    sampler = RandomOverSampler(sampling_strategy=rot, random_state=42)\n",
    "    X_resampled, y_resampled = sampler.fit_resample(jibing,jibing_res)\n",
    "    Xtrain,Xtest,Ytrain,Ytest = train_test_split(X_resampled,y_resampled,test_size=0.2)\n",
    "    # 训练，拟合\n",
    "    clf = LogisticRegression(random_state=30)\n",
    "    clf.fit(Xtrain, Ytrain)\n",
    "    # 预测\n",
    "    y_pre = clf.predict(Xtest)\n",
    "    metrics_ = res_metrics(Ytest,y_pre,\"调参\")\n",
    "    # 添加到列表中\n",
    "    sampling_strategy_list.append(rot)\n",
    "    f1_list.append(metrics_[\"f1-score\"])"
   ]
  },
  {
   "cell_type": "code",
   "execution_count": 16,
   "id": "4bcb56e4",
   "metadata": {},
   "outputs": [
    {
     "data": {
      "image/png": "[encoded data removed]",
      "text/plain": [
       "<Figure size 640x480 with 1 Axes>"
      ]
     },
     "metadata": {},
     "output_type": "display_data"
    }
   ],
   "source": [
    "zhexiantu(sampling_strategy_list,f1_list,\"sampling_strategy - F1-score\\nbest_f1 = {}\".format(max(f1_list)))"
   ]
  },
  {
   "cell_type": "markdown",
   "id": "ada1ce53",
   "metadata": {},
   "source": [
    "### 查看曲线"
   ]
  },
  {
   "cell_type": "code",
   "execution_count": 17,
   "id": "e750f234",
   "metadata": {},
   "outputs": [
    {
     "name": "stdout",
     "output_type": "stream",
     "text": [
      "#####################未调参的逻辑回归#####################\n",
      "+--------------------+--------------------+-------+\n",
      "|     precision      |       recall       |   f1  |\n",
      "+--------------------+--------------------+-------+\n",
      "| 0.6310679611650486 | 0.6190476190476191 | 0.625 |\n",
      "+--------------------+--------------------+-------+\n"
     ]
    }
   ],
   "source": [
    "clf = LogisticRegression(random_state=30)\n",
    "sampler = RandomOverSampler(sampling_strategy=1, random_state=42)\n",
    "X_resampled, y_resampled = sampler.fit_resample(jibing,jibing_res)\n",
    "Xtrain,Xtest,Ytrain,Ytest = train_test_split(X_resampled,y_resampled,test_size=0.3)\n",
    "# 训练，拟合\n",
    "clf = LogisticRegression(random_state=42)\n",
    "clf.fit(Xtrain, Ytrain)\n",
    "# 预测\n",
    "y_pre = clf.predict(Xtest)\n",
    "metrics_ = res_metrics(Ytest,y_pre,\"调参\")\n",
    "# 添加到列表中\n",
    "sampling_strategy_list.append(rot)\n",
    "f1_list.append(metrics_[\"f1-score\"])\n",
    "clf.fit(Xtrain, Ytrain)\n",
    "y_pre = clf.predict(Xtest)\n",
    "metrics_ = res_metrics(Ytest,y_pre,\"未调参的逻辑回归\")"
   ]
  },
  {
   "cell_type": "markdown",
   "id": "103288da",
   "metadata": {},
   "source": [
    "### 让两类标签数量相同的时候可以更好地学习阳性患者的一些特征"
   ]
  },
  {
   "cell_type": "markdown",
   "id": "1c1f3b2d",
   "metadata": {},
   "source": [
    "### 下面进行网格搜索，寻找最佳的参数"
   ]
  },
  {
   "cell_type": "markdown",
   "id": "9ad983bb",
   "metadata": {},
   "source": [
    "### 要调的参数\n",
    "- penalty：惩罚项，L1 正则化和 L2 正则化。\n",
    "L2 正则化通常会导致模型的参数值变小，使得模型的决策边界会更平滑。它也可以帮助防止过拟合。所以这里选择l2 正则化\n",
    "- c:正则化系数的倒数\n",
    "- 对于l2 正则化，可以选择 newton-cg，lbfgs，saga\n",
    "\n",
    "  saga:随机平均梯度下降\n",
    "  \n",
    "  newton-cg:类似于牛顿法\n",
    "  \n",
    "  lbfgs:一种梯度下降的方法"
   ]
  },
  {
   "cell_type": "code",
   "execution_count": 18,
   "id": "aa7cf8c1",
   "metadata": {},
   "outputs": [],
   "source": [
    "# 过采样\n",
    "sampler = RandomOverSampler(sampling_strategy=1, random_state=42)\n",
    "X_resampled, y_resampled = sampler.fit_resample(jibing,jibing_res)\n",
    "Xtrain,Xtest,Ytrain,Ytest = train_test_split(X_resampled,y_resampled,test_size=0.3)"
   ]
  },
  {
   "cell_type": "markdown",
   "id": "f6e5ec05",
   "metadata": {},
   "source": [
    "### 确定用于网格搜索的字典"
   ]
  },
  {
   "cell_type": "code",
   "execution_count": 19,
   "id": "0b0799ad",
   "metadata": {},
   "outputs": [],
   "source": [
    "param_grid = {'C': [0.001, 0.01, 0.1, 1, 10, 100],\n",
    "              'solver': ['newton-cg', 'saga','lbfgs']}"
   ]
  },
  {
   "cell_type": "markdown",
   "id": "318244ef",
   "metadata": {},
   "source": [
    "### 创建模型并进行网格搜索"
   ]
  },
  {
   "cell_type": "code",
   "execution_count": 20,
   "id": "507782a4",
   "metadata": {},
   "outputs": [],
   "source": [
    "logistic_regression = LogisticRegression(random_state=30)\n",
    "grid_search = GridSearchCV(estimator=logistic_regression, param_grid=param_grid, cv=5)"
   ]
  },
  {
   "cell_type": "code",
   "execution_count": 21,
   "id": "69eb1918",
   "metadata": {},
   "outputs": [
    {
     "data": {
      "text/plain": [
       "GridSearchCV(cv=5, estimator=LogisticRegression(random_state=30),\n",
       "             param_grid={'C': [0.001, 0.01, 0.1, 1, 10, 100],\n",
       "                         'solver': ['newton-cg', 'saga', 'lbfgs']})"
      ]
     },
     "execution_count": 21,
     "metadata": {},
     "output_type": "execute_result"
    }
   ],
   "source": [
    "grid_search.fit(X_resampled, y_resampled)"
   ]
  },
  {
   "cell_type": "markdown",
   "id": "d200e514",
   "metadata": {},
   "source": [
    "### 获取最佳参数\n",
    "#### 牛顿法更加适合这个模型"
   ]
  },
  {
   "cell_type": "code",
   "execution_count": 22,
   "id": "d2d67a42",
   "metadata": {},
   "outputs": [
    {
     "name": "stdout",
     "output_type": "stream",
     "text": [
      "c=100,solver=newton-cg\n"
     ]
    }
   ],
   "source": [
    "C = grid_search.best_params_['C']\n",
    "solver = grid_search.best_params_['solver']\n",
    "print(\"c={},solver={}\".format(C,solver))"
   ]
  },
  {
   "cell_type": "code",
   "execution_count": 23,
   "id": "94305d62",
   "metadata": {},
   "outputs": [
    {
     "name": "stdout",
     "output_type": "stream",
     "text": [
      "#####################调参后的逻辑回归#####################\n",
      "+-------------------+--------------------+--------------------+\n",
      "|     precision     |       recall       |         f1         |\n",
      "+-------------------+--------------------+--------------------+\n",
      "| 0.669047619047619 | 0.6444954128440367 | 0.6565420560747663 |\n",
      "+-------------------+--------------------+--------------------+\n"
     ]
    }
   ],
   "source": [
    "# 训练，拟合\n",
    "clf = LogisticRegression(C=C,solver=solver,random_state=42)\n",
    "clf.fit(Xtrain, Ytrain)\n",
    "y_pre = clf.predict(Xtest)\n",
    "metrics_ = res_metrics(Ytest,y_pre,\"调参后的逻辑回归\")"
   ]
  },
  {
   "cell_type": "markdown",
   "id": "d89013d0",
   "metadata": {},
   "source": [
    "### f1-score 达到了 0.65\n",
    "### f1-score 比调参前高了0.02"
   ]
  }
 ],
 "metadata": {
  "kernelspec": {
   "display_name": "Python 3 (ipykernel)",
   "language": "python",
   "name": "python3"
  },
  "language_info": {
   "codemirror_mode": {
    "name": "ipython",
    "version": 3
   },
   "file_extension": ".py",
   "mimetype": "text/x-python",
   "name": "python",
   "nbconvert_exporter": "python",
   "pygments_lexer": "ipython3",
   "version": "3.7.0"
  }
 },
 "nbformat": 4,
 "nbformat_minor": 5
}
