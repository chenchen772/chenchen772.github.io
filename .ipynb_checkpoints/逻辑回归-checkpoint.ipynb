{
 "cells": [
  {
   "cell_type": "markdown",
   "id": "c0299da8",
   "metadata": {},
   "source": [
    "## 导入包"
   ]
  },
  {
   "cell_type": "code",
   "execution_count": 1,
   "id": "dd5fb4a2",
   "metadata": {},
   "outputs": [],
   "source": [
    "from sklearn.model_selection import GridSearchCV\n",
    "from sklearn.linear_model import LogisticRegression\n",
    "from sklearn.model_selection import cross_val_score\n",
    "from sklearn.model_selection import train_test_split\n",
    "import matplotlib.pyplot as plt\n",
    "import pandas as pd\n",
    "import numpy as np\n",
    "from my_tools import *"
   ]
  },
  {
   "cell_type": "code",
   "execution_count": 2,
   "id": "60df1fb5",
   "metadata": {},
   "outputs": [],
   "source": [
    "import warnings\n",
    "warnings.filterwarnings(\"ignore\")"
   ]
  },
  {
   "cell_type": "code",
   "execution_count": 3,
   "id": "2c8d150a",
   "metadata": {
    "scrolled": false
   },
   "outputs": [],
   "source": [
    "jibing_res = pd.read_excel(\"./jibing_feature_res_final.xlsx\")\n",
    "jibing = pd.read_excel(\"./jibing_feature_final.xlsx\")"
   ]
  },
  {
   "cell_type": "code",
   "execution_count": 4,
   "id": "34b60466",
   "metadata": {},
   "outputs": [
    {
     "data": {
      "text/html": [
       "<div>\n",
       "<style scoped>\n",
       "    .dataframe tbody tr th:only-of-type {\n",
       "        vertical-align: middle;\n",
       "    }\n",
       "\n",
       "    .dataframe tbody tr th {\n",
       "        vertical-align: top;\n",
       "    }\n",
       "\n",
       "    .dataframe thead th {\n",
       "        text-align: right;\n",
       "    }\n",
       "</style>\n",
       "<table border=\"1\" class=\"dataframe\">\n",
       "  <thead>\n",
       "    <tr style=\"text-align: right;\">\n",
       "      <th></th>\n",
       "      <th>左右</th>\n",
       "      <th>是否外伤</th>\n",
       "      <th>症状持续时间</th>\n",
       "      <th>明显夜间痛</th>\n",
       "      <th>年龄</th>\n",
       "      <th>高血压</th>\n",
       "      <th>高血脂</th>\n",
       "      <th>2型糖尿病</th>\n",
       "      <th>吸烟与否</th>\n",
       "      <th>饮酒与否</th>\n",
       "      <th>...</th>\n",
       "      <th>腺苷脱氨酶ADA</th>\n",
       "      <th>果糖胺</th>\n",
       "      <th>肌酸激酶</th>\n",
       "      <th>α-L-盐藻糖苷酶</th>\n",
       "      <th>乳酸</th>\n",
       "      <th>淀粉酶</th>\n",
       "      <th>同型半胱氨酸</th>\n",
       "      <th>铁</th>\n",
       "      <th>总铁结合力</th>\n",
       "      <th>血型</th>\n",
       "    </tr>\n",
       "  </thead>\n",
       "  <tbody>\n",
       "    <tr>\n",
       "      <th>0</th>\n",
       "      <td>1</td>\n",
       "      <td>0</td>\n",
       "      <td>3</td>\n",
       "      <td>0</td>\n",
       "      <td>51</td>\n",
       "      <td>0</td>\n",
       "      <td>0</td>\n",
       "      <td>0</td>\n",
       "      <td>1</td>\n",
       "      <td>0</td>\n",
       "      <td>...</td>\n",
       "      <td>10.0</td>\n",
       "      <td>1.97</td>\n",
       "      <td>62.0</td>\n",
       "      <td>18.0</td>\n",
       "      <td>1.4</td>\n",
       "      <td>80.0</td>\n",
       "      <td>23.0</td>\n",
       "      <td>14.2</td>\n",
       "      <td>51.6</td>\n",
       "      <td>0</td>\n",
       "    </tr>\n",
       "    <tr>\n",
       "      <th>1</th>\n",
       "      <td>1</td>\n",
       "      <td>0</td>\n",
       "      <td>4</td>\n",
       "      <td>0</td>\n",
       "      <td>69</td>\n",
       "      <td>0</td>\n",
       "      <td>0</td>\n",
       "      <td>0</td>\n",
       "      <td>0</td>\n",
       "      <td>1</td>\n",
       "      <td>...</td>\n",
       "      <td>10.0</td>\n",
       "      <td>1.71</td>\n",
       "      <td>72.0</td>\n",
       "      <td>20.0</td>\n",
       "      <td>2.5</td>\n",
       "      <td>103.0</td>\n",
       "      <td>10.3</td>\n",
       "      <td>6.5</td>\n",
       "      <td>57.1</td>\n",
       "      <td>2</td>\n",
       "    </tr>\n",
       "    <tr>\n",
       "      <th>2</th>\n",
       "      <td>1</td>\n",
       "      <td>0</td>\n",
       "      <td>4</td>\n",
       "      <td>0</td>\n",
       "      <td>30</td>\n",
       "      <td>0</td>\n",
       "      <td>0</td>\n",
       "      <td>0</td>\n",
       "      <td>0</td>\n",
       "      <td>0</td>\n",
       "      <td>...</td>\n",
       "      <td>9.0</td>\n",
       "      <td>1.67</td>\n",
       "      <td>32.0</td>\n",
       "      <td>17.0</td>\n",
       "      <td>1.3</td>\n",
       "      <td>52.0</td>\n",
       "      <td>10.7</td>\n",
       "      <td>25.3</td>\n",
       "      <td>64.1</td>\n",
       "      <td>0</td>\n",
       "    </tr>\n",
       "    <tr>\n",
       "      <th>3</th>\n",
       "      <td>1</td>\n",
       "      <td>0</td>\n",
       "      <td>4</td>\n",
       "      <td>1</td>\n",
       "      <td>59</td>\n",
       "      <td>0</td>\n",
       "      <td>0</td>\n",
       "      <td>0</td>\n",
       "      <td>1</td>\n",
       "      <td>0</td>\n",
       "      <td>...</td>\n",
       "      <td>8.0</td>\n",
       "      <td>2.05</td>\n",
       "      <td>132.0</td>\n",
       "      <td>16.0</td>\n",
       "      <td>1.6</td>\n",
       "      <td>55.0</td>\n",
       "      <td>21.2</td>\n",
       "      <td>35.6</td>\n",
       "      <td>71.3</td>\n",
       "      <td>0</td>\n",
       "    </tr>\n",
       "    <tr>\n",
       "      <th>4</th>\n",
       "      <td>1</td>\n",
       "      <td>0</td>\n",
       "      <td>4</td>\n",
       "      <td>1</td>\n",
       "      <td>52</td>\n",
       "      <td>0</td>\n",
       "      <td>0</td>\n",
       "      <td>0</td>\n",
       "      <td>1</td>\n",
       "      <td>0</td>\n",
       "      <td>...</td>\n",
       "      <td>10.0</td>\n",
       "      <td>1.72</td>\n",
       "      <td>81.0</td>\n",
       "      <td>22.0</td>\n",
       "      <td>1.2</td>\n",
       "      <td>81.0</td>\n",
       "      <td>14.8</td>\n",
       "      <td>20.1</td>\n",
       "      <td>61.4</td>\n",
       "      <td>3</td>\n",
       "    </tr>\n",
       "  </tbody>\n",
       "</table>\n",
       "<p>5 rows × 60 columns</p>\n",
       "</div>"
      ],
      "text/plain": [
       "   左右  是否外伤  症状持续时间  明显夜间痛  年龄  高血压  高血脂  2型糖尿病  吸烟与否  饮酒与否  ...  腺苷脱氨酶ADA  \\\n",
       "0   1     0       3      0  51    0    0      0     1     0  ...      10.0   \n",
       "1   1     0       4      0  69    0    0      0     0     1  ...      10.0   \n",
       "2   1     0       4      0  30    0    0      0     0     0  ...       9.0   \n",
       "3   1     0       4      1  59    0    0      0     1     0  ...       8.0   \n",
       "4   1     0       4      1  52    0    0      0     1     0  ...      10.0   \n",
       "\n",
       "    果糖胺   肌酸激酶  α-L-盐藻糖苷酶   乳酸    淀粉酶  同型半胱氨酸     铁  总铁结合力  血型  \n",
       "0  1.97   62.0       18.0  1.4   80.0    23.0  14.2   51.6   0  \n",
       "1  1.71   72.0       20.0  2.5  103.0    10.3   6.5   57.1   2  \n",
       "2  1.67   32.0       17.0  1.3   52.0    10.7  25.3   64.1   0  \n",
       "3  2.05  132.0       16.0  1.6   55.0    21.2  35.6   71.3   0  \n",
       "4  1.72   81.0       22.0  1.2   81.0    14.8  20.1   61.4   3  \n",
       "\n",
       "[5 rows x 60 columns]"
      ]
     },
     "execution_count": 4,
     "metadata": {},
     "output_type": "execute_result"
    }
   ],
   "source": [
    "jibing.head()"
   ]
  },
  {
   "cell_type": "code",
   "execution_count": 5,
   "id": "491ee4f0",
   "metadata": {},
   "outputs": [
    {
     "data": {
      "text/html": [
       "<div>\n",
       "<style scoped>\n",
       "    .dataframe tbody tr th:only-of-type {\n",
       "        vertical-align: middle;\n",
       "    }\n",
       "\n",
       "    .dataframe tbody tr th {\n",
       "        vertical-align: top;\n",
       "    }\n",
       "\n",
       "    .dataframe thead th {\n",
       "        text-align: right;\n",
       "    }\n",
       "</style>\n",
       "<table border=\"1\" class=\"dataframe\">\n",
       "  <thead>\n",
       "    <tr style=\"text-align: right;\">\n",
       "      <th></th>\n",
       "      <th>结果</th>\n",
       "    </tr>\n",
       "  </thead>\n",
       "  <tbody>\n",
       "    <tr>\n",
       "      <th>0</th>\n",
       "      <td>0</td>\n",
       "    </tr>\n",
       "    <tr>\n",
       "      <th>1</th>\n",
       "      <td>0</td>\n",
       "    </tr>\n",
       "    <tr>\n",
       "      <th>2</th>\n",
       "      <td>0</td>\n",
       "    </tr>\n",
       "    <tr>\n",
       "      <th>3</th>\n",
       "      <td>0</td>\n",
       "    </tr>\n",
       "    <tr>\n",
       "      <th>4</th>\n",
       "      <td>0</td>\n",
       "    </tr>\n",
       "  </tbody>\n",
       "</table>\n",
       "</div>"
      ],
      "text/plain": [
       "   结果\n",
       "0   0\n",
       "1   0\n",
       "2   0\n",
       "3   0\n",
       "4   0"
      ]
     },
     "execution_count": 5,
     "metadata": {},
     "output_type": "execute_result"
    }
   ],
   "source": [
    "jibing_res.head()"
   ]
  },
  {
   "cell_type": "markdown",
   "id": "7ec77a87",
   "metadata": {},
   "source": [
    "### 归一化"
   ]
  },
  {
   "cell_type": "code",
   "execution_count": 6,
   "id": "d699a557",
   "metadata": {},
   "outputs": [],
   "source": [
    "jibing = guiyihua(jibing)"
   ]
  },
  {
   "cell_type": "markdown",
   "id": "c33abf71",
   "metadata": {},
   "source": [
    "### 标准化"
   ]
  },
  {
   "cell_type": "code",
   "execution_count": 7,
   "id": "27bc45a8",
   "metadata": {},
   "outputs": [],
   "source": [
    "jibing = biaozhunhua(jibing)"
   ]
  },
  {
   "cell_type": "code",
   "execution_count": 8,
   "id": "7c42a13b",
   "metadata": {
    "scrolled": true
   },
   "outputs": [
    {
     "data": {
      "text/plain": [
       "左右               1.000000\n",
       "是否外伤             0.000000\n",
       "症状持续时间           3.000000\n",
       "明显夜间痛            0.000000\n",
       "年龄              -0.634697\n",
       "高血压              0.000000\n",
       "高血脂              0.000000\n",
       "2型糖尿病            0.000000\n",
       "吸烟与否             1.000000\n",
       "饮酒与否            -0.450418\n",
       "红细胞计数*10^12/L   -0.008759\n",
       "血红蛋白             1.057089\n",
       "红细胞压积            0.478168\n",
       "血小板计数            1.229248\n",
       "血小板压积           -0.026436\n",
       "总蛋白g/L          -0.048582\n",
       "白蛋白g/L           0.229246\n",
       "球蛋白g/L          -0.283072\n",
       "白球比              0.445628\n",
       "AST天门冬氨酸氨基转移酶   -0.533186\n",
       "碱性磷酸酶            0.655558\n",
       "谷氨酸转肽酶          -0.425771\n",
       "AST:ALT          0.572061\n",
       "总胆红素            -0.782379\n",
       "直接胆红素           -0.527825\n",
       "间接胆红素           -0.699948\n",
       "钾                0.359742\n",
       "钠                0.704446\n",
       "氯                0.971847\n",
       "钙                1.501640\n",
       "磷                0.151278\n",
       "镁               -0.633443\n",
       "葡萄糖             -0.145099\n",
       "肌酐               0.873379\n",
       "尿素               0.597646\n",
       "尿酸               0.858267\n",
       "甘油三酯            -0.475023\n",
       "总胆固醇            -0.150461\n",
       "H高密度胆固醇         -0.389568\n",
       "L低密度胆固醇         -0.005314\n",
       "载脂蛋白A1          -0.528998\n",
       "载脂蛋白B           -0.255009\n",
       "载脂蛋白E mg/l      -0.240802\n",
       "aPoB/aPoA1       0.009467\n",
       "脂蛋白小a           -0.046666\n",
       "乳酸脱氢酶LDH         0.760954\n",
       "β-2微球蛋白         -0.723697\n",
       "胆碱酯酶             0.838284\n",
       "前白蛋白mg/l         0.716193\n",
       "总胆汁酸            -0.500875\n",
       "腺苷脱氨酶ADA        -0.396096\n",
       "果糖胺             -0.010001\n",
       "肌酸激酶            -0.138369\n",
       "α-L-盐藻糖苷酶       -0.540229\n",
       "乳酸              -0.388337\n",
       "淀粉酶              0.565581\n",
       "同型半胱氨酸           1.799019\n",
       "铁               -0.579652\n",
       "总铁结合力           -0.340355\n",
       "血型               0.000000\n",
       "Name: 0, dtype: float64"
      ]
     },
     "execution_count": 8,
     "metadata": {},
     "output_type": "execute_result"
    }
   ],
   "source": [
    "jibing.iloc[0]"
   ]
  },
  {
   "cell_type": "markdown",
   "id": "fcb167e3",
   "metadata": {},
   "source": [
    "### 要调的参数\n",
    "- penalty：惩罚项，L1 正则化和 L2 正则化。\n",
    "L2 正则化通常会导致模型的参数值变小，使得模型的决策边界会更平滑。它也可以帮助防止过拟合。所以这里选择l2 正则化\n",
    "- c:正则化系数的倒数\n",
    "- 对于l2 正则化，可以选择 newton-cg，lbfgs，saga\n",
    "\n",
    "  saga:随机平均梯度下降\n",
    "  \n",
    "  newton-cg:类似于牛顿法\n",
    "  \n",
    "  lbfgs:一种梯度下降的方法"
   ]
  },
  {
   "cell_type": "markdown",
   "id": "a236c1d4",
   "metadata": {},
   "source": [
    "### 确定用于网格搜索的字典"
   ]
  },
  {
   "cell_type": "code",
   "execution_count": 9,
   "id": "79435646",
   "metadata": {},
   "outputs": [],
   "source": [
    "param_grid = {'C': [0.001, 0.01, 0.1, 1, 10, 100],\n",
    "              'solver': ['newton-cg', 'saga','lbfgs']}"
   ]
  },
  {
   "cell_type": "markdown",
   "id": "3effb00d",
   "metadata": {},
   "source": [
    "### 创建模型并进行网格搜索"
   ]
  },
  {
   "cell_type": "code",
   "execution_count": 10,
   "id": "3c16e62d",
   "metadata": {},
   "outputs": [],
   "source": [
    "logistic_regression = LogisticRegression(random_state=30)\n",
    "grid_search = GridSearchCV(estimator=logistic_regression, param_grid=param_grid, cv=5)"
   ]
  },
  {
   "cell_type": "code",
   "execution_count": 11,
   "id": "76110887",
   "metadata": {},
   "outputs": [
    {
     "data": {
      "text/plain": [
       "GridSearchCV(cv=5, estimator=LogisticRegression(random_state=30),\n",
       "             param_grid={'C': [0.001, 0.01, 0.1, 1, 10, 100],\n",
       "                         'solver': ['newton-cg', 'saga', 'lbfgs']})"
      ]
     },
     "execution_count": 11,
     "metadata": {},
     "output_type": "execute_result"
    }
   ],
   "source": [
    "grid_search.fit(jibing, jibing_res)"
   ]
  },
  {
   "cell_type": "markdown",
   "id": "f3a46abe",
   "metadata": {},
   "source": [
    "### 获取最佳参数\n",
    "#### 牛顿法更加适合这个模型"
   ]
  },
  {
   "cell_type": "code",
   "execution_count": 12,
   "id": "d9ecbb79",
   "metadata": {},
   "outputs": [
    {
     "name": "stdout",
     "output_type": "stream",
     "text": [
      "c=0.001,solver=newton-cg\n"
     ]
    }
   ],
   "source": [
    "c = grid_search.best_params_['C']\n",
    "solver = grid_search.best_params_['solver']\n",
    "print(\"c={},solver={}\".format(c,solver))"
   ]
  },
  {
   "cell_type": "code",
   "execution_count": 13,
   "id": "f6a11265",
   "metadata": {},
   "outputs": [],
   "source": [
    "clf = LogisticRegression(C=c, solver=solver,random_state=30)"
   ]
  },
  {
   "cell_type": "code",
   "execution_count": 14,
   "id": "3befff65",
   "metadata": {},
   "outputs": [
    {
     "data": {
      "text/plain": [
       "{'precision': 0.889937106918239, 'recall': 1.0, 'f1': 0.9417637271214643}"
      ]
     },
     "execution_count": 14,
     "metadata": {},
     "output_type": "execute_result"
    }
   ],
   "source": [
    "Xtrain,Xtest,Ytrain,Ytest = train_test_split(jibing,jibing_res,test_size=0.2)\n",
    "clf.fit(Xtrain, Ytrain)\n",
    "y_pre = clf.predict(Xtest)\n",
    "metrics_ = res_metrics(Ytest,y_pre)\n",
    "metrics_"
   ]
  }
 ],
 "metadata": {
  "kernelspec": {
   "display_name": "Python 3 (ipykernel)",
   "language": "python",
   "name": "python3"
  },
  "language_info": {
   "codemirror_mode": {
    "name": "ipython",
    "version": 3
   },
   "file_extension": ".py",
   "mimetype": "text/x-python",
   "name": "python",
   "nbconvert_exporter": "python",
   "pygments_lexer": "ipython3",
   "version": "3.7.0"
  }
 },
 "nbformat": 4,
 "nbformat_minor": 5
}
