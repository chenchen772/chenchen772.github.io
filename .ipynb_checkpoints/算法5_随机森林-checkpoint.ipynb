{
 "cells": [
  {
   "cell_type": "markdown",
   "id": "b9c6606a",
   "metadata": {},
   "source": [
    "# 随机森林"
   ]
  },
  {
   "cell_type": "markdown",
   "id": "52f8412e",
   "metadata": {},
   "source": [
    "### 导入包"
   ]
  },
  {
   "cell_type": "code",
   "execution_count": 1,
   "id": "73bd872f",
   "metadata": {},
   "outputs": [],
   "source": [
    "from sklearn.ensemble import RandomForestClassifier\n",
    "from sklearn.model_selection import GridSearchCV\n",
    "from sklearn.model_selection import cross_val_score\n",
    "from sklearn.preprocessing import KBinsDiscretizer\n",
    "from imblearn.over_sampling import RandomOverSampler\n",
    "from sklearn.model_selection import train_test_split\n",
    "import matplotlib.pyplot as plt\n",
    "import pandas as pd\n",
    "import numpy as np\n",
    "# 导入自己写的工具类\n",
    "from my_tools import *\n",
    "# 忽略warning\n",
    "import warnings\n",
    "warnings.filterwarnings(\"ignore\")"
   ]
  },
  {
   "cell_type": "code",
   "execution_count": 2,
   "id": "e089dd08",
   "metadata": {},
   "outputs": [],
   "source": [
    "jibing_res = pd.read_excel(\"./jibing_feature_res_final.xlsx\")\n",
    "jibing = pd.read_excel(\"./jibing_feature_final.xlsx\")"
   ]
  },
  {
   "cell_type": "markdown",
   "id": "2e993b9f",
   "metadata": {},
   "source": [
    "### 数据处理：分箱\n",
    "#### 分箱有助于让随机森林和决策树更好地学习"
   ]
  },
  {
   "cell_type": "code",
   "execution_count": 3,
   "id": "2dc93dc9",
   "metadata": {},
   "outputs": [
    {
     "name": "stdout",
     "output_type": "stream",
     "text": [
      "#####################未调参的随机森林#####################\n",
      "+--------------------+--------------------+--------------------+\n",
      "|     precision      |       recall       |         f1         |\n",
      "+--------------------+--------------------+--------------------+\n",
      "| 0.9976744186046511 | 0.9953596287703016 | 0.9965156794425087 |\n",
      "+--------------------+--------------------+--------------------+\n"
     ]
    }
   ],
   "source": [
    "col = jibing.columns.tolist()\n",
    "col = col[10:59]\n",
    "col.append(\"年龄\")\n",
    "est = KBinsDiscretizer(n_bins=67, encode='ordinal', strategy=\"kmeans\")\n",
    "est.fit(jibing[col])\n",
    "jibing[col] = est.transform(jibing[col])\n",
    "sampler = RandomOverSampler(sampling_strategy=1, random_state=42)\n",
    "jibing, jibing_res = sampler.fit_resample(jibing,jibing_res)\n",
    "Xtrain,Xtest,Ytrain,Ytest = train_test_split(jibing,jibing_res,test_size=0.2)\n",
    "clf = RandomForestClassifier(random_state=30)\n",
    "clf = clf.fit(Xtrain,Ytrain)\n",
    "y_pre = clf.predict(Xtest)\n",
    "metrics_ = res_metrics(Ytest,y_pre,\"未调参的随机森林\")"
   ]
  },
  {
   "cell_type": "markdown",
   "id": "0c11e821",
   "metadata": {},
   "source": [
    "### 网格搜索确定参数"
   ]
  },
  {
   "cell_type": "code",
   "execution_count": 4,
   "id": "da4a107f",
   "metadata": {},
   "outputs": [],
   "source": [
    "param_grid = {\n",
    "    # 森林中有多少棵决策树\n",
    "    'n_estimators':np.arange(0, 200, 40)\n",
    "    # 树的最大深度\n",
    "    ,'max_depth':np.arange(1, 20, 5)\n",
    "    # 指标 尼基 和 熵 两种\n",
    "    ,'criterion':['gini', 'entropy']\n",
    "}"
   ]
  },
  {
   "cell_type": "code",
   "execution_count": 5,
   "id": "97ad471a",
   "metadata": {
    "scrolled": false
   },
   "outputs": [
    {
     "data": {
      "text/plain": [
       "GridSearchCV(estimator=RandomForestClassifier(random_state=90),\n",
       "             param_grid={'criterion': ['gini', 'entropy'],\n",
       "                         'max_depth': array([ 1,  6, 11, 16]),\n",
       "                         'n_estimators': array([  0,  40,  80, 120, 160])})"
      ]
     },
     "execution_count": 5,
     "metadata": {},
     "output_type": "execute_result"
    }
   ],
   "source": [
    "clf = RandomForestClassifier(random_state=90)\n",
    "GS = GridSearchCV(clf,param_grid)\n",
    "GS.fit(jibing,jibing_res)"
   ]
  },
  {
   "cell_type": "markdown",
   "id": "81f787f2",
   "metadata": {},
   "source": [
    "### 确定的最佳参数为\n",
    "- gini\n",
    "- 16\n",
    "- 160"
   ]
  },
  {
   "cell_type": "code",
   "execution_count": 6,
   "id": "8865acfd",
   "metadata": {},
   "outputs": [
    {
     "data": {
      "text/plain": [
       "{'criterion': 'entropy', 'max_depth': 16, 'n_estimators': 160}"
      ]
     },
     "execution_count": 6,
     "metadata": {},
     "output_type": "execute_result"
    }
   ],
   "source": [
    "GS.best_params_"
   ]
  },
  {
   "cell_type": "markdown",
   "id": "b91859ef",
   "metadata": {},
   "source": [
    "### 构建分类器进行训练"
   ]
  },
  {
   "cell_type": "code",
   "execution_count": 7,
   "id": "7222459d",
   "metadata": {},
   "outputs": [],
   "source": [
    "rfc = RandomForestClassifier(n_estimators=160\n",
    "                             ,random_state=90\n",
    "                             ,criterion=\"entropy\"\n",
    "                             ,max_depth=16\n",
    "                            )"
   ]
  },
  {
   "cell_type": "markdown",
   "id": "4624d539",
   "metadata": {},
   "source": [
    "### 训练"
   ]
  },
  {
   "cell_type": "code",
   "execution_count": 15,
   "id": "54495b08",
   "metadata": {},
   "outputs": [],
   "source": [
    "x_train, x_test, y_train, y_test= train_test_split(jibing, jibing_res, test_size= 0.2, random_state=42)\n",
    "model = rfc.fit(x_train, y_train)\n",
    "y_pre = model.predict(x_test)"
   ]
  },
  {
   "cell_type": "code",
   "execution_count": 16,
   "id": "237c4496",
   "metadata": {},
   "outputs": [
    {
     "name": "stdout",
     "output_type": "stream",
     "text": [
      "#######################随机森林#######################\n",
      "+--------------------+--------+-------------------+\n",
      "|     precision      | recall |         f1        |\n",
      "+--------------------+--------+-------------------+\n",
      "| 0.9963369963369964 |  1.0   | 0.998165137614679 |\n",
      "+--------------------+--------+-------------------+\n"
     ]
    }
   ],
   "source": [
    "metrics_ = res_metrics(y_test,y_pre,\"随机森林\")"
   ]
  }
 ],
 "metadata": {
  "kernelspec": {
   "display_name": "Python 3 (ipykernel)",
   "language": "python",
   "name": "python3"
  },
  "language_info": {
   "codemirror_mode": {
    "name": "ipython",
    "version": 3
   },
   "file_extension": ".py",
   "mimetype": "text/x-python",
   "name": "python",
   "nbconvert_exporter": "python",
   "pygments_lexer": "ipython3",
   "version": "3.7.0"
  }
 },
 "nbformat": 4,
 "nbformat_minor": 5
}
