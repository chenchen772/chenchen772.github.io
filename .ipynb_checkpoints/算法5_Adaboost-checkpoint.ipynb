{
 "cells": [
  {
   "cell_type": "markdown",
   "id": "7f77f2d8",
   "metadata": {},
   "source": [
    "# Adaboost"
   ]
  },
  {
   "cell_type": "markdown",
   "id": "33a61c2c",
   "metadata": {},
   "source": [
    "### AdaBoost是一种迭代算法，用于提高弱分类器的准确性。\n",
    "### 基本原理是，通过构建一系列弱分类器，并将这些弱分类器集成在一起，形成一个强分类器。\n",
    "### 在每次迭代中，AdaBoost会根据上一次迭代的结果，调整各个样本的权重，\n",
    "### 使得那些被错误分类的样本在下一次迭代中得到更多的关注。"
   ]
  },
  {
   "cell_type": "code",
   "execution_count": 1,
   "id": "a0ab97ab",
   "metadata": {},
   "outputs": [],
   "source": [
    "from sklearn.model_selection import GridSearchCV\n",
    "from sklearn.model_selection import cross_val_score\n",
    "from sklearn.model_selection import train_test_split\n",
    "from sklearn.ensemble import AdaBoostClassifier\n",
    "from imblearn.over_sampling import RandomOverSampler\n",
    "import matplotlib.pyplot as plt\n",
    "import pandas as pd\n",
    "import numpy as np\n",
    "# 导入自己写的工具类\n",
    "from my_tools import *\n",
    "# 忽略warning\n",
    "import warnings\n",
    "warnings.filterwarnings(\"ignore\")"
   ]
  },
  {
   "cell_type": "markdown",
   "id": "e7a65d2b",
   "metadata": {},
   "source": [
    "### 读数据"
   ]
  },
  {
   "cell_type": "code",
   "execution_count": 2,
   "id": "787c8c17",
   "metadata": {},
   "outputs": [],
   "source": [
    "jibing_res = pd.read_excel(\"./jibing_feature_res_final.xlsx\")\n",
    "jibing = pd.read_excel(\"./jibing_feature_final.xlsx\")"
   ]
  },
  {
   "cell_type": "markdown",
   "id": "40bc8ff9",
   "metadata": {},
   "source": [
    "### 归一化"
   ]
  },
  {
   "cell_type": "code",
   "execution_count": 3,
   "id": "e000e42b",
   "metadata": {},
   "outputs": [],
   "source": [
    "jibing = guiyihua(jibing)"
   ]
  },
  {
   "cell_type": "markdown",
   "id": "540406c8",
   "metadata": {},
   "source": [
    "### 标准化"
   ]
  },
  {
   "cell_type": "code",
   "execution_count": 4,
   "id": "459b493a",
   "metadata": {},
   "outputs": [],
   "source": [
    "jibing = biaozhunhua(jibing)"
   ]
  },
  {
   "cell_type": "code",
   "execution_count": 5,
   "id": "3627b7ca",
   "metadata": {},
   "outputs": [
    {
     "name": "stdout",
     "output_type": "stream",
     "text": [
      "#####################Adaboost#####################\n",
      "+--------------------+----------------------+---------------------+\n",
      "|     precision      |        recall        |          f1         |\n",
      "+--------------------+----------------------+---------------------+\n",
      "| 0.3333333333333333 | 0.023255813953488372 | 0.04347826086956522 |\n",
      "+--------------------+----------------------+---------------------+\n"
     ]
    }
   ],
   "source": [
    "Xtrain,Xtest,Ytrain,Ytest = train_test_split(jibing,jibing_res,test_size=0.3)\n",
    "clf= AdaBoostClassifier(algorithm='SAMME')\n",
    "clf.fit(Xtrain, Ytrain)\n",
    "y_pred = clf.predict(Xtest)\n",
    "metrics_ = res_metrics(Ytest,y_pred,\"Adaboost\")"
   ]
  },
  {
   "cell_type": "markdown",
   "id": "7272e35a",
   "metadata": {},
   "source": [
    "### 划分训练集测试集\n",
    "### 解决样本不均衡的问题"
   ]
  },
  {
   "cell_type": "code",
   "execution_count": 6,
   "id": "a7c48893",
   "metadata": {},
   "outputs": [],
   "source": [
    "sampler = RandomOverSampler(sampling_strategy=1, random_state=42)\n",
    "X_resampled, y_resampled = sampler.fit_resample(jibing,jibing_res)\n",
    "Xtrain,Xtest,Ytrain,Ytest = train_test_split(X_resampled,y_resampled,test_size=0.3)"
   ]
  },
  {
   "cell_type": "markdown",
   "id": "ff0a7c3d",
   "metadata": {},
   "source": [
    "### 训练"
   ]
  },
  {
   "cell_type": "code",
   "execution_count": 7,
   "id": "f1190aa8",
   "metadata": {},
   "outputs": [],
   "source": [
    "clf= AdaBoostClassifier(algorithm='SAMME')\n",
    "clf.fit(Xtrain, Ytrain)\n",
    "y_pred = clf.predict(Xtest)"
   ]
  },
  {
   "cell_type": "markdown",
   "id": "8fe4fde8",
   "metadata": {},
   "source": [
    "### 指标"
   ]
  },
  {
   "cell_type": "code",
   "execution_count": 8,
   "id": "5ea9a4f2",
   "metadata": {},
   "outputs": [
    {
     "name": "stdout",
     "output_type": "stream",
     "text": [
      "#####################Adaboost#####################\n",
      "+--------------------+--------------------+--------------------+\n",
      "|     precision      |       recall       |         f1         |\n",
      "+--------------------+--------------------+--------------------+\n",
      "| 0.6792452830188679 | 0.6923076923076923 | 0.6857142857142857 |\n",
      "+--------------------+--------------------+--------------------+\n"
     ]
    }
   ],
   "source": [
    "metrics_ = res_metrics(Ytest,y_pred,\"Adaboost\")"
   ]
  },
  {
   "cell_type": "markdown",
   "id": "1a5f80c5",
   "metadata": {},
   "source": [
    "### 调参\n",
    "- 弱分类器的类型\n",
    "- 迭代次数\n",
    "- 学习率"
   ]
  },
  {
   "cell_type": "markdown",
   "id": "cec63b1c",
   "metadata": {},
   "source": [
    "### 分类器类型"
   ]
  },
  {
   "cell_type": "code",
   "execution_count": 9,
   "id": "0af8be04",
   "metadata": {},
   "outputs": [],
   "source": [
    "from sklearn.linear_model import LogisticRegression\n",
    "from sklearn.svm import SVC\n",
    "from sklearn import tree\n",
    "from sklearn.ensemble import RandomForestClassifier\n",
    "from sklearn.naive_bayes import GaussianNB\n",
    "clf_logi = LogisticRegression(random_state=30)\n",
    "clf_svm = SVC(random_state=30)\n",
    "clf_tree = tree.DecisionTreeClassifier(random_state=30)\n",
    "clf_forest = RandomForestClassifier(random_state=30)\n",
    "clf_bys = GaussianNB()"
   ]
  },
  {
   "cell_type": "code",
   "execution_count": 10,
   "id": "bddb979d",
   "metadata": {},
   "outputs": [],
   "source": [
    "base_clf = [clf_logi,clf_svm,clf_tree,clf_forest,clf_bys]\n",
    "f1_list = []\n",
    "clf_type = [\"logi\",\"svm\",\"tree\",\"forest\",\"bys\"]\n",
    "for clf in base_clf:\n",
    "    # 创建AdaBoost分类器\n",
    "    clf= AdaBoostClassifier(\n",
    "         clf,# 基分类器\n",
    "        algorithm='SAMME'\n",
    "    )\n",
    "    # 训练模型\n",
    "    clf.fit(Xtrain, Ytrain)\n",
    "    # 在测试集上进行预测\n",
    "    y_pred = clf.predict(Xtest)\n",
    "    metrics_ = res_metrics(Ytest,y_pred,\"调参\")\n",
    "    f1_list.append(metrics_[\"f1-score\"])"
   ]
  },
  {
   "cell_type": "code",
   "execution_count": 11,
   "id": "4b7810f6",
   "metadata": {},
   "outputs": [
    {
     "data": {
      "image/png": "[encoded data removed]",
      "text/plain": [
       "<Figure size 640x480 with 1 Axes>"
      ]
     },
     "metadata": {},
     "output_type": "display_data"
    }
   ],
   "source": [
    "set_font()\n",
    "plt.bar(clf_type, f1_list)\n",
    "plt.xlabel('分类器')\n",
    "plt.ylabel('F1_score')\n",
    "plt.title(\"分类器 - F1-score\")\n",
    "plt.show()"
   ]
  },
  {
   "cell_type": "code",
   "execution_count": 12,
   "id": "93143ed4",
   "metadata": {},
   "outputs": [
    {
     "data": {
      "text/plain": [
       "[0.5738916256157636,\n",
       " 0.6656,\n",
       " 0.9167591564927858,\n",
       " 0.9891696750902528,\n",
       " 0.6748768472906405]"
      ]
     },
     "execution_count": 12,
     "metadata": {},
     "output_type": "execute_result"
    }
   ],
   "source": [
    "f1_list"
   ]
  },
  {
   "cell_type": "code",
   "execution_count": 13,
   "id": "db71d34b",
   "metadata": {},
   "outputs": [
    {
     "data": {
      "text/plain": [
       "GridSearchCV(cv=5, estimator=AdaBoostClassifier(),\n",
       "             param_grid={'algorithm': ['SAMME.R', 'SAMME'],\n",
       "                         'base_estimator': [RandomForestClassifier(random_state=30)],\n",
       "                         'learning_rate': array([0.1, 0.2, 0.3, 0.4, 0.5, 0.6, 0.7, 0.8, 0.9, 1. ]),\n",
       "                         'n_estimators': array([ 10,  31,  52,  73,  94, 115, 136, 157, 178, 200])})"
      ]
     },
     "execution_count": 13,
     "metadata": {},
     "output_type": "execute_result"
    }
   ],
   "source": [
    "param_grid = {\n",
    "              \"base_estimator\":[clf_forest],\n",
    "              'n_estimators':np.linspace(10,200,10,dtype=int),\n",
    "              'learning_rate': np.linspace(0.1,1,10),\n",
    "              'algorithm':[\"SAMME.R\",\"SAMME\"]\n",
    "             }\n",
    "clf = AdaBoostClassifier()\n",
    "grid_search = GridSearchCV(clf, param_grid, cv=5)\n",
    "grid_search.fit(Xtrain, Ytrain)"
   ]
  },
  {
   "cell_type": "code",
   "execution_count": 15,
   "id": "3f6278fc",
   "metadata": {},
   "outputs": [
    {
     "data": {
      "text/plain": [
       "{'algorithm': 'SAMME',\n",
       " 'base_estimator': RandomForestClassifier(random_state=30),\n",
       " 'learning_rate': 0.5,\n",
       " 'n_estimators': 200}"
      ]
     },
     "execution_count": 15,
     "metadata": {},
     "output_type": "execute_result"
    }
   ],
   "source": [
    "grid_search.best_params_"
   ]
  },
  {
   "cell_type": "markdown",
   "id": "5fdae2bb",
   "metadata": {},
   "source": [
    "### 这个调参好像不太准"
   ]
  },
  {
   "cell_type": "code",
   "execution_count": 16,
   "id": "1d95cfcc",
   "metadata": {},
   "outputs": [
    {
     "name": "stdout",
     "output_type": "stream",
     "text": [
      "#####################Adaboost#####################\n",
      "+--------------------+--------------------+--------------------+\n",
      "|     precision      |       recall       |         f1         |\n",
      "+--------------------+--------------------+--------------------+\n",
      "| 0.6636771300448431 | 0.7115384615384616 | 0.6867749419953597 |\n",
      "+--------------------+--------------------+--------------------+\n"
     ]
    }
   ],
   "source": [
    "# 创建AdaBoost分类器\n",
    "clf= AdaBoostClassifier(\n",
    "     n_estimators=200, # 使用200个弱学习器\n",
    "     learning_rate=0.5, # 学习率为0.8\n",
    "     algorithm='SAMME', # 使用SAMME.R算法\n",
    "     random_state=30\n",
    ")\n",
    "# 训练模型\n",
    "clf.fit(Xtrain, Ytrain)\n",
    "# 在测试集上进行预测\n",
    "y_pred = clf.predict(Xtest)\n",
    "metrics_ = res_metrics(Ytest,y_pred,\"Adaboost\")"
   ]
  }
 ],
 "metadata": {
  "kernelspec": {
   "display_name": "Python 3 (ipykernel)",
   "language": "python",
   "name": "python3"
  },
  "language_info": {
   "codemirror_mode": {
    "name": "ipython",
    "version": 3
   },
   "file_extension": ".py",
   "mimetype": "text/x-python",
   "name": "python",
   "nbconvert_exporter": "python",
   "pygments_lexer": "ipython3",
   "version": "3.7.0"
  }
 },
 "nbformat": 4,
 "nbformat_minor": 5
}
