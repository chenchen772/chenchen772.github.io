{
 "cells": [
  {
   "cell_type": "markdown",
   "id": "8eb3fedb",
   "metadata": {},
   "source": [
    "# 神经网络"
   ]
  },
  {
   "cell_type": "markdown",
   "id": "22306de9",
   "metadata": {},
   "source": [
    "### 导入包"
   ]
  },
  {
   "cell_type": "code",
   "execution_count": 22,
   "id": "fad8bb5a",
   "metadata": {},
   "outputs": [],
   "source": [
    "import torch\n",
    "from torch import nn\n",
    "from torch.autograd import Variable\n",
    "import torch.optim as optim\n",
    "import pandas as pd\n",
    "from my_tools import *"
   ]
  },
  {
   "cell_type": "code",
   "execution_count": 23,
   "id": "bfb45759",
   "metadata": {},
   "outputs": [],
   "source": [
    "# 忽略warning\n",
    "import warnings\n",
    "warnings.filterwarnings(\"ignore\")"
   ]
  },
  {
   "cell_type": "markdown",
   "id": "45f759eb",
   "metadata": {},
   "source": [
    "### 读取数据"
   ]
  },
  {
   "cell_type": "code",
   "execution_count": 24,
   "id": "ba47dca2",
   "metadata": {},
   "outputs": [],
   "source": [
    "jibing_res = pd.read_excel(\"./jibing_feature_res_final.xlsx\")\n",
    "jibing = pd.read_excel(\"./jibing_feature_final.xlsx\")"
   ]
  },
  {
   "cell_type": "markdown",
   "id": "c6b1cf2b",
   "metadata": {},
   "source": [
    "### 归一化"
   ]
  },
  {
   "cell_type": "code",
   "execution_count": 25,
   "id": "3f5f5cd8",
   "metadata": {},
   "outputs": [],
   "source": [
    "jibing = guiyihua(jibing)"
   ]
  },
  {
   "cell_type": "markdown",
   "id": "d2167c2a",
   "metadata": {},
   "source": [
    "### 标准化"
   ]
  },
  {
   "cell_type": "code",
   "execution_count": 26,
   "id": "2ae58e32",
   "metadata": {},
   "outputs": [],
   "source": [
    "jibing = biaozhunhua(jibing)"
   ]
  },
  {
   "cell_type": "code",
   "execution_count": 27,
   "id": "d568601a",
   "metadata": {},
   "outputs": [
    {
     "data": {
      "text/html": [
       "<div>\n",
       "<style scoped>\n",
       "    .dataframe tbody tr th:only-of-type {\n",
       "        vertical-align: middle;\n",
       "    }\n",
       "\n",
       "    .dataframe tbody tr th {\n",
       "        vertical-align: top;\n",
       "    }\n",
       "\n",
       "    .dataframe thead th {\n",
       "        text-align: right;\n",
       "    }\n",
       "</style>\n",
       "<table border=\"1\" class=\"dataframe\">\n",
       "  <thead>\n",
       "    <tr style=\"text-align: right;\">\n",
       "      <th></th>\n",
       "      <th>左右</th>\n",
       "      <th>是否外伤</th>\n",
       "      <th>症状持续时间</th>\n",
       "      <th>明显夜间痛</th>\n",
       "      <th>年龄</th>\n",
       "      <th>高血压</th>\n",
       "      <th>高血脂</th>\n",
       "      <th>2型糖尿病</th>\n",
       "      <th>吸烟与否</th>\n",
       "      <th>饮酒与否</th>\n",
       "      <th>...</th>\n",
       "      <th>腺苷脱氨酶ADA</th>\n",
       "      <th>果糖胺</th>\n",
       "      <th>肌酸激酶</th>\n",
       "      <th>α-L-盐藻糖苷酶</th>\n",
       "      <th>乳酸</th>\n",
       "      <th>淀粉酶</th>\n",
       "      <th>同型半胱氨酸</th>\n",
       "      <th>铁</th>\n",
       "      <th>总铁结合力</th>\n",
       "      <th>血型</th>\n",
       "    </tr>\n",
       "  </thead>\n",
       "  <tbody>\n",
       "    <tr>\n",
       "      <th>0</th>\n",
       "      <td>1</td>\n",
       "      <td>0</td>\n",
       "      <td>3</td>\n",
       "      <td>0</td>\n",
       "      <td>-0.634697</td>\n",
       "      <td>0</td>\n",
       "      <td>0</td>\n",
       "      <td>0</td>\n",
       "      <td>1</td>\n",
       "      <td>-0.450418</td>\n",
       "      <td>...</td>\n",
       "      <td>-0.396096</td>\n",
       "      <td>-0.010001</td>\n",
       "      <td>-0.138369</td>\n",
       "      <td>-0.540229</td>\n",
       "      <td>-0.388337</td>\n",
       "      <td>0.565581</td>\n",
       "      <td>1.799019</td>\n",
       "      <td>-0.579652</td>\n",
       "      <td>-0.340355</td>\n",
       "      <td>0</td>\n",
       "    </tr>\n",
       "    <tr>\n",
       "      <th>1</th>\n",
       "      <td>1</td>\n",
       "      <td>0</td>\n",
       "      <td>4</td>\n",
       "      <td>0</td>\n",
       "      <td>0.699734</td>\n",
       "      <td>0</td>\n",
       "      <td>0</td>\n",
       "      <td>0</td>\n",
       "      <td>0</td>\n",
       "      <td>2.220159</td>\n",
       "      <td>...</td>\n",
       "      <td>-0.396096</td>\n",
       "      <td>-0.070029</td>\n",
       "      <td>-0.111576</td>\n",
       "      <td>-0.306733</td>\n",
       "      <td>1.067354</td>\n",
       "      <td>1.545136</td>\n",
       "      <td>-0.352195</td>\n",
       "      <td>-1.836937</td>\n",
       "      <td>0.265728</td>\n",
       "      <td>2</td>\n",
       "    </tr>\n",
       "    <tr>\n",
       "      <th>2</th>\n",
       "      <td>1</td>\n",
       "      <td>0</td>\n",
       "      <td>4</td>\n",
       "      <td>0</td>\n",
       "      <td>-2.191532</td>\n",
       "      <td>0</td>\n",
       "      <td>0</td>\n",
       "      <td>0</td>\n",
       "      <td>0</td>\n",
       "      <td>-0.450418</td>\n",
       "      <td>...</td>\n",
       "      <td>-0.686176</td>\n",
       "      <td>-0.079264</td>\n",
       "      <td>-0.218748</td>\n",
       "      <td>-0.656976</td>\n",
       "      <td>-0.520673</td>\n",
       "      <td>-0.626921</td>\n",
       "      <td>-0.284440</td>\n",
       "      <td>1.232798</td>\n",
       "      <td>1.037105</td>\n",
       "      <td>0</td>\n",
       "    </tr>\n",
       "    <tr>\n",
       "      <th>3</th>\n",
       "      <td>1</td>\n",
       "      <td>0</td>\n",
       "      <td>4</td>\n",
       "      <td>1</td>\n",
       "      <td>-0.041616</td>\n",
       "      <td>0</td>\n",
       "      <td>0</td>\n",
       "      <td>0</td>\n",
       "      <td>1</td>\n",
       "      <td>-0.450418</td>\n",
       "      <td>...</td>\n",
       "      <td>-0.976257</td>\n",
       "      <td>0.008469</td>\n",
       "      <td>0.049182</td>\n",
       "      <td>-0.773724</td>\n",
       "      <td>-0.123666</td>\n",
       "      <td>-0.499153</td>\n",
       "      <td>1.494123</td>\n",
       "      <td>2.914620</td>\n",
       "      <td>1.830522</td>\n",
       "      <td>0</td>\n",
       "    </tr>\n",
       "    <tr>\n",
       "      <th>4</th>\n",
       "      <td>1</td>\n",
       "      <td>0</td>\n",
       "      <td>4</td>\n",
       "      <td>1</td>\n",
       "      <td>-0.560562</td>\n",
       "      <td>0</td>\n",
       "      <td>0</td>\n",
       "      <td>0</td>\n",
       "      <td>1</td>\n",
       "      <td>-0.450418</td>\n",
       "      <td>...</td>\n",
       "      <td>-0.396096</td>\n",
       "      <td>-0.067720</td>\n",
       "      <td>-0.087462</td>\n",
       "      <td>-0.073237</td>\n",
       "      <td>-0.653008</td>\n",
       "      <td>0.608170</td>\n",
       "      <td>0.410046</td>\n",
       "      <td>0.383722</td>\n",
       "      <td>0.739574</td>\n",
       "      <td>3</td>\n",
       "    </tr>\n",
       "  </tbody>\n",
       "</table>\n",
       "<p>5 rows × 60 columns</p>\n",
       "</div>"
      ],
      "text/plain": [
       "   左右  是否外伤  症状持续时间  明显夜间痛        年龄  高血压  高血脂  2型糖尿病  吸烟与否      饮酒与否  ...  \\\n",
       "0   1     0       3      0 -0.634697    0    0      0     1 -0.450418  ...   \n",
       "1   1     0       4      0  0.699734    0    0      0     0  2.220159  ...   \n",
       "2   1     0       4      0 -2.191532    0    0      0     0 -0.450418  ...   \n",
       "3   1     0       4      1 -0.041616    0    0      0     1 -0.450418  ...   \n",
       "4   1     0       4      1 -0.560562    0    0      0     1 -0.450418  ...   \n",
       "\n",
       "   腺苷脱氨酶ADA       果糖胺      肌酸激酶  α-L-盐藻糖苷酶        乳酸       淀粉酶    同型半胱氨酸  \\\n",
       "0 -0.396096 -0.010001 -0.138369  -0.540229 -0.388337  0.565581  1.799019   \n",
       "1 -0.396096 -0.070029 -0.111576  -0.306733  1.067354  1.545136 -0.352195   \n",
       "2 -0.686176 -0.079264 -0.218748  -0.656976 -0.520673 -0.626921 -0.284440   \n",
       "3 -0.976257  0.008469  0.049182  -0.773724 -0.123666 -0.499153  1.494123   \n",
       "4 -0.396096 -0.067720 -0.087462  -0.073237 -0.653008  0.608170  0.410046   \n",
       "\n",
       "          铁     总铁结合力  血型  \n",
       "0 -0.579652 -0.340355   0  \n",
       "1 -1.836937  0.265728   2  \n",
       "2  1.232798  1.037105   0  \n",
       "3  2.914620  1.830522   0  \n",
       "4  0.383722  0.739574   3  \n",
       "\n",
       "[5 rows x 60 columns]"
      ]
     },
     "execution_count": 27,
     "metadata": {},
     "output_type": "execute_result"
    }
   ],
   "source": [
    "jibing.head()"
   ]
  },
  {
   "cell_type": "markdown",
   "id": "c8d6679d",
   "metadata": {},
   "source": [
    "### 将 DataFrame 转换为 Tensor"
   ]
  },
  {
   "cell_type": "code",
   "execution_count": 28,
   "id": "17d58df1",
   "metadata": {},
   "outputs": [],
   "source": [
    "jibing = torch.Tensor(jibing.values)\n",
    "jibing_res = torch.Tensor(jibing_res.values)"
   ]
  },
  {
   "cell_type": "code",
   "execution_count": 29,
   "id": "756e482b",
   "metadata": {},
   "outputs": [],
   "source": [
    "jibing_res = jibing_res.long()"
   ]
  },
  {
   "cell_type": "code",
   "execution_count": 30,
   "id": "5be05824",
   "metadata": {},
   "outputs": [
    {
     "data": {
      "text/plain": [
       "tensor([[0],\n",
       "        [0],\n",
       "        [0],\n",
       "        ...,\n",
       "        [0],\n",
       "        [0],\n",
       "        [0]])"
      ]
     },
     "execution_count": 30,
     "metadata": {},
     "output_type": "execute_result"
    }
   ],
   "source": [
    "jibing_res"
   ]
  },
  {
   "cell_type": "code",
   "execution_count": 31,
   "id": "d33ee40c",
   "metadata": {},
   "outputs": [
    {
     "data": {
      "text/plain": [
       "tensor([0])"
      ]
     },
     "execution_count": 31,
     "metadata": {},
     "output_type": "execute_result"
    }
   ],
   "source": [
    "jibing_res[1]"
   ]
  },
  {
   "cell_type": "markdown",
   "id": "d8923d07",
   "metadata": {},
   "source": [
    "### 定义模型"
   ]
  },
  {
   "cell_type": "code",
   "execution_count": 32,
   "id": "ae3b5fef",
   "metadata": {},
   "outputs": [],
   "source": [
    "# 模型（网络）\n",
    "model = nn.Sequential(\n",
    "    nn.Linear(60,100),\n",
    "    nn.ReLU(),\n",
    "    nn.Linear(100,100),\n",
    "    nn.ReLU(),\n",
    "    nn.Linear(100,50),\n",
    "    nn.ReLU(),\n",
    "    nn.Linear(50,2),\n",
    "    nn.Softmax()\n",
    ")"
   ]
  },
  {
   "cell_type": "markdown",
   "id": "f2f0809b",
   "metadata": {},
   "source": [
    "### 定义一个 epoch"
   ]
  },
  {
   "cell_type": "code",
   "execution_count": 33,
   "id": "72fe8149",
   "metadata": {},
   "outputs": [],
   "source": [
    "def train(X,Y,model,batch_size,loss,optimizer):\n",
    "    # 计算批次\n",
    "    batch_num = int(X.shape[0]/batch_size)\n",
    "    for step in range(batch_num):\n",
    "        # 划分 batch\n",
    "        X_batch=X[step*batch_size:(step+1)*batch_size]\n",
    "        Y_batch=Y[step*batch_size:(step+1)*batch_size]\n",
    "\n",
    "        # 计算预测值\n",
    "        Y_hat = model(X_batch)\n",
    "        # 计算loss\n",
    "        l = loss(Y_hat,Y_batch.reshape(-1)).sum()\n",
    "        # 梯度置为0\n",
    "        optimizer.zero_grad()\n",
    "        # 反向传播\n",
    "        l.backward()\n",
    "        # 梯度下降\n",
    "        optimizer.step()\n",
    "\n",
    "        accuracy = (Y_hat.argmax(axis=1)==Y_batch.reshape(-1)).sum()/Y_batch.shape[0]\n",
    "    return (l,accuracy)"
   ]
  },
  {
   "cell_type": "code",
   "execution_count": 34,
   "id": "e71151b5",
   "metadata": {},
   "outputs": [],
   "source": [
    "# 优化器，loss函数\n",
    "optimizer = torch.optim.SGD(model.parameters(), lr=0.005)\n",
    "loss = nn.CrossEntropyLoss()\n",
    "# 保存 loss，accuracy\n",
    "loss_s,accuracy_s=[],[]\n",
    "epoch_num = 600\n",
    "loss_s = []\n",
    "accuracy_s = []\n",
    "# 训练epochs\n",
    "for i in range(epoch_num):\n",
    "    loss_,accuracy_ = train(jibing,jibing_res,model,1000,loss,optimizer)\n",
    "    if i % 10 == 0:\n",
    "        loss_s.append(loss_)\n",
    "        accuracy_s.append(accuracy_)"
   ]
  },
  {
   "cell_type": "code",
   "execution_count": 35,
   "id": "20d0a76a",
   "metadata": {},
   "outputs": [
    {
     "data": {
      "text/plain": [
       "array(0.6856729, dtype=float32)"
      ]
     },
     "execution_count": 35,
     "metadata": {},
     "output_type": "execute_result"
    }
   ],
   "source": [
    "index = np.linspace(1,60,60)\n",
    "loss_s[1].detach().numpy()"
   ]
  },
  {
   "cell_type": "code",
   "execution_count": 36,
   "id": "94eb7d27",
   "metadata": {},
   "outputs": [],
   "source": [
    "for i in range(len(loss_s)):\n",
    "    loss_s[i] = loss_s[i].detach().numpy()\n",
    "for i in range(len(accuracy_s)):\n",
    "    accuracy_s[i] = accuracy_s[i].detach().numpy()"
   ]
  },
  {
   "cell_type": "code",
   "execution_count": 37,
   "id": "c133f2f4",
   "metadata": {},
   "outputs": [
    {
     "data": {
      "image/png": "[encoded data removed]",
      "text/plain": [
       "<Figure size 640x480 with 1 Axes>"
      ]
     },
     "metadata": {},
     "output_type": "display_data"
    }
   ],
   "source": [
    "zhexiantu(index,loss_s,\"loss\")"
   ]
  },
  {
   "cell_type": "code",
   "execution_count": 38,
   "id": "826bde72",
   "metadata": {},
   "outputs": [
    {
     "data": {
      "image/png": "[encoded data removed]",
      "text/plain": [
       "<Figure size 640x480 with 1 Axes>"
      ]
     },
     "metadata": {},
     "output_type": "display_data"
    }
   ],
   "source": [
    "zhexiantu(index,accuracy_s,\"acc\")"
   ]
  }
 ],
 "metadata": {
  "kernelspec": {
   "display_name": "Python 3 (ipykernel)",
   "language": "python",
   "name": "python3"
  },
  "language_info": {
   "codemirror_mode": {
    "name": "ipython",
    "version": 3
   },
   "file_extension": ".py",
   "mimetype": "text/x-python",
   "name": "python",
   "nbconvert_exporter": "python",
   "pygments_lexer": "ipython3",
   "version": "3.7.0"
  }
 },
 "nbformat": 4,
 "nbformat_minor": 5
}
