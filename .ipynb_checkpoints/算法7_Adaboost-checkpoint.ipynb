{
 "cells": [
  {
   "cell_type": "markdown",
   "id": "7f77f2d8",
   "metadata": {},
   "source": [
    "## Adaboost"
   ]
  },
  {
   "cell_type": "markdown",
   "id": "33a61c2c",
   "metadata": {},
   "source": [
    "#### AdaBoost是一种迭代算法，用于提高弱分类器的准确性。它的基本原理是，通过构建一系列弱分类器，然后将这些弱分类器集成在一起，形成一个强分类器。在每次迭代中，AdaBoost会根据上一次迭代的结果，调整各个样本的权重，使得那些被错误分类的样本在下一次迭代中得到更多的关注。"
   ]
  },
  {
   "cell_type": "code",
   "execution_count": 8,
   "id": "a0ab97ab",
   "metadata": {},
   "outputs": [],
   "source": [
    "from sklearn.model_selection import GridSearchCV\n",
    "from sklearn.model_selection import cross_val_score\n",
    "from sklearn.model_selection import train_test_split\n",
    "from sklearn.ensemble import AdaBoostClassifier\n",
    "from imblearn.over_sampling import RandomOverSampler\n",
    "import matplotlib.pyplot as plt\n",
    "import pandas as pd\n",
    "import numpy as np\n",
    "# 导入自己写的工具类\n",
    "from my_tools import *\n",
    "# 忽略warning\n",
    "import warnings\n",
    "warnings.filterwarnings(\"ignore\")"
   ]
  },
  {
   "cell_type": "markdown",
   "id": "e7a65d2b",
   "metadata": {},
   "source": [
    "### 读数据"
   ]
  },
  {
   "cell_type": "code",
   "execution_count": 9,
   "id": "787c8c17",
   "metadata": {},
   "outputs": [],
   "source": [
    "jibing_res = pd.read_excel(\"./jibing_feature_res_final.xlsx\")\n",
    "jibing = pd.read_excel(\"./jibing_feature_final.xlsx\")"
   ]
  },
  {
   "cell_type": "markdown",
   "id": "40bc8ff9",
   "metadata": {},
   "source": [
    "### 归一化"
   ]
  },
  {
   "cell_type": "code",
   "execution_count": 10,
   "id": "e000e42b",
   "metadata": {},
   "outputs": [],
   "source": [
    "jibing = guiyihua(jibing)"
   ]
  },
  {
   "cell_type": "markdown",
   "id": "540406c8",
   "metadata": {},
   "source": [
    "### 标准化"
   ]
  },
  {
   "cell_type": "code",
   "execution_count": 11,
   "id": "459b493a",
   "metadata": {},
   "outputs": [],
   "source": [
    "jibing = biaozhunhua(jibing)"
   ]
  },
  {
   "cell_type": "markdown",
   "id": "7272e35a",
   "metadata": {},
   "source": [
    "### 划分 均衡化"
   ]
  },
  {
   "cell_type": "code",
   "execution_count": 12,
   "id": "a7c48893",
   "metadata": {},
   "outputs": [],
   "source": [
    "sampler = RandomOverSampler(sampling_strategy=1, random_state=42)\n",
    "X_resampled, y_resampled = sampler.fit_resample(jibing,jibing_res)\n",
    "Xtrain,Xtest,Ytrain,Ytest = train_test_split(X_resampled,y_resampled,test_size=0.3)"
   ]
  },
  {
   "cell_type": "markdown",
   "id": "ff0a7c3d",
   "metadata": {},
   "source": [
    "### 训练"
   ]
  },
  {
   "cell_type": "code",
   "execution_count": 13,
   "id": "f1190aa8",
   "metadata": {},
   "outputs": [],
   "source": [
    "# 创建AdaBoost分类器\n",
    "clf= AdaBoostClassifier(\n",
    "#     base_estimator=None, # 使用决策树作为基学习器（默认）\n",
    "#     n_estimators=50, # 使用50个弱学习器\n",
    "#     learning_rate=1.0, # 学习率为1.0\n",
    "#     algorithm='SAMME.R', # 使用SAMME.R算法\n",
    "#     random_state=42 # 设置随机种子，以便复现结果\n",
    ")\n",
    "\n",
    "# 训练模型\n",
    "clf.fit(Xtrain, Ytrain)\n",
    "\n",
    "# 在测试集上进行预测\n",
    "y_pred = clf.predict(Xtest)"
   ]
  },
  {
   "cell_type": "markdown",
   "id": "8fe4fde8",
   "metadata": {},
   "source": [
    "### 指标"
   ]
  },
  {
   "cell_type": "code",
   "execution_count": 14,
   "id": "5ea9a4f2",
   "metadata": {},
   "outputs": [
    {
     "name": "stdout",
     "output_type": "stream",
     "text": [
      "#####################Adaboost#####################\n",
      "+-------------------+--------------------+-------------------+\n",
      "|     precision     |       recall       |         f1        |\n",
      "+-------------------+--------------------+-------------------+\n",
      "| 0.742152466367713 | 0.8112745098039216 | 0.775175644028103 |\n",
      "+-------------------+--------------------+-------------------+\n"
     ]
    }
   ],
   "source": [
    "metrics_ = res_metrics(Ytest,y_pred,\"Adaboost\")"
   ]
  },
  {
   "cell_type": "markdown",
   "id": "1a5f80c5",
   "metadata": {},
   "source": [
    "### 调参\n",
    "- 弱分类器的类型\n",
    "- 迭代次数\n",
    "- 学习率"
   ]
  },
  {
   "cell_type": "code",
   "execution_count": null,
   "id": "db71d34b",
   "metadata": {},
   "outputs": [],
   "source": [
    "param_grid = {'n_estimators': np.linspace(10,200,20,dtype=int),\n",
    "              'learning_rate': np.linspace(0.1,1,10),\n",
    "              'algorithm':[\"SAMME.R\",\"SAMME\"]}\n",
    "clf = AdaBoostClassifier()\n",
    "grid_search = GridSearchCV(clf, param_grid, cv=5)\n",
    "grid_search.fit(Xtrain, Ytrain)"
   ]
  },
  {
   "cell_type": "code",
   "execution_count": null,
   "id": "3f6278fc",
   "metadata": {},
   "outputs": [],
   "source": [
    "grid_search.best_params_"
   ]
  },
  {
   "cell_type": "code",
   "execution_count": null,
   "id": "1d95cfcc",
   "metadata": {},
   "outputs": [],
   "source": []
  }
 ],
 "metadata": {
  "kernelspec": {
   "display_name": "Python 3 (ipykernel)",
   "language": "python",
   "name": "python3"
  },
  "language_info": {
   "codemirror_mode": {
    "name": "ipython",
    "version": 3
   },
   "file_extension": ".py",
   "mimetype": "text/x-python",
   "name": "python",
   "nbconvert_exporter": "python",
   "pygments_lexer": "ipython3",
   "version": "3.7.0"
  }
 },
 "nbformat": 4,
 "nbformat_minor": 5
}
