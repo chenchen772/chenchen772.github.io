{
 "cells": [
  {
   "cell_type": "markdown",
   "id": "b9c6606a",
   "metadata": {},
   "source": [
    "# 随机森林"
   ]
  },
  {
   "cell_type": "markdown",
   "id": "52f8412e",
   "metadata": {},
   "source": [
    "### 导入包"
   ]
  },
  {
   "cell_type": "code",
   "execution_count": 61,
   "id": "73bd872f",
   "metadata": {},
   "outputs": [],
   "source": [
    "from sklearn.ensemble import RandomForestClassifier\n",
    "from sklearn.model_selection import GridSearchCV\n",
    "from sklearn.model_selection import cross_val_score\n",
    "from sklearn.model_selection import train_test_split\n",
    "import matplotlib.pyplot as plt\n",
    "import pandas as pd\n",
    "import numpy as np\n",
    "# 导入自己写的工具类\n",
    "from my_tools import *\n",
    "# 忽略warning\n",
    "import warnings\n",
    "warnings.filterwarnings(\"ignore\")"
   ]
  },
  {
   "cell_type": "code",
   "execution_count": 62,
   "id": "e089dd08",
   "metadata": {},
   "outputs": [],
   "source": [
    "jibing_res = pd.read_excel(\"./jibing_feature_res_final.xlsx\")\n",
    "jibing = pd.read_excel(\"./jibing_feature_final.xlsx\")"
   ]
  },
  {
   "cell_type": "markdown",
   "id": "2e993b9f",
   "metadata": {},
   "source": [
    "### 数据处理：分箱\n",
    "#### 分箱有助于让随机森林和决策树更好地学习"
   ]
  },
  {
   "cell_type": "code",
   "execution_count": 63,
   "id": "cfba3756",
   "metadata": {},
   "outputs": [],
   "source": [
    "jibing = fenxiang(jibing)"
   ]
  },
  {
   "cell_type": "code",
   "execution_count": 64,
   "id": "4960c974",
   "metadata": {
    "scrolled": true
   },
   "outputs": [
    {
     "data": {
      "text/plain": [
       "左右               1.0\n",
       "是否外伤             0.0\n",
       "症状持续时间           3.0\n",
       "明显夜间痛            0.0\n",
       "年龄               1.0\n",
       "高血压              0.0\n",
       "高血脂              0.0\n",
       "2型糖尿病            0.0\n",
       "吸烟与否             1.0\n",
       "饮酒与否             7.0\n",
       "红细胞计数*10^12/L    1.0\n",
       "血红蛋白             6.0\n",
       "红细胞压积            1.0\n",
       "血小板计数            5.0\n",
       "血小板压积            1.0\n",
       "总蛋白g/L           4.0\n",
       "白蛋白g/L           5.0\n",
       "球蛋白g/L           3.0\n",
       "白球比              4.0\n",
       "AST天门冬氨酸氨基转移酶    1.0\n",
       "碱性磷酸酶            2.0\n",
       "谷氨酸转肽酶           1.0\n",
       "AST:ALT          5.0\n",
       "总胆红素             1.0\n",
       "直接胆红素            1.0\n",
       "间接胆红素            1.0\n",
       "钾                4.0\n",
       "钠                7.0\n",
       "氯                5.0\n",
       "钙                5.0\n",
       "磷                4.0\n",
       "镁                3.0\n",
       "葡萄糖              1.0\n",
       "肌酐               4.0\n",
       "尿素               2.0\n",
       "尿酸               4.0\n",
       "甘油三酯             1.0\n",
       "总胆固醇             3.0\n",
       "H高密度胆固醇          3.0\n",
       "L低密度胆固醇          1.0\n",
       "载脂蛋白A1           1.0\n",
       "载脂蛋白B            4.0\n",
       "载脂蛋白E mg/l       2.0\n",
       "aPoB/aPoA1       1.0\n",
       "脂蛋白小a            1.0\n",
       "乳酸脱氢酶LDH         3.0\n",
       "β-2微球蛋白          1.0\n",
       "胆碱酯酶             4.0\n",
       "前白蛋白mg/l         4.0\n",
       "总胆汁酸             1.0\n",
       "腺苷脱氨酶ADA         2.0\n",
       "果糖胺              1.0\n",
       "肌酸激酶             1.0\n",
       "α-L-盐藻糖苷酶        1.0\n",
       "乳酸               1.0\n",
       "淀粉酶              2.0\n",
       "同型半胱氨酸           2.0\n",
       "铁                2.0\n",
       "总铁结合力            4.0\n",
       "血型               0.0\n",
       "Name: 0, dtype: float64"
      ]
     },
     "execution_count": 64,
     "metadata": {},
     "output_type": "execute_result"
    }
   ],
   "source": [
    "jibing.iloc[0]"
   ]
  },
  {
   "cell_type": "markdown",
   "id": "0c11e821",
   "metadata": {},
   "source": [
    "### 网格搜索确定参数"
   ]
  },
  {
   "cell_type": "code",
   "execution_count": 65,
   "id": "da4a107f",
   "metadata": {},
   "outputs": [],
   "source": [
    "param_grid = {\n",
    "    # 森林中有多少棵决策树\n",
    "    'n_estimators':np.arange(0, 200, 40)\n",
    "    # 树的最大深度\n",
    "    ,'max_depth':np.arange(1, 20, 5)\n",
    "    # 指标 尼基 和 熵 两种\n",
    "    ,'criterion':['gini', 'entropy']\n",
    "}"
   ]
  },
  {
   "cell_type": "code",
   "execution_count": 66,
   "id": "97ad471a",
   "metadata": {
    "scrolled": false
   },
   "outputs": [
    {
     "data": {
      "text/plain": [
       "GridSearchCV(estimator=RandomForestClassifier(random_state=90),\n",
       "             param_grid={'criterion': ['gini', 'entropy'],\n",
       "                         'max_depth': array([ 1,  6, 11, 16]),\n",
       "                         'n_estimators': array([  0,  40,  80, 120, 160])})"
      ]
     },
     "execution_count": 66,
     "metadata": {},
     "output_type": "execute_result"
    }
   ],
   "source": [
    "rfc = RandomForestClassifier(random_state=90)\n",
    "GS = GridSearchCV(rfc,param_grid)\n",
    "GS.fit(jibing,jibing_res)"
   ]
  },
  {
   "cell_type": "markdown",
   "id": "81f787f2",
   "metadata": {},
   "source": [
    "### 确定的最佳参数为\n",
    "- gini\n",
    "- 16\n",
    "- 160"
   ]
  },
  {
   "cell_type": "code",
   "execution_count": 67,
   "id": "8865acfd",
   "metadata": {},
   "outputs": [
    {
     "data": {
      "text/plain": [
       "{'criterion': 'gini', 'max_depth': 1, 'n_estimators': 40}"
      ]
     },
     "execution_count": 67,
     "metadata": {},
     "output_type": "execute_result"
    }
   ],
   "source": [
    "GS.best_params_"
   ]
  },
  {
   "cell_type": "markdown",
   "id": "b91859ef",
   "metadata": {},
   "source": [
    "### 构建分类器进行训练"
   ]
  },
  {
   "cell_type": "code",
   "execution_count": 68,
   "id": "7222459d",
   "metadata": {},
   "outputs": [],
   "source": [
    "rfc = RandomForestClassifier(n_estimators=40\n",
    "                             ,random_state=90\n",
    "                             ,criterion=\"gini\"\n",
    "                             ,max_depth=11\n",
    "                            )\n",
    "score_pre = cross_val_score(rfc,jibing,jibing_res,cv=10).mean()"
   ]
  },
  {
   "cell_type": "markdown",
   "id": "4624d539",
   "metadata": {},
   "source": [
    "### 训练"
   ]
  },
  {
   "cell_type": "code",
   "execution_count": 69,
   "id": "54495b08",
   "metadata": {},
   "outputs": [],
   "source": [
    "x_train, x_test, y_train, y_test= train_test_split(jibing, jibing_res, test_size= 0.3, random_state=90)\n",
    "model = rfc.fit(x_train, y_train)\n",
    "y_pre = model.predict(x_test)"
   ]
  },
  {
   "cell_type": "code",
   "execution_count": 70,
   "id": "237c4496",
   "metadata": {},
   "outputs": [],
   "source": [
    "metrics_ = res_metrics(y_test,y_pre)"
   ]
  },
  {
   "cell_type": "code",
   "execution_count": 71,
   "id": "21a42ff9",
   "metadata": {},
   "outputs": [
    {
     "data": {
      "text/plain": [
       "{'precision': 0.8802521008403361, 'recall': 1.0, 'f1': 0.9363128491620112}"
      ]
     },
     "execution_count": 71,
     "metadata": {},
     "output_type": "execute_result"
    }
   ],
   "source": [
    "metrics_"
   ]
  }
 ],
 "metadata": {
  "kernelspec": {
   "display_name": "Python 3 (ipykernel)",
   "language": "python",
   "name": "python3"
  },
  "language_info": {
   "codemirror_mode": {
    "name": "ipython",
    "version": 3
   },
   "file_extension": ".py",
   "mimetype": "text/x-python",
   "name": "python",
   "nbconvert_exporter": "python",
   "pygments_lexer": "ipython3",
   "version": "3.7.0"
  }
 },
 "nbformat": 4,
 "nbformat_minor": 5
}
