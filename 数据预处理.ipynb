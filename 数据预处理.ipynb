{
 "cells": [
  {
   "cell_type": "code",
   "execution_count": 93,
   "id": "a829d6b0",
   "metadata": {},
   "outputs": [],
   "source": [
    "import pandas as pd\n",
    "import matplotlib.pyplot as plt\n",
    "import numpy as np\n",
    "import scipy\n",
    "import sklearn\n",
    "# 正则表达式\n",
    "import re\n",
    "import sys\n",
    "# 中心化\n",
    "from sklearn.preprocessing import MinMaxScaler\n",
    "# 标准化\n",
    "from sklearn.preprocessing import StandardScaler\n",
    "# 自定义的工具包\n",
    "from my_tools import *"
   ]
  },
  {
   "cell_type": "code",
   "execution_count": 94,
   "id": "4423430e",
   "metadata": {},
   "outputs": [],
   "source": [
    "import warnings\n",
    "warnings.filterwarnings(\"ignore\")"
   ]
  },
  {
   "cell_type": "markdown",
   "id": "19fda19a",
   "metadata": {},
   "source": [
    "### 读取数据"
   ]
  },
  {
   "cell_type": "code",
   "execution_count": 95,
   "id": "3f5aad0d",
   "metadata": {},
   "outputs": [],
   "source": [
    "jibing = pd.read_excel(\"./某疾病数据.xlsx\")"
   ]
  },
  {
   "cell_type": "markdown",
   "id": "4eef95e1",
   "metadata": {},
   "source": [
    "### 将汉字转换为数值"
   ]
  },
  {
   "cell_type": "markdown",
   "id": "bc1c0303",
   "metadata": {},
   "source": [
    "#### 性别"
   ]
  },
  {
   "cell_type": "code",
   "execution_count": 96,
   "id": "28ab9f9f",
   "metadata": {},
   "outputs": [],
   "source": [
    "set(jibing.loc[:,\"性别\"])\n",
    "dict_sex = {\"女\":0,\"男\":1}\n",
    "for i in range(jibing.loc[:,\"性别\"].shape[0]):\n",
    "    jibing.loc[:,\"性别\"][i] = dict_sex[jibing.loc[:,\"性别\"][i]]"
   ]
  },
  {
   "cell_type": "markdown",
   "id": "632d2937",
   "metadata": {},
   "source": [
    "#### 血型"
   ]
  },
  {
   "cell_type": "code",
   "execution_count": 97,
   "id": "4391877c",
   "metadata": {},
   "outputs": [
    {
     "data": {
      "text/plain": [
       "{'A', 'AB', 'B', 'O'}"
      ]
     },
     "execution_count": 97,
     "metadata": {},
     "output_type": "execute_result"
    }
   ],
   "source": [
    "set(jibing.loc[:,\"血型\"])"
   ]
  },
  {
   "cell_type": "code",
   "execution_count": 98,
   "id": "4bd8ca1f",
   "metadata": {},
   "outputs": [
    {
     "data": {
      "text/plain": [
       "{0, 1, 2, 3}"
      ]
     },
     "execution_count": 98,
     "metadata": {},
     "output_type": "execute_result"
    }
   ],
   "source": [
    "dict_sex = {\"A\":0,\"AB\":1,\"B\":2,\"O\":3}\n",
    "for i in range(jibing.loc[:,\"血型\"].shape[0]):\n",
    "    jibing.loc[:,\"血型\"][i] = dict_sex[jibing.loc[:,\"血型\"][i]]\n",
    "set(jibing.loc[:,\"血型\"])"
   ]
  },
  {
   "cell_type": "markdown",
   "id": "9fb59563",
   "metadata": {},
   "source": [
    "左右"
   ]
  },
  {
   "cell_type": "code",
   "execution_count": 99,
   "id": "597b5abc",
   "metadata": {},
   "outputs": [
    {
     "data": {
      "text/plain": [
       "{'双侧', '右', '女', '左'}"
      ]
     },
     "execution_count": 99,
     "metadata": {},
     "output_type": "execute_result"
    }
   ],
   "source": [
    "set(jibing.loc[:,\"左右\"])"
   ]
  },
  {
   "cell_type": "markdown",
   "id": "f5326896",
   "metadata": {},
   "source": [
    "查看各部分所占的比例，发现 左 和 右 所占的比例和接近 99%\n",
    "\n",
    "对于比例较少的 女 和 双侧 可以认为是噪声，直接删除"
   ]
  },
  {
   "cell_type": "code",
   "execution_count": 100,
   "id": "00a84a11",
   "metadata": {},
   "outputs": [
    {
     "name": "stdout",
     "output_type": "stream",
     "text": [
      "左：32.76178812002449%\n",
      "右：67.11573790569504%\n",
      "双侧：0.0612369871402327%\n",
      "女：0.0612369871402327%\n"
     ]
    }
   ],
   "source": [
    "length = jibing.loc[:,\"左右\"].shape[0]\n",
    "length_nv = jibing[jibing[\"左右\"] == \"女\"].shape[0]\n",
    "length_sc = jibing[jibing[\"左右\"] == \"双侧\"].shape[0]\n",
    "length_z = jibing[jibing[\"左右\"] == \"左\"].shape[0]\n",
    "length_y = jibing[jibing[\"左右\"] == \"右\"].shape[0]\n",
    "print(\"左：\" + str(length_z / length * 100) + \"%\")\n",
    "print(\"右：\" + str(length_y / length * 100) + \"%\")\n",
    "print(\"双侧：\" + str(length_sc / length * 100) + \"%\")\n",
    "print(\"女：\" + str(length_nv / length * 100) + \"%\")"
   ]
  },
  {
   "cell_type": "markdown",
   "id": "69f016d2",
   "metadata": {},
   "source": [
    "删除某一行后使用 reset_index 保证索引的连续性"
   ]
  },
  {
   "cell_type": "code",
   "execution_count": 101,
   "id": "1bc21501",
   "metadata": {},
   "outputs": [],
   "source": [
    "jibing = jibing.drop(labels=jibing[jibing['左右'] == \"女\"].index).reset_index(drop = True)\n",
    "jibing = jibing.drop(labels=jibing[jibing['左右'] == \"双侧\"].index).reset_index(drop = True)"
   ]
  },
  {
   "cell_type": "code",
   "execution_count": 102,
   "id": "3cd454e2",
   "metadata": {},
   "outputs": [
    {
     "data": {
      "text/plain": [
       "{0, 1}"
      ]
     },
     "execution_count": 102,
     "metadata": {},
     "output_type": "execute_result"
    }
   ],
   "source": [
    "dict_lr = {\"左\":0,\"右\":1,}\n",
    "for i in range(jibing.loc[:,\"左右\"].shape[0]):\n",
    "    jibing.loc[:,\"左右\"][i] = dict_lr[jibing.loc[:,\"左右\"][i]]\n",
    "set(jibing.loc[:,\"左右\"])"
   ]
  },
  {
   "cell_type": "markdown",
   "id": "c2e8708e",
   "metadata": {},
   "source": [
    "#### 症状持续时间"
   ]
  },
  {
   "cell_type": "code",
   "execution_count": 103,
   "id": "20d06fcb",
   "metadata": {
    "scrolled": false
   },
   "outputs": [
    {
     "data": {
      "text/plain": [
       "{'10余天',\n",
       " '10余年',\n",
       " '10天',\n",
       " '10年余',\n",
       " '10月',\n",
       " '10月   ',\n",
       " '10月余',\n",
       " '11天',\n",
       " '11月',\n",
       " '11月余',\n",
       " '12天',\n",
       " '14年',\n",
       " '15天',\n",
       " '15年',\n",
       " '17天',\n",
       " '17年',\n",
       " '18月',\n",
       " '1周',\n",
       " '1周余',\n",
       " '1天',\n",
       " '1天余',\n",
       " '1年',\n",
       " '1年余',\n",
       " '1年半',\n",
       " '1年半余',\n",
       " '1月',\n",
       " '1月余',\n",
       " '20余天',\n",
       " '20余年',\n",
       " '20天',\n",
       " '20天余',\n",
       " '20年余',\n",
       " '21天',\n",
       " '2周',\n",
       " '2周余',\n",
       " '2天',\n",
       " '2天余',\n",
       " '2年',\n",
       " '2年余',\n",
       " '2月',\n",
       " '2月余',\n",
       " '2月余 ',\n",
       " '3周余',\n",
       " '3周月',\n",
       " '3天',\n",
       " '3年',\n",
       " '3年余',\n",
       " '3月',\n",
       " '3月余',\n",
       " '3月余 ',\n",
       " '40余天',\n",
       " '4天',\n",
       " '4小时',\n",
       " '4年',\n",
       " '4年余',\n",
       " '4月',\n",
       " '4月余',\n",
       " '4月余   ',\n",
       " '50天',\n",
       " '5天',\n",
       " '5年',\n",
       " '5年余',\n",
       " '5月',\n",
       " '5月余',\n",
       " '6年余',\n",
       " '6月',\n",
       " '6月 ',\n",
       " '6月余',\n",
       " '6月余 ',\n",
       " '7天',\n",
       " '7年余',\n",
       " '7月余',\n",
       " '8年',\n",
       " '8年余',\n",
       " '8月',\n",
       " '8月   ',\n",
       " '8月余',\n",
       " '9年余',\n",
       " '9月',\n",
       " '9月余',\n",
       " '9月余 ',\n",
       " '半年',\n",
       " '半年余',\n",
       " '半月余',\n",
       " '数年',\n",
       " '无'}"
      ]
     },
     "execution_count": 103,
     "metadata": {},
     "output_type": "execute_result"
    }
   ],
   "source": [
    "set(jibing.loc[:,\"症状持续时间\"])"
   ]
  },
  {
   "cell_type": "code",
   "execution_count": 104,
   "id": "d450101a",
   "metadata": {},
   "outputs": [],
   "source": [
    "for i in range(jibing.loc[:,\"症状持续时间\"].shape[0]):\n",
    "    if re.search('小时', str(jibing.loc[:,\"症状持续时间\"][i])) is not None:\n",
    "        jibing.loc[:,\"症状持续时间\"][i] = 0\n",
    "    if re.search('天', str(jibing.loc[:,\"症状持续时间\"][i])) is not None:\n",
    "        jibing.loc[:,\"症状持续时间\"][i] = 1\n",
    "    if re.search('周', str(jibing.loc[:,\"症状持续时间\"][i])) is not None:\n",
    "        jibing.loc[:,\"症状持续时间\"][i] = 2\n",
    "    if re.search('月', str(jibing.loc[:,\"症状持续时间\"][i])) is not None:\n",
    "        jibing.loc[:,\"症状持续时间\"][i] = 3\n",
    "    if re.search('年', str(jibing.loc[:,\"症状持续时间\"][i])) is not None:\n",
    "        jibing.loc[:,\"症状持续时间\"][i] = 4"
   ]
  },
  {
   "cell_type": "code",
   "execution_count": 105,
   "id": "c6f09683",
   "metadata": {},
   "outputs": [
    {
     "data": {
      "text/plain": [
       "{0, 1, 2, 3, 4, '无'}"
      ]
     },
     "execution_count": 105,
     "metadata": {},
     "output_type": "execute_result"
    }
   ],
   "source": [
    "set(jibing.loc[:,\"症状持续时间\"])"
   ]
  },
  {
   "cell_type": "markdown",
   "id": "d4dda296",
   "metadata": {},
   "source": [
    "统计某一列各元素出现的个数\n",
    "\n",
    "https://blog.csdn.net/zr1213159840/article/details/107818784?spm=1001.2101.3001.6650.3&utm_medium=distribute.pc_relevant.none-task-blog-2%7Edefault%7ECTRLIST%7ERate-3-107818784-blog-103014532.pc_relevant_recovery_v2&depth_1-utm_source=distribute.pc_relevant.none-task-blog-2%7Edefault%7ECTRLIST%7ERate-3-107818784-blog-103014532.pc_relevant_recovery_v2&utm_relevant_index=6"
   ]
  },
  {
   "cell_type": "code",
   "execution_count": 106,
   "id": "5b24ab4f",
   "metadata": {},
   "outputs": [
    {
     "data": {
      "text/plain": [
       "4    797\n",
       "3    756\n",
       "1     58\n",
       "2     18\n",
       "无      1\n",
       "0      1\n",
       "Name: 症状持续时间, dtype: int64"
      ]
     },
     "execution_count": 106,
     "metadata": {},
     "output_type": "execute_result"
    }
   ],
   "source": [
    "jibing['症状持续时间'].value_counts()"
   ]
  },
  {
   "cell_type": "markdown",
   "id": "060f02ab",
   "metadata": {},
   "source": [
    "无占很小的比例，直接删掉那一行\n"
   ]
  },
  {
   "cell_type": "markdown",
   "id": "72330e5b",
   "metadata": {},
   "source": [
    "pandas 获取指定列中的某个值（范围）所属的行\n",
    "\n",
    "https://blog.csdn.net/weixin_44222183/article/details/106187018"
   ]
  },
  {
   "cell_type": "code",
   "execution_count": 107,
   "id": "80e1ebf5",
   "metadata": {},
   "outputs": [
    {
     "data": {
      "text/plain": [
       "Int64Index([1515], dtype='int64')"
      ]
     },
     "execution_count": 107,
     "metadata": {},
     "output_type": "execute_result"
    }
   ],
   "source": [
    "jibing[jibing['症状持续时间'] == \"无\"].index"
   ]
  },
  {
   "cell_type": "markdown",
   "id": "676cdef0",
   "metadata": {},
   "source": [
    "pandas 删除某一行\n",
    "\n",
    "https://blog.csdn.net/LHJCSDNYL/article/details/124784943?ops_request_misc=%257B%2522request%255Fid%2522%253A%2522166808474916800182765154%2522%252C%2522scm%2522%253A%252220140713.130102334..%2522%257D&request_id=166808474916800182765154&biz_id=0&utm_medium=distribute.pc_search_result.none-task-blog-2~all~sobaiduend~default-1-124784943-null-null.142^v63^wechat,201^v3^add_ask,213^v2^t3_esquery_v1&utm_term=pandas%20%E5%88%A0%E9%99%A4%E6%9F%90%E4%B8%80%E8%A1%8C&spm=1018.2226.3001.4187"
   ]
  },
  {
   "cell_type": "code",
   "execution_count": 108,
   "id": "eb64b466",
   "metadata": {},
   "outputs": [],
   "source": [
    "jibing = jibing.drop(labels=jibing[jibing['症状持续时间'] == \"无\"].index)\n",
    "jibing = jibing.drop(labels=jibing[jibing['症状持续时间'] == 0 ].index)"
   ]
  },
  {
   "cell_type": "code",
   "execution_count": 109,
   "id": "8560b577",
   "metadata": {},
   "outputs": [
    {
     "data": {
      "text/html": [
       "<div>\n",
       "<style scoped>\n",
       "    .dataframe tbody tr th:only-of-type {\n",
       "        vertical-align: middle;\n",
       "    }\n",
       "\n",
       "    .dataframe tbody tr th {\n",
       "        vertical-align: top;\n",
       "    }\n",
       "\n",
       "    .dataframe thead th {\n",
       "        text-align: right;\n",
       "    }\n",
       "</style>\n",
       "<table border=\"1\" class=\"dataframe\">\n",
       "  <thead>\n",
       "    <tr style=\"text-align: right;\">\n",
       "      <th></th>\n",
       "      <th>左右</th>\n",
       "      <th>是否外伤</th>\n",
       "      <th>症状持续时间</th>\n",
       "      <th>明显夜间痛</th>\n",
       "      <th>性别</th>\n",
       "      <th>年龄</th>\n",
       "      <th>高血压</th>\n",
       "      <th>高血脂</th>\n",
       "      <th>2型糖尿病</th>\n",
       "      <th>吸烟与否</th>\n",
       "      <th>...</th>\n",
       "      <th>果糖胺</th>\n",
       "      <th>肌酸激酶</th>\n",
       "      <th>α-L-盐藻糖苷酶</th>\n",
       "      <th>乳酸</th>\n",
       "      <th>淀粉酶</th>\n",
       "      <th>同型半胱氨酸</th>\n",
       "      <th>铁</th>\n",
       "      <th>总铁结合力</th>\n",
       "      <th>血型</th>\n",
       "      <th>结果</th>\n",
       "    </tr>\n",
       "  </thead>\n",
       "  <tbody>\n",
       "    <tr>\n",
       "      <th>0</th>\n",
       "      <td>1</td>\n",
       "      <td>0</td>\n",
       "      <td>3</td>\n",
       "      <td>0.0</td>\n",
       "      <td>1</td>\n",
       "      <td>54</td>\n",
       "      <td>0</td>\n",
       "      <td>0</td>\n",
       "      <td>0</td>\n",
       "      <td>1</td>\n",
       "      <td>...</td>\n",
       "      <td>2.03</td>\n",
       "      <td>73.0</td>\n",
       "      <td>39.0</td>\n",
       "      <td>2.0</td>\n",
       "      <td>48.0</td>\n",
       "      <td>15.5</td>\n",
       "      <td>13.4</td>\n",
       "      <td>59.4</td>\n",
       "      <td>0</td>\n",
       "      <td>0</td>\n",
       "    </tr>\n",
       "    <tr>\n",
       "      <th>1</th>\n",
       "      <td>1</td>\n",
       "      <td>1</td>\n",
       "      <td>1</td>\n",
       "      <td>1.0</td>\n",
       "      <td>0</td>\n",
       "      <td>63</td>\n",
       "      <td>1</td>\n",
       "      <td>0</td>\n",
       "      <td>1</td>\n",
       "      <td>0</td>\n",
       "      <td>...</td>\n",
       "      <td>2.90</td>\n",
       "      <td>84.0</td>\n",
       "      <td>20.0</td>\n",
       "      <td>3.1</td>\n",
       "      <td>71.0</td>\n",
       "      <td>17.7</td>\n",
       "      <td>12.4</td>\n",
       "      <td>67.1</td>\n",
       "      <td>0</td>\n",
       "      <td>0</td>\n",
       "    </tr>\n",
       "    <tr>\n",
       "      <th>2</th>\n",
       "      <td>1</td>\n",
       "      <td>0</td>\n",
       "      <td>4</td>\n",
       "      <td>1.0</td>\n",
       "      <td>0</td>\n",
       "      <td>65</td>\n",
       "      <td>0</td>\n",
       "      <td>0</td>\n",
       "      <td>0</td>\n",
       "      <td>0</td>\n",
       "      <td>...</td>\n",
       "      <td>1.55</td>\n",
       "      <td>121.0</td>\n",
       "      <td>7.0</td>\n",
       "      <td>1.8</td>\n",
       "      <td>63.0</td>\n",
       "      <td>11.4</td>\n",
       "      <td>19.6</td>\n",
       "      <td>50.5</td>\n",
       "      <td>2</td>\n",
       "      <td>0</td>\n",
       "    </tr>\n",
       "    <tr>\n",
       "      <th>3</th>\n",
       "      <td>0</td>\n",
       "      <td>1</td>\n",
       "      <td>1</td>\n",
       "      <td>0.0</td>\n",
       "      <td>1</td>\n",
       "      <td>45</td>\n",
       "      <td>0</td>\n",
       "      <td>0</td>\n",
       "      <td>0</td>\n",
       "      <td>1</td>\n",
       "      <td>...</td>\n",
       "      <td>1.90</td>\n",
       "      <td>187.0</td>\n",
       "      <td>19.0</td>\n",
       "      <td>2.3</td>\n",
       "      <td>42.0</td>\n",
       "      <td>9.4</td>\n",
       "      <td>9.8</td>\n",
       "      <td>55.8</td>\n",
       "      <td>2</td>\n",
       "      <td>0</td>\n",
       "    </tr>\n",
       "    <tr>\n",
       "      <th>4</th>\n",
       "      <td>1</td>\n",
       "      <td>1</td>\n",
       "      <td>3</td>\n",
       "      <td>1.0</td>\n",
       "      <td>1</td>\n",
       "      <td>55</td>\n",
       "      <td>0</td>\n",
       "      <td>0</td>\n",
       "      <td>0</td>\n",
       "      <td>0</td>\n",
       "      <td>...</td>\n",
       "      <td>2.19</td>\n",
       "      <td>66.0</td>\n",
       "      <td>25.0</td>\n",
       "      <td>2.0</td>\n",
       "      <td>111.0</td>\n",
       "      <td>15.3</td>\n",
       "      <td>26.1</td>\n",
       "      <td>54.8</td>\n",
       "      <td>0</td>\n",
       "      <td>0</td>\n",
       "    </tr>\n",
       "  </tbody>\n",
       "</table>\n",
       "<p>5 rows × 63 columns</p>\n",
       "</div>"
      ],
      "text/plain": [
       "  左右  是否外伤 症状持续时间  明显夜间痛 性别  年龄  高血压  高血脂  2型糖尿病  吸烟与否  ...   果糖胺   肌酸激酶  \\\n",
       "0  1     0      3    0.0  1  54    0    0      0     1  ...  2.03   73.0   \n",
       "1  1     1      1    1.0  0  63    1    0      1     0  ...  2.90   84.0   \n",
       "2  1     0      4    1.0  0  65    0    0      0     0  ...  1.55  121.0   \n",
       "3  0     1      1    0.0  1  45    0    0      0     1  ...  1.90  187.0   \n",
       "4  1     1      3    1.0  1  55    0    0      0     0  ...  2.19   66.0   \n",
       "\n",
       "   α-L-盐藻糖苷酶   乳酸    淀粉酶  同型半胱氨酸     铁  总铁结合力 血型  结果  \n",
       "0       39.0  2.0   48.0    15.5  13.4   59.4  0   0  \n",
       "1       20.0  3.1   71.0    17.7  12.4   67.1  0   0  \n",
       "2        7.0  1.8   63.0    11.4  19.6   50.5  2   0  \n",
       "3       19.0  2.3   42.0     9.4   9.8   55.8  2   0  \n",
       "4       25.0  2.0  111.0    15.3  26.1   54.8  0   0  \n",
       "\n",
       "[5 rows x 63 columns]"
      ]
     },
     "execution_count": 109,
     "metadata": {},
     "output_type": "execute_result"
    }
   ],
   "source": [
    "jibing.head(5)"
   ]
  },
  {
   "cell_type": "markdown",
   "id": "f36aa595",
   "metadata": {},
   "source": [
    "### 填补缺失值\n",
    "未发现缺失值"
   ]
  },
  {
   "cell_type": "code",
   "execution_count": 110,
   "id": "7a400851",
   "metadata": {},
   "outputs": [
    {
     "name": "stdout",
     "output_type": "stream",
     "text": [
      "<class 'pandas.core.frame.DataFrame'>\n",
      "Int64Index: 1629 entries, 0 to 1630\n",
      "Data columns (total 63 columns):\n",
      " #   Column         Non-Null Count  Dtype  \n",
      "---  ------         --------------  -----  \n",
      " 0   左右             1629 non-null   object \n",
      " 1   是否外伤           1629 non-null   int64  \n",
      " 2   症状持续时间         1629 non-null   object \n",
      " 3   明显夜间痛          1629 non-null   float64\n",
      " 4   性别             1629 non-null   object \n",
      " 5   年龄             1629 non-null   int64  \n",
      " 6   高血压            1629 non-null   int64  \n",
      " 7   高血脂            1629 non-null   int64  \n",
      " 8   2型糖尿病          1629 non-null   int64  \n",
      " 9   吸烟与否           1629 non-null   int64  \n",
      " 10  饮酒与否           1629 non-null   int64  \n",
      " 11  红细胞计数*10^12/L  1629 non-null   float64\n",
      " 12  血红蛋白           1629 non-null   float64\n",
      " 13  红细胞压积          1629 non-null   float64\n",
      " 14  血小板计数          1629 non-null   float64\n",
      " 15  血小板压积          1629 non-null   float64\n",
      " 16  总蛋白g/L         1628 non-null   float64\n",
      " 17  白蛋白g/L         1629 non-null   float64\n",
      " 18  球蛋白g/L         1629 non-null   object \n",
      " 19  白球比            1629 non-null   float64\n",
      " 20  ALT丙氨酸氨基转移酶    1629 non-null   int64  \n",
      " 21  AST天门冬氨酸氨基转移酶  1629 non-null   int64  \n",
      " 22  碱性磷酸酶          1629 non-null   int64  \n",
      " 23  谷氨酸转肽酶         1629 non-null   int64  \n",
      " 24  AST:ALT        1629 non-null   float64\n",
      " 25  总胆红素           1629 non-null   float64\n",
      " 26  直接胆红素          1629 non-null   float64\n",
      " 27  间接胆红素          1629 non-null   float64\n",
      " 28  钾              1629 non-null   float64\n",
      " 29  钠              1629 non-null   float64\n",
      " 30  氯              1629 non-null   float64\n",
      " 31  钙              1629 non-null   object \n",
      " 32  磷              1629 non-null   float64\n",
      " 33  镁              1629 non-null   float64\n",
      " 34  葡萄糖            1629 non-null   float64\n",
      " 35  肌酐             1629 non-null   float64\n",
      " 36  尿素             1629 non-null   float64\n",
      " 37  尿酸             1629 non-null   float64\n",
      " 38  甘油三酯           1629 non-null   float64\n",
      " 39  总胆固醇           1629 non-null   float64\n",
      " 40  H高密度胆固醇        1629 non-null   float64\n",
      " 41  L低密度胆固醇        1629 non-null   float64\n",
      " 42  载脂蛋白A1         1629 non-null   float64\n",
      " 43  载脂蛋白B          1629 non-null   float64\n",
      " 44  载脂蛋白E mg/l     1629 non-null   float64\n",
      " 45  aPoB/aPoA1     1629 non-null   float64\n",
      " 46  脂蛋白小a          1629 non-null   object \n",
      " 47  乳酸脱氢酶LDH       1629 non-null   int64  \n",
      " 48  β-2微球蛋白        1629 non-null   float64\n",
      " 49  胆碱酯酶           1629 non-null   int64  \n",
      " 50  前白蛋白mg/l       1629 non-null   int64  \n",
      " 51  总胆汁酸           1629 non-null   float64\n",
      " 52  腺苷脱氨酶ADA       1629 non-null   float64\n",
      " 53  果糖胺            1629 non-null   float64\n",
      " 54  肌酸激酶           1629 non-null   float64\n",
      " 55  α-L-盐藻糖苷酶      1629 non-null   float64\n",
      " 56  乳酸             1628 non-null   float64\n",
      " 57  淀粉酶            1629 non-null   float64\n",
      " 58  同型半胱氨酸         1629 non-null   float64\n",
      " 59  铁              1629 non-null   float64\n",
      " 60  总铁结合力          1629 non-null   float64\n",
      " 61  血型             1629 non-null   object \n",
      " 62  结果             1629 non-null   int64  \n",
      "dtypes: float64(41), int64(15), object(7)\n",
      "memory usage: 814.5+ KB\n"
     ]
    }
   ],
   "source": [
    "jibing.info()"
   ]
  },
  {
   "cell_type": "markdown",
   "id": "83530ca0",
   "metadata": {},
   "source": [
    "### 缺失值填补\n",
    "缺失值占了很少的比例，所以直接去掉缺失值所在的行"
   ]
  },
  {
   "cell_type": "code",
   "execution_count": 111,
   "id": "e261e19e",
   "metadata": {},
   "outputs": [],
   "source": [
    "jibing.dropna(axis=0,inplace=True)"
   ]
  },
  {
   "cell_type": "code",
   "execution_count": 112,
   "id": "1a29b587",
   "metadata": {},
   "outputs": [
    {
     "data": {
      "text/html": [
       "<div>\n",
       "<style scoped>\n",
       "    .dataframe tbody tr th:only-of-type {\n",
       "        vertical-align: middle;\n",
       "    }\n",
       "\n",
       "    .dataframe tbody tr th {\n",
       "        vertical-align: top;\n",
       "    }\n",
       "\n",
       "    .dataframe thead th {\n",
       "        text-align: right;\n",
       "    }\n",
       "</style>\n",
       "<table border=\"1\" class=\"dataframe\">\n",
       "  <thead>\n",
       "    <tr style=\"text-align: right;\">\n",
       "      <th></th>\n",
       "      <th>左右</th>\n",
       "      <th>是否外伤</th>\n",
       "      <th>症状持续时间</th>\n",
       "      <th>明显夜间痛</th>\n",
       "      <th>性别</th>\n",
       "      <th>年龄</th>\n",
       "      <th>高血压</th>\n",
       "      <th>高血脂</th>\n",
       "      <th>2型糖尿病</th>\n",
       "      <th>吸烟与否</th>\n",
       "      <th>...</th>\n",
       "      <th>果糖胺</th>\n",
       "      <th>肌酸激酶</th>\n",
       "      <th>α-L-盐藻糖苷酶</th>\n",
       "      <th>乳酸</th>\n",
       "      <th>淀粉酶</th>\n",
       "      <th>同型半胱氨酸</th>\n",
       "      <th>铁</th>\n",
       "      <th>总铁结合力</th>\n",
       "      <th>血型</th>\n",
       "      <th>结果</th>\n",
       "    </tr>\n",
       "  </thead>\n",
       "  <tbody>\n",
       "    <tr>\n",
       "      <th>0</th>\n",
       "      <td>1</td>\n",
       "      <td>0</td>\n",
       "      <td>3</td>\n",
       "      <td>0.0</td>\n",
       "      <td>1</td>\n",
       "      <td>54</td>\n",
       "      <td>0</td>\n",
       "      <td>0</td>\n",
       "      <td>0</td>\n",
       "      <td>1</td>\n",
       "      <td>...</td>\n",
       "      <td>2.03</td>\n",
       "      <td>73.0</td>\n",
       "      <td>39.0</td>\n",
       "      <td>2.0</td>\n",
       "      <td>48.0</td>\n",
       "      <td>15.5</td>\n",
       "      <td>13.4</td>\n",
       "      <td>59.4</td>\n",
       "      <td>0</td>\n",
       "      <td>0</td>\n",
       "    </tr>\n",
       "    <tr>\n",
       "      <th>1</th>\n",
       "      <td>1</td>\n",
       "      <td>1</td>\n",
       "      <td>1</td>\n",
       "      <td>1.0</td>\n",
       "      <td>0</td>\n",
       "      <td>63</td>\n",
       "      <td>1</td>\n",
       "      <td>0</td>\n",
       "      <td>1</td>\n",
       "      <td>0</td>\n",
       "      <td>...</td>\n",
       "      <td>2.90</td>\n",
       "      <td>84.0</td>\n",
       "      <td>20.0</td>\n",
       "      <td>3.1</td>\n",
       "      <td>71.0</td>\n",
       "      <td>17.7</td>\n",
       "      <td>12.4</td>\n",
       "      <td>67.1</td>\n",
       "      <td>0</td>\n",
       "      <td>0</td>\n",
       "    </tr>\n",
       "    <tr>\n",
       "      <th>2</th>\n",
       "      <td>1</td>\n",
       "      <td>0</td>\n",
       "      <td>4</td>\n",
       "      <td>1.0</td>\n",
       "      <td>0</td>\n",
       "      <td>65</td>\n",
       "      <td>0</td>\n",
       "      <td>0</td>\n",
       "      <td>0</td>\n",
       "      <td>0</td>\n",
       "      <td>...</td>\n",
       "      <td>1.55</td>\n",
       "      <td>121.0</td>\n",
       "      <td>7.0</td>\n",
       "      <td>1.8</td>\n",
       "      <td>63.0</td>\n",
       "      <td>11.4</td>\n",
       "      <td>19.6</td>\n",
       "      <td>50.5</td>\n",
       "      <td>2</td>\n",
       "      <td>0</td>\n",
       "    </tr>\n",
       "    <tr>\n",
       "      <th>3</th>\n",
       "      <td>0</td>\n",
       "      <td>1</td>\n",
       "      <td>1</td>\n",
       "      <td>0.0</td>\n",
       "      <td>1</td>\n",
       "      <td>45</td>\n",
       "      <td>0</td>\n",
       "      <td>0</td>\n",
       "      <td>0</td>\n",
       "      <td>1</td>\n",
       "      <td>...</td>\n",
       "      <td>1.90</td>\n",
       "      <td>187.0</td>\n",
       "      <td>19.0</td>\n",
       "      <td>2.3</td>\n",
       "      <td>42.0</td>\n",
       "      <td>9.4</td>\n",
       "      <td>9.8</td>\n",
       "      <td>55.8</td>\n",
       "      <td>2</td>\n",
       "      <td>0</td>\n",
       "    </tr>\n",
       "    <tr>\n",
       "      <th>4</th>\n",
       "      <td>1</td>\n",
       "      <td>1</td>\n",
       "      <td>3</td>\n",
       "      <td>1.0</td>\n",
       "      <td>1</td>\n",
       "      <td>55</td>\n",
       "      <td>0</td>\n",
       "      <td>0</td>\n",
       "      <td>0</td>\n",
       "      <td>0</td>\n",
       "      <td>...</td>\n",
       "      <td>2.19</td>\n",
       "      <td>66.0</td>\n",
       "      <td>25.0</td>\n",
       "      <td>2.0</td>\n",
       "      <td>111.0</td>\n",
       "      <td>15.3</td>\n",
       "      <td>26.1</td>\n",
       "      <td>54.8</td>\n",
       "      <td>0</td>\n",
       "      <td>0</td>\n",
       "    </tr>\n",
       "  </tbody>\n",
       "</table>\n",
       "<p>5 rows × 63 columns</p>\n",
       "</div>"
      ],
      "text/plain": [
       "  左右  是否外伤 症状持续时间  明显夜间痛 性别  年龄  高血压  高血脂  2型糖尿病  吸烟与否  ...   果糖胺   肌酸激酶  \\\n",
       "0  1     0      3    0.0  1  54    0    0      0     1  ...  2.03   73.0   \n",
       "1  1     1      1    1.0  0  63    1    0      1     0  ...  2.90   84.0   \n",
       "2  1     0      4    1.0  0  65    0    0      0     0  ...  1.55  121.0   \n",
       "3  0     1      1    0.0  1  45    0    0      0     1  ...  1.90  187.0   \n",
       "4  1     1      3    1.0  1  55    0    0      0     0  ...  2.19   66.0   \n",
       "\n",
       "   α-L-盐藻糖苷酶   乳酸    淀粉酶  同型半胱氨酸     铁  总铁结合力 血型  结果  \n",
       "0       39.0  2.0   48.0    15.5  13.4   59.4  0   0  \n",
       "1       20.0  3.1   71.0    17.7  12.4   67.1  0   0  \n",
       "2        7.0  1.8   63.0    11.4  19.6   50.5  2   0  \n",
       "3       19.0  2.3   42.0     9.4   9.8   55.8  2   0  \n",
       "4       25.0  2.0  111.0    15.3  26.1   54.8  0   0  \n",
       "\n",
       "[5 rows x 63 columns]"
      ]
     },
     "execution_count": 112,
     "metadata": {},
     "output_type": "execute_result"
    }
   ],
   "source": [
    "jibing.head(5)"
   ]
  },
  {
   "cell_type": "markdown",
   "id": "ff24a0ee",
   "metadata": {},
   "source": [
    "### 其他非法字符\n",
    "小数点输入重复\n",
    "\n",
    "多余的 + "
   ]
  },
  {
   "cell_type": "markdown",
   "id": "bda51b9d",
   "metadata": {},
   "source": [
    "去量纲化的过程中发现有很多部分数字的小数点重复，\n",
    "为了不对整体产生影响，决定将其删除\n",
    "\n",
    "kmp 算法\n",
    "\n",
    "ValueError: could not convert string to float: '22..9'"
   ]
  },
  {
   "cell_type": "code",
   "execution_count": 113,
   "id": "d75a5610",
   "metadata": {},
   "outputs": [
    {
     "data": {
      "text/plain": [
       "[155, 265, 356]"
      ]
     },
     "execution_count": 113,
     "metadata": {},
     "output_type": "execute_result"
    }
   ],
   "source": [
    "drop_index = []\n",
    "for i in range(jibing.shape[0]):\n",
    "    for j in range(jibing.shape[1]):\n",
    "        p=\"..\"\n",
    "        p=list(p)\n",
    "        s=list(str(jibing.iloc[i,j]))\n",
    "        next=[0]\n",
    "        Get_next(p, next)\n",
    "        if kmp_match(s,p,next) != -1:\n",
    "            drop_index.append(i)\n",
    "        p = \"+\"\n",
    "        p=list(p)\n",
    "        s=list(str(jibing.iloc[i,j]))\n",
    "        next=[0]\n",
    "        Get_next(p, next)\n",
    "        if kmp_match(s,p,next) != -1:\n",
    "            drop_index.append(i)\n",
    "drop_index"
   ]
  },
  {
   "cell_type": "code",
   "execution_count": 114,
   "id": "8cbd614b",
   "metadata": {},
   "outputs": [],
   "source": [
    "jibing = jibing.drop(labels=156,axis=0)\n",
    "jibing = jibing.drop(labels=266,axis=0)\n",
    "jibing = jibing.drop(labels=357,axis=0).reset_index()"
   ]
  },
  {
   "cell_type": "markdown",
   "id": "098e06e7",
   "metadata": {},
   "source": [
    "## 打乱数据集"
   ]
  },
  {
   "cell_type": "code",
   "execution_count": 115,
   "id": "bc8af1d1",
   "metadata": {},
   "outputs": [],
   "source": [
    "import random\n",
    "id = [i for i in range(0,len(jibing))]\n",
    "random.shuffle(id)\n",
    "jibing_copy = jibing.copy()\n",
    "for j in range(0,len(jibing)):\n",
    "    jibing.iloc[j] = jibing_copy.iloc[id[j]]"
   ]
  },
  {
   "cell_type": "code",
   "execution_count": 116,
   "id": "ebc98519",
   "metadata": {},
   "outputs": [],
   "source": [
    "jibing = jibing.iloc[:,1:]"
   ]
  },
  {
   "cell_type": "code",
   "execution_count": 117,
   "id": "bb9eb7d9",
   "metadata": {},
   "outputs": [
    {
     "data": {
      "text/html": [
       "<div>\n",
       "<style scoped>\n",
       "    .dataframe tbody tr th:only-of-type {\n",
       "        vertical-align: middle;\n",
       "    }\n",
       "\n",
       "    .dataframe tbody tr th {\n",
       "        vertical-align: top;\n",
       "    }\n",
       "\n",
       "    .dataframe thead th {\n",
       "        text-align: right;\n",
       "    }\n",
       "</style>\n",
       "<table border=\"1\" class=\"dataframe\">\n",
       "  <thead>\n",
       "    <tr style=\"text-align: right;\">\n",
       "      <th></th>\n",
       "      <th>左右</th>\n",
       "      <th>是否外伤</th>\n",
       "      <th>症状持续时间</th>\n",
       "      <th>明显夜间痛</th>\n",
       "      <th>性别</th>\n",
       "      <th>年龄</th>\n",
       "      <th>高血压</th>\n",
       "      <th>高血脂</th>\n",
       "      <th>2型糖尿病</th>\n",
       "      <th>吸烟与否</th>\n",
       "      <th>...</th>\n",
       "      <th>果糖胺</th>\n",
       "      <th>肌酸激酶</th>\n",
       "      <th>α-L-盐藻糖苷酶</th>\n",
       "      <th>乳酸</th>\n",
       "      <th>淀粉酶</th>\n",
       "      <th>同型半胱氨酸</th>\n",
       "      <th>铁</th>\n",
       "      <th>总铁结合力</th>\n",
       "      <th>血型</th>\n",
       "      <th>结果</th>\n",
       "    </tr>\n",
       "  </thead>\n",
       "  <tbody>\n",
       "    <tr>\n",
       "      <th>0</th>\n",
       "      <td>1</td>\n",
       "      <td>0</td>\n",
       "      <td>3</td>\n",
       "      <td>0.0</td>\n",
       "      <td>1</td>\n",
       "      <td>51</td>\n",
       "      <td>0</td>\n",
       "      <td>0</td>\n",
       "      <td>0</td>\n",
       "      <td>1</td>\n",
       "      <td>...</td>\n",
       "      <td>1.97</td>\n",
       "      <td>62.0</td>\n",
       "      <td>18.0</td>\n",
       "      <td>1.4</td>\n",
       "      <td>80.0</td>\n",
       "      <td>23.0</td>\n",
       "      <td>14.2</td>\n",
       "      <td>51.6</td>\n",
       "      <td>0</td>\n",
       "      <td>0</td>\n",
       "    </tr>\n",
       "    <tr>\n",
       "      <th>1</th>\n",
       "      <td>1</td>\n",
       "      <td>0</td>\n",
       "      <td>4</td>\n",
       "      <td>0.0</td>\n",
       "      <td>0</td>\n",
       "      <td>69</td>\n",
       "      <td>0</td>\n",
       "      <td>0</td>\n",
       "      <td>0</td>\n",
       "      <td>0</td>\n",
       "      <td>...</td>\n",
       "      <td>1.71</td>\n",
       "      <td>72.0</td>\n",
       "      <td>20.0</td>\n",
       "      <td>2.5</td>\n",
       "      <td>103.0</td>\n",
       "      <td>10.3</td>\n",
       "      <td>6.5</td>\n",
       "      <td>57.1</td>\n",
       "      <td>2</td>\n",
       "      <td>0</td>\n",
       "    </tr>\n",
       "    <tr>\n",
       "      <th>2</th>\n",
       "      <td>1</td>\n",
       "      <td>0</td>\n",
       "      <td>4</td>\n",
       "      <td>0.0</td>\n",
       "      <td>0</td>\n",
       "      <td>30</td>\n",
       "      <td>0</td>\n",
       "      <td>0</td>\n",
       "      <td>0</td>\n",
       "      <td>0</td>\n",
       "      <td>...</td>\n",
       "      <td>1.67</td>\n",
       "      <td>32.0</td>\n",
       "      <td>17.0</td>\n",
       "      <td>1.3</td>\n",
       "      <td>52.0</td>\n",
       "      <td>10.7</td>\n",
       "      <td>25.3</td>\n",
       "      <td>64.1</td>\n",
       "      <td>0</td>\n",
       "      <td>0</td>\n",
       "    </tr>\n",
       "    <tr>\n",
       "      <th>3</th>\n",
       "      <td>1</td>\n",
       "      <td>0</td>\n",
       "      <td>4</td>\n",
       "      <td>1.0</td>\n",
       "      <td>1</td>\n",
       "      <td>59</td>\n",
       "      <td>0</td>\n",
       "      <td>0</td>\n",
       "      <td>0</td>\n",
       "      <td>1</td>\n",
       "      <td>...</td>\n",
       "      <td>2.05</td>\n",
       "      <td>132.0</td>\n",
       "      <td>16.0</td>\n",
       "      <td>1.6</td>\n",
       "      <td>55.0</td>\n",
       "      <td>21.2</td>\n",
       "      <td>35.6</td>\n",
       "      <td>71.3</td>\n",
       "      <td>0</td>\n",
       "      <td>0</td>\n",
       "    </tr>\n",
       "    <tr>\n",
       "      <th>4</th>\n",
       "      <td>1</td>\n",
       "      <td>0</td>\n",
       "      <td>4</td>\n",
       "      <td>1.0</td>\n",
       "      <td>1</td>\n",
       "      <td>52</td>\n",
       "      <td>0</td>\n",
       "      <td>0</td>\n",
       "      <td>0</td>\n",
       "      <td>1</td>\n",
       "      <td>...</td>\n",
       "      <td>1.72</td>\n",
       "      <td>81.0</td>\n",
       "      <td>22.0</td>\n",
       "      <td>1.2</td>\n",
       "      <td>81.0</td>\n",
       "      <td>14.8</td>\n",
       "      <td>20.1</td>\n",
       "      <td>61.4</td>\n",
       "      <td>3</td>\n",
       "      <td>0</td>\n",
       "    </tr>\n",
       "  </tbody>\n",
       "</table>\n",
       "<p>5 rows × 63 columns</p>\n",
       "</div>"
      ],
      "text/plain": [
       "  左右  是否外伤 症状持续时间  明显夜间痛 性别  年龄  高血压  高血脂  2型糖尿病  吸烟与否  ...   果糖胺   肌酸激酶  \\\n",
       "0  1     0      3    0.0  1  51    0    0      0     1  ...  1.97   62.0   \n",
       "1  1     0      4    0.0  0  69    0    0      0     0  ...  1.71   72.0   \n",
       "2  1     0      4    0.0  0  30    0    0      0     0  ...  1.67   32.0   \n",
       "3  1     0      4    1.0  1  59    0    0      0     1  ...  2.05  132.0   \n",
       "4  1     0      4    1.0  1  52    0    0      0     1  ...  1.72   81.0   \n",
       "\n",
       "   α-L-盐藻糖苷酶   乳酸    淀粉酶  同型半胱氨酸     铁  总铁结合力 血型  结果  \n",
       "0       18.0  1.4   80.0    23.0  14.2   51.6  0   0  \n",
       "1       20.0  2.5  103.0    10.3   6.5   57.1  2   0  \n",
       "2       17.0  1.3   52.0    10.7  25.3   64.1  0   0  \n",
       "3       16.0  1.6   55.0    21.2  35.6   71.3  0   0  \n",
       "4       22.0  1.2   81.0    14.8  20.1   61.4  3   0  \n",
       "\n",
       "[5 rows x 63 columns]"
      ]
     },
     "execution_count": 117,
     "metadata": {},
     "output_type": "execute_result"
    }
   ],
   "source": [
    "jibing.head()"
   ]
  },
  {
   "cell_type": "markdown",
   "id": "24accdad",
   "metadata": {},
   "source": [
    "### 必须重新读取一下 excel 否则会报错\n",
    "- error :isnan"
   ]
  },
  {
   "cell_type": "code",
   "execution_count": 118,
   "id": "228e20fd",
   "metadata": {},
   "outputs": [],
   "source": [
    "jibing.to_excel(\"./jibing_yuchuli_final.xlsx\", index=False)"
   ]
  },
  {
   "cell_type": "code",
   "execution_count": 119,
   "id": "bb7bc133",
   "metadata": {},
   "outputs": [],
   "source": [
    "jibing = pd.read_excel(\"./jibing_yuchuli_final.xlsx\")"
   ]
  },
  {
   "cell_type": "markdown",
   "id": "26548590",
   "metadata": {},
   "source": [
    "## 使用 3σ 消除极值"
   ]
  },
  {
   "cell_type": "code",
   "execution_count": 120,
   "id": "3da32df2",
   "metadata": {
    "scrolled": true
   },
   "outputs": [
    {
     "name": "stdout",
     "output_type": "stream",
     "text": [
      "操作前有1624行\n",
      "操作后有1598行\n",
      "删去了26行\n"
     ]
    }
   ],
   "source": [
    "jibing = three_sigema(jibing)"
   ]
  },
  {
   "cell_type": "markdown",
   "id": "3f0d7b5e",
   "metadata": {},
   "source": [
    "### 保存"
   ]
  },
  {
   "cell_type": "code",
   "execution_count": 121,
   "id": "de1d1104",
   "metadata": {},
   "outputs": [],
   "source": [
    "jibing.to_excel(\"./jibing_yuchuli_final.xlsx\", index=False)"
   ]
  },
  {
   "cell_type": "code",
   "execution_count": 122,
   "id": "6d962f3d",
   "metadata": {},
   "outputs": [
    {
     "data": {
      "text/plain": [
       "(1598, 63)"
      ]
     },
     "execution_count": 122,
     "metadata": {},
     "output_type": "execute_result"
    }
   ],
   "source": [
    "jibing.shape"
   ]
  }
 ],
 "metadata": {
  "kernelspec": {
   "display_name": "Python 3 (ipykernel)",
   "language": "python",
   "name": "python3"
  },
  "language_info": {
   "codemirror_mode": {
    "name": "ipython",
    "version": 3
   },
   "file_extension": ".py",
   "mimetype": "text/x-python",
   "name": "python",
   "nbconvert_exporter": "python",
   "pygments_lexer": "ipython3",
   "version": "3.7.0"
  }
 },
 "nbformat": 4,
 "nbformat_minor": 5
}
