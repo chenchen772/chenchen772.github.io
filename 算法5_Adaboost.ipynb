{
 "cells": [
  {
   "cell_type": "markdown",
   "id": "7f77f2d8",
   "metadata": {},
   "source": [
    "# Adaboost"
   ]
  },
  {
   "cell_type": "markdown",
   "id": "33a61c2c",
   "metadata": {},
   "source": [
    "### AdaBoost是一种迭代算法，用于提高弱分类器的准确性。\n",
    "### 基本原理是，通过构建一系列弱分类器，并将这些弱分类器集成在一起，形成一个强分类器。\n",
    "### 在每次迭代中，AdaBoost会根据上一次迭代的结果，调整各个样本的权重，\n",
    "### 使得那些被错误分类的样本在下一次迭代中得到更多的关注。"
   ]
  },
  {
   "cell_type": "code",
   "execution_count": 1,
   "id": "a0ab97ab",
   "metadata": {},
   "outputs": [],
   "source": [
    "from sklearn.model_selection import GridSearchCV\n",
    "from sklearn.model_selection import cross_val_score\n",
    "from sklearn.model_selection import train_test_split\n",
    "from sklearn.ensemble import AdaBoostClassifier\n",
    "from sklearn.feature_selection import mutual_info_classif\n",
    "from imblearn.over_sampling import SMOTE\n",
    "from sklearn.decomposition import PCA\n",
    "from sklearn.manifold import TSNE\n",
    "from imblearn.over_sampling import RandomOverSampler\n",
    "import matplotlib.pyplot as plt\n",
    "import pandas as pd\n",
    "import numpy as np\n",
    "# 导入自己写的工具类\n",
    "from my_tools import *\n",
    "# 忽略warning\n",
    "import warnings\n",
    "warnings.filterwarnings(\"ignore\")"
   ]
  },
  {
   "cell_type": "markdown",
   "id": "e7a65d2b",
   "metadata": {},
   "source": [
    "### 读数据"
   ]
  },
  {
   "cell_type": "code",
   "execution_count": 2,
   "id": "787c8c17",
   "metadata": {},
   "outputs": [],
   "source": [
    "jibing_res = pd.read_excel(\"./jibing_feature_res_final.xlsx\")\n",
    "jibing = pd.read_excel(\"./jibing_feature_final.xlsx\")"
   ]
  },
  {
   "cell_type": "markdown",
   "id": "40bc8ff9",
   "metadata": {},
   "source": [
    "### 归一化"
   ]
  },
  {
   "cell_type": "code",
   "execution_count": 3,
   "id": "e000e42b",
   "metadata": {},
   "outputs": [],
   "source": [
    "jibing = guiyihua(jibing)"
   ]
  },
  {
   "cell_type": "markdown",
   "id": "540406c8",
   "metadata": {},
   "source": [
    "### 标准化"
   ]
  },
  {
   "cell_type": "code",
   "execution_count": 4,
   "id": "459b493a",
   "metadata": {},
   "outputs": [],
   "source": [
    "jibing = biaozhunhua(jibing)"
   ]
  },
  {
   "cell_type": "code",
   "execution_count": 5,
   "id": "3627b7ca",
   "metadata": {},
   "outputs": [
    {
     "name": "stdout",
     "output_type": "stream",
     "text": [
      "###################raw-Adaboost###################\n",
      "+--------------------+--------+-----+\n",
      "|     precision      | recall |  f1 |\n",
      "+--------------------+--------+-----+\n",
      "| 0.7729340277777778 |  0.0   | 0.0 |\n",
      "+--------------------+--------+-----+\n"
     ]
    }
   ],
   "source": [
    "Xtrain,Xtest,Ytrain,Ytest = train_test_split(jibing,jibing_res,test_size=0.3,random_state=42)\n",
    "clf= AdaBoostClassifier(algorithm='SAMME',random_state=42)\n",
    "clf.fit(Xtrain, Ytrain)\n",
    "y_pred = clf.predict(Xtest)\n",
    "metrics_ = res_metrics(Ytest,y_pred,\"raw-Adaboost\")"
   ]
  },
  {
   "cell_type": "markdown",
   "id": "7272e35a",
   "metadata": {},
   "source": [
    "### 划分训练集测试集\n",
    "### 解决样本不均衡的问题"
   ]
  },
  {
   "cell_type": "code",
   "execution_count": 6,
   "id": "a7c48893",
   "metadata": {},
   "outputs": [],
   "source": [
    "smote = SMOTE(sampling_strategy=1, random_state=42)\n",
    "Xtrain,Xtest,Ytrain,Ytest = train_test_split(jibing,jibing_res,test_size=0.3,random_state=42)\n",
    "Xtrain, Ytrain = smote.fit_resample(Xtrain,Ytrain)"
   ]
  },
  {
   "cell_type": "markdown",
   "id": "ff0a7c3d",
   "metadata": {},
   "source": [
    "### 训练"
   ]
  },
  {
   "cell_type": "code",
   "execution_count": 7,
   "id": "f1190aa8",
   "metadata": {},
   "outputs": [],
   "source": [
    "clf= AdaBoostClassifier(algorithm='SAMME',random_state=42)\n",
    "clf.fit(Xtrain, Ytrain)\n",
    "y_pred = clf.predict(Xtest)"
   ]
  },
  {
   "cell_type": "markdown",
   "id": "8fe4fde8",
   "metadata": {},
   "source": [
    "### 指标"
   ]
  },
  {
   "cell_type": "code",
   "execution_count": 8,
   "id": "5ea9a4f2",
   "metadata": {},
   "outputs": [
    {
     "name": "stdout",
     "output_type": "stream",
     "text": [
      "#######################均衡后########################\n",
      "+--------------------+--------------------+--------------------+\n",
      "|     precision      |       recall       |         f1         |\n",
      "+--------------------+--------------------+--------------------+\n",
      "| 0.8095272489391253 | 0.3620689655172414 | 0.5003510423894826 |\n",
      "+--------------------+--------------------+--------------------+\n"
     ]
    }
   ],
   "source": [
    "metrics_ = res_metrics(Ytest,y_pred,\"均衡后\")"
   ]
  },
  {
   "cell_type": "markdown",
   "id": "1a5f80c5",
   "metadata": {},
   "source": [
    "### 调参\n",
    "- 弱分类器的类型\n",
    "- 迭代次数\n",
    "- 学习率"
   ]
  },
  {
   "cell_type": "markdown",
   "id": "cec63b1c",
   "metadata": {},
   "source": [
    "### 分类器类型"
   ]
  },
  {
   "cell_type": "code",
   "execution_count": 9,
   "id": "0af8be04",
   "metadata": {},
   "outputs": [],
   "source": [
    "from sklearn.linear_model import LogisticRegression\n",
    "from sklearn.svm import SVC\n",
    "from sklearn import tree\n",
    "from sklearn.ensemble import RandomForestClassifier\n",
    "from sklearn.naive_bayes import GaussianNB\n",
    "clf_logi = LogisticRegression(random_state=42)\n",
    "clf_svm = SVC(random_state=42)\n",
    "clf_tree = tree.DecisionTreeClassifier(random_state=42)\n",
    "clf_forest = RandomForestClassifier(random_state=42)\n",
    "clf_bys = GaussianNB()"
   ]
  },
  {
   "cell_type": "code",
   "execution_count": 10,
   "id": "bddb979d",
   "metadata": {},
   "outputs": [],
   "source": [
    "base_clf = [clf_logi,clf_svm,clf_tree,clf_forest,clf_bys]\n",
    "f1_list = []\n",
    "clf_type = [\"logi\",\"svm\",\"tree\",\"forest\",\"bys\"]\n",
    "for clf in base_clf:\n",
    "    clf= AdaBoostClassifier(\n",
    "         clf,# 基分类器\n",
    "        algorithm='SAMME',\n",
    "        random_state=42\n",
    "    )\n",
    "    clf.fit(Xtrain, Ytrain)\n",
    "    y_pred = clf.predict(Xtest)\n",
    "    metrics_ = res_metrics(Ytest,y_pred,\"调参\")\n",
    "    f1_list.append(metrics_[\"f1-score\"])"
   ]
  },
  {
   "cell_type": "code",
   "execution_count": 11,
   "id": "4b7810f6",
   "metadata": {},
   "outputs": [
    {
     "data": {
      "image/png": "[encoded data removed]",
      "text/plain": [
       "<Figure size 640x480 with 1 Axes>"
      ]
     },
     "metadata": {},
     "output_type": "display_data"
    }
   ],
   "source": [
    "set_font()\n",
    "plt.bar(clf_type, f1_list)\n",
    "plt.xlabel('分类器')\n",
    "plt.ylabel('F1_score')\n",
    "plt.title(\"分类器 - F1-score\")\n",
    "plt.show()"
   ]
  },
  {
   "cell_type": "code",
   "execution_count": 12,
   "id": "93143ed4",
   "metadata": {},
   "outputs": [
    {
     "data": {
      "text/plain": [
       "[0.5460720801111363,\n",
       " 0.6302692597399061,\n",
       " 0.39105045600682375,\n",
       " 0.0973709449103634,\n",
       " 0.8421934898402698]"
      ]
     },
     "execution_count": 12,
     "metadata": {},
     "output_type": "execute_result"
    }
   ],
   "source": [
    "f1_list"
   ]
  },
  {
   "cell_type": "code",
   "execution_count": 13,
   "id": "acbbee58",
   "metadata": {},
   "outputs": [
    {
     "name": "stdout",
     "output_type": "stream",
     "text": [
      "#####################bys - f1#####################\n",
      "+--------------------+--------------------+--------------------+\n",
      "|     precision      |       recall       |         f1         |\n",
      "+--------------------+--------------------+--------------------+\n",
      "| 0.8232138405100259 | 0.8620689655172413 | 0.8421934898402698 |\n",
      "+--------------------+--------------------+--------------------+\n"
     ]
    }
   ],
   "source": [
    "clf= AdaBoostClassifier(\n",
    "     clf_bys,# 基分类器\n",
    "    algorithm='SAMME',\n",
    "    random_state=42\n",
    ")\n",
    "clf.fit(Xtrain, Ytrain)\n",
    "y_pred = clf.predict(Xtest)\n",
    "metrics_ = res_metrics(Ytest,y_pred,\"bys - f1\")"
   ]
  },
  {
   "cell_type": "markdown",
   "id": "67b542ad",
   "metadata": {},
   "source": [
    "### 高斯朴素贝叶斯作为基分类器效果最好，f1 为 0.84"
   ]
  },
  {
   "cell_type": "markdown",
   "id": "bfc48852",
   "metadata": {},
   "source": [
    "### 继续调参"
   ]
  },
  {
   "cell_type": "code",
   "execution_count": 14,
   "id": "cc6d1286",
   "metadata": {},
   "outputs": [
    {
     "name": "stdout",
     "output_type": "stream",
     "text": [
      "10.0%\n",
      "14.73684210526316%\n",
      "19.473684210526315%\n",
      "24.210526315789473%\n",
      "28.947368421052634%\n",
      "33.684210526315795%\n",
      "38.421052631578945%\n",
      "43.15789473684211%\n",
      "47.89473684210527%\n",
      "52.63157894736842%\n",
      "57.36842105263158%\n",
      "62.10526315789474%\n",
      "66.84210526315789%\n",
      "71.57894736842105%\n",
      "76.31578947368422%\n",
      "81.05263157894737%\n",
      "85.78947368421052%\n",
      "90.52631578947368%\n",
      "95.26315789473684%\n",
      "100.0%\n"
     ]
    }
   ],
   "source": [
    "# 搜索最佳参数\n",
    "f1_list = []\n",
    "best_f1 = -1.1\n",
    "best_clf = \"N\"\n",
    "best_l_r = -1\n",
    "best_n_es = -1\n",
    "base_clf = [clf_bys]\n",
    "for clf_ in base_clf:\n",
    "    for l_r in np.linspace(0.1,1,20):\n",
    "        for n_es in np.linspace(10,200,50,dtype=int):\n",
    "            clf = AdaBoostClassifier(\n",
    "                 base_estimator = clf_,# 基分类器\n",
    "                 n_estimators = n_es,\n",
    "                 learning_rate = l_r,\n",
    "                 algorithm = 'SAMME',\n",
    "                 random_state = 42\n",
    "            )\n",
    "            clf.fit(Xtrain, Ytrain)\n",
    "            y_pre = clf.predict(Xtest)\n",
    "            metrics_ = res_metrics(Ytest,y_pre,\"调参\")\n",
    "            if best_f1 < metrics_[\"f1-score\"]:\n",
    "                best_clf = clf_\n",
    "                best_l_r = l_r\n",
    "                best_n_es = n_es\n",
    "                best_f1 = metrics_[\"f1-score\"]\n",
    "            f1_list.append(metrics_[\"f1-score\"])\n",
    "        print(\"{}%\".format(l_r * 100))"
   ]
  },
  {
   "cell_type": "code",
   "execution_count": 15,
   "id": "ccbb607b",
   "metadata": {},
   "outputs": [
    {
     "data": {
      "image/png": "[encoded data removed]",
      "text/plain": [
       "<Figure size 640x480 with 1 Axes>"
      ]
     },
     "metadata": {},
     "output_type": "display_data"
    }
   ],
   "source": [
    "zhexiantu(np.linspace(1,1000,1000),f1_list,\"params - F1\")"
   ]
  },
  {
   "cell_type": "markdown",
   "id": "d9a930b3",
   "metadata": {},
   "source": [
    "### 没有很明显的提升"
   ]
  },
  {
   "cell_type": "code",
   "execution_count": 16,
   "id": "d1bd4b06",
   "metadata": {},
   "outputs": [
    {
     "name": "stdout",
     "output_type": "stream",
     "text": [
      "####################Final - f1####################\n",
      "+--------------------+--------------------+--------------------+\n",
      "|     precision      |       recall       |         f1         |\n",
      "+--------------------+--------------------+--------------------+\n",
      "| 0.8232138405100259 | 0.8620689655172413 | 0.8421934898402698 |\n",
      "+--------------------+--------------------+--------------------+\n"
     ]
    }
   ],
   "source": [
    "clf= AdaBoostClassifier(\n",
    "     clf_bys,# 基分类器\n",
    "    algorithm='SAMME',\n",
    "    random_state=42\n",
    ")\n",
    "clf.fit(Xtrain, Ytrain)\n",
    "y_pred = clf.predict(Xtest)\n",
    "metrics_ = res_metrics(Ytest,y_pred,\"Final - f1\")"
   ]
  }
 ],
 "metadata": {
  "kernelspec": {
   "display_name": "Python 3 (ipykernel)",
   "language": "python",
   "name": "python3"
  },
  "language_info": {
   "codemirror_mode": {
    "name": "ipython",
    "version": 3
   },
   "file_extension": ".py",
   "mimetype": "text/x-python",
   "name": "python",
   "nbconvert_exporter": "python",
   "pygments_lexer": "ipython3",
   "version": "3.7.0"
  }
 },
 "nbformat": 4,
 "nbformat_minor": 5
}
