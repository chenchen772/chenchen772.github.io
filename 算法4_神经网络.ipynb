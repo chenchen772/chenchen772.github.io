{
 "cells": [
  {
   "cell_type": "markdown",
   "id": "8eb3fedb",
   "metadata": {},
   "source": [
    "# 神经网络"
   ]
  },
  {
   "cell_type": "markdown",
   "id": "22306de9",
   "metadata": {},
   "source": [
    "### 导入包"
   ]
  },
  {
   "cell_type": "code",
   "execution_count": 1,
   "id": "fad8bb5a",
   "metadata": {},
   "outputs": [],
   "source": [
    "import torch\n",
    "from torch import nn\n",
    "from torch.autograd import Variable\n",
    "import torch.optim as optim\n",
    "import pandas as pd\n",
    "from imblearn.over_sampling import RandomOverSampler\n",
    "from my_tools import *"
   ]
  },
  {
   "cell_type": "code",
   "execution_count": 2,
   "id": "bfb45759",
   "metadata": {},
   "outputs": [],
   "source": [
    "# 忽略warning\n",
    "import warnings\n",
    "warnings.filterwarnings(\"ignore\")"
   ]
  },
  {
   "cell_type": "markdown",
   "id": "45f759eb",
   "metadata": {},
   "source": [
    "### 读取数据"
   ]
  },
  {
   "cell_type": "code",
   "execution_count": 3,
   "id": "ba47dca2",
   "metadata": {},
   "outputs": [],
   "source": [
    "jibing_res = pd.read_excel(\"./jibing_feature_res_final.xlsx\")\n",
    "jibing = pd.read_excel(\"./jibing_feature_final.xlsx\")"
   ]
  },
  {
   "cell_type": "markdown",
   "id": "c6b1cf2b",
   "metadata": {},
   "source": [
    "### 归一化"
   ]
  },
  {
   "cell_type": "code",
   "execution_count": 4,
   "id": "3f5f5cd8",
   "metadata": {},
   "outputs": [],
   "source": [
    "jibing = guiyihua(jibing)"
   ]
  },
  {
   "cell_type": "markdown",
   "id": "d2167c2a",
   "metadata": {},
   "source": [
    "### 标准化"
   ]
  },
  {
   "cell_type": "code",
   "execution_count": 5,
   "id": "2ae58e32",
   "metadata": {},
   "outputs": [],
   "source": [
    "jibing = biaozhunhua(jibing)"
   ]
  },
  {
   "cell_type": "code",
   "execution_count": 6,
   "id": "d568601a",
   "metadata": {},
   "outputs": [
    {
     "data": {
      "text/html": [
       "<div>\n",
       "<style scoped>\n",
       "    .dataframe tbody tr th:only-of-type {\n",
       "        vertical-align: middle;\n",
       "    }\n",
       "\n",
       "    .dataframe tbody tr th {\n",
       "        vertical-align: top;\n",
       "    }\n",
       "\n",
       "    .dataframe thead th {\n",
       "        text-align: right;\n",
       "    }\n",
       "</style>\n",
       "<table border=\"1\" class=\"dataframe\">\n",
       "  <thead>\n",
       "    <tr style=\"text-align: right;\">\n",
       "      <th></th>\n",
       "      <th>左右</th>\n",
       "      <th>是否外伤</th>\n",
       "      <th>症状持续时间</th>\n",
       "      <th>明显夜间痛</th>\n",
       "      <th>年龄</th>\n",
       "      <th>高血压</th>\n",
       "      <th>高血脂</th>\n",
       "      <th>2型糖尿病</th>\n",
       "      <th>吸烟与否</th>\n",
       "      <th>饮酒与否</th>\n",
       "      <th>...</th>\n",
       "      <th>腺苷脱氨酶ADA</th>\n",
       "      <th>果糖胺</th>\n",
       "      <th>肌酸激酶</th>\n",
       "      <th>α-L-盐藻糖苷酶</th>\n",
       "      <th>乳酸</th>\n",
       "      <th>淀粉酶</th>\n",
       "      <th>同型半胱氨酸</th>\n",
       "      <th>铁</th>\n",
       "      <th>总铁结合力</th>\n",
       "      <th>血型</th>\n",
       "    </tr>\n",
       "  </thead>\n",
       "  <tbody>\n",
       "    <tr>\n",
       "      <th>0</th>\n",
       "      <td>1</td>\n",
       "      <td>0</td>\n",
       "      <td>3</td>\n",
       "      <td>0</td>\n",
       "      <td>-0.782967</td>\n",
       "      <td>0</td>\n",
       "      <td>0</td>\n",
       "      <td>0</td>\n",
       "      <td>1</td>\n",
       "      <td>2.220159</td>\n",
       "      <td>...</td>\n",
       "      <td>3.084870</td>\n",
       "      <td>-0.136984</td>\n",
       "      <td>-0.189276</td>\n",
       "      <td>-0.073237</td>\n",
       "      <td>-0.785344</td>\n",
       "      <td>0.821117</td>\n",
       "      <td>-0.030360</td>\n",
       "      <td>-1.592012</td>\n",
       "      <td>-1.739854</td>\n",
       "      <td>3</td>\n",
       "    </tr>\n",
       "    <tr>\n",
       "      <th>1</th>\n",
       "      <td>1</td>\n",
       "      <td>0</td>\n",
       "      <td>4</td>\n",
       "      <td>0</td>\n",
       "      <td>-1.079507</td>\n",
       "      <td>0</td>\n",
       "      <td>0</td>\n",
       "      <td>0</td>\n",
       "      <td>0</td>\n",
       "      <td>-0.450418</td>\n",
       "      <td>...</td>\n",
       "      <td>0.184065</td>\n",
       "      <td>-0.016927</td>\n",
       "      <td>-0.025838</td>\n",
       "      <td>0.347055</td>\n",
       "      <td>0.564479</td>\n",
       "      <td>1.332189</td>\n",
       "      <td>0.748820</td>\n",
       "      <td>0.089811</td>\n",
       "      <td>-0.781142</td>\n",
       "      <td>3</td>\n",
       "    </tr>\n",
       "    <tr>\n",
       "      <th>2</th>\n",
       "      <td>1</td>\n",
       "      <td>0</td>\n",
       "      <td>4</td>\n",
       "      <td>1</td>\n",
       "      <td>0.254924</td>\n",
       "      <td>0</td>\n",
       "      <td>0</td>\n",
       "      <td>0</td>\n",
       "      <td>0</td>\n",
       "      <td>-0.450418</td>\n",
       "      <td>...</td>\n",
       "      <td>-0.106015</td>\n",
       "      <td>-0.016927</td>\n",
       "      <td>0.003634</td>\n",
       "      <td>-0.189985</td>\n",
       "      <td>-1.182350</td>\n",
       "      <td>0.097098</td>\n",
       "      <td>-0.267501</td>\n",
       "      <td>-0.318398</td>\n",
       "      <td>-0.053843</td>\n",
       "      <td>0</td>\n",
       "    </tr>\n",
       "    <tr>\n",
       "      <th>3</th>\n",
       "      <td>1</td>\n",
       "      <td>0</td>\n",
       "      <td>3</td>\n",
       "      <td>0</td>\n",
       "      <td>0.403194</td>\n",
       "      <td>0</td>\n",
       "      <td>0</td>\n",
       "      <td>0</td>\n",
       "      <td>0</td>\n",
       "      <td>-0.450418</td>\n",
       "      <td>...</td>\n",
       "      <td>2.214628</td>\n",
       "      <td>0.086968</td>\n",
       "      <td>0.073296</td>\n",
       "      <td>0.627249</td>\n",
       "      <td>-0.256001</td>\n",
       "      <td>0.011919</td>\n",
       "      <td>1.036778</td>\n",
       "      <td>0.432707</td>\n",
       "      <td>-0.428512</td>\n",
       "      <td>0</td>\n",
       "    </tr>\n",
       "    <tr>\n",
       "      <th>4</th>\n",
       "      <td>1</td>\n",
       "      <td>0</td>\n",
       "      <td>4</td>\n",
       "      <td>0</td>\n",
       "      <td>0.403194</td>\n",
       "      <td>1</td>\n",
       "      <td>0</td>\n",
       "      <td>0</td>\n",
       "      <td>0</td>\n",
       "      <td>-0.450418</td>\n",
       "      <td>...</td>\n",
       "      <td>-0.106015</td>\n",
       "      <td>0.047719</td>\n",
       "      <td>-0.095500</td>\n",
       "      <td>0.393754</td>\n",
       "      <td>0.141005</td>\n",
       "      <td>0.650760</td>\n",
       "      <td>-0.521582</td>\n",
       "      <td>-0.938876</td>\n",
       "      <td>-0.119961</td>\n",
       "      <td>2</td>\n",
       "    </tr>\n",
       "  </tbody>\n",
       "</table>\n",
       "<p>5 rows × 60 columns</p>\n",
       "</div>"
      ],
      "text/plain": [
       "   左右  是否外伤  症状持续时间  明显夜间痛        年龄  高血压  高血脂  2型糖尿病  吸烟与否      饮酒与否  ...  \\\n",
       "0   1     0       3      0 -0.782967    0    0      0     1  2.220159  ...   \n",
       "1   1     0       4      0 -1.079507    0    0      0     0 -0.450418  ...   \n",
       "2   1     0       4      1  0.254924    0    0      0     0 -0.450418  ...   \n",
       "3   1     0       3      0  0.403194    0    0      0     0 -0.450418  ...   \n",
       "4   1     0       4      0  0.403194    1    0      0     0 -0.450418  ...   \n",
       "\n",
       "   腺苷脱氨酶ADA       果糖胺      肌酸激酶  α-L-盐藻糖苷酶        乳酸       淀粉酶    同型半胱氨酸  \\\n",
       "0  3.084870 -0.136984 -0.189276  -0.073237 -0.785344  0.821117 -0.030360   \n",
       "1  0.184065 -0.016927 -0.025838   0.347055  0.564479  1.332189  0.748820   \n",
       "2 -0.106015 -0.016927  0.003634  -0.189985 -1.182350  0.097098 -0.267501   \n",
       "3  2.214628  0.086968  0.073296   0.627249 -0.256001  0.011919  1.036778   \n",
       "4 -0.106015  0.047719 -0.095500   0.393754  0.141005  0.650760 -0.521582   \n",
       "\n",
       "          铁     总铁结合力  血型  \n",
       "0 -1.592012 -1.739854   3  \n",
       "1  0.089811 -0.781142   3  \n",
       "2 -0.318398 -0.053843   0  \n",
       "3  0.432707 -0.428512   0  \n",
       "4 -0.938876 -0.119961   2  \n",
       "\n",
       "[5 rows x 60 columns]"
      ]
     },
     "execution_count": 6,
     "metadata": {},
     "output_type": "execute_result"
    }
   ],
   "source": [
    "jibing.head()"
   ]
  },
  {
   "cell_type": "markdown",
   "id": "c8d6679d",
   "metadata": {},
   "source": [
    "### 将 DataFrame 转换为 Tensor"
   ]
  },
  {
   "cell_type": "code",
   "execution_count": 7,
   "id": "17d58df1",
   "metadata": {},
   "outputs": [],
   "source": [
    "jibing = torch.Tensor(jibing.values)\n",
    "jibing_res = torch.Tensor(jibing_res.values)"
   ]
  },
  {
   "cell_type": "code",
   "execution_count": 8,
   "id": "756e482b",
   "metadata": {},
   "outputs": [],
   "source": [
    "jibing_res = jibing_res.long()"
   ]
  },
  {
   "cell_type": "code",
   "execution_count": 9,
   "id": "5be05824",
   "metadata": {},
   "outputs": [
    {
     "data": {
      "text/plain": [
       "tensor([[0],\n",
       "        [0],\n",
       "        [0],\n",
       "        ...,\n",
       "        [0],\n",
       "        [0],\n",
       "        [0]])"
      ]
     },
     "execution_count": 9,
     "metadata": {},
     "output_type": "execute_result"
    }
   ],
   "source": [
    "jibing_res"
   ]
  },
  {
   "cell_type": "code",
   "execution_count": 10,
   "id": "d33ee40c",
   "metadata": {},
   "outputs": [
    {
     "data": {
      "text/plain": [
       "tensor([0])"
      ]
     },
     "execution_count": 10,
     "metadata": {},
     "output_type": "execute_result"
    }
   ],
   "source": [
    "jibing_res[1]"
   ]
  },
  {
   "cell_type": "markdown",
   "id": "d8923d07",
   "metadata": {},
   "source": [
    "### 定义模型"
   ]
  },
  {
   "cell_type": "code",
   "execution_count": 11,
   "id": "ae3b5fef",
   "metadata": {},
   "outputs": [],
   "source": [
    "# 模型（网络）\n",
    "model = nn.Sequential(\n",
    "    nn.Linear(60,100),\n",
    "    nn.ReLU(),\n",
    "    nn.Linear(100,100),\n",
    "    nn.ReLU(),\n",
    "    nn.Linear(100,50),\n",
    "    nn.ReLU(),\n",
    "    nn.Linear(50,2),\n",
    "    nn.Softmax()\n",
    ")"
   ]
  },
  {
   "cell_type": "markdown",
   "id": "f2f0809b",
   "metadata": {},
   "source": [
    "### 定义一个 epoch"
   ]
  },
  {
   "cell_type": "code",
   "execution_count": 12,
   "id": "72fe8149",
   "metadata": {},
   "outputs": [],
   "source": [
    "def train(X,Y,model,batch_size,loss,optimizer):\n",
    "    # 计算批次\n",
    "    batch_num = int(X.shape[0]/batch_size)\n",
    "    for step in range(batch_num):\n",
    "        # 划分 batch\n",
    "        X_batch=X[step*batch_size:(step+1)*batch_size]\n",
    "        Y_batch=Y[step*batch_size:(step+1)*batch_size]\n",
    "\n",
    "        # 计算预测值\n",
    "        Y_hat = model(X_batch)\n",
    "        # 计算loss\n",
    "        l = loss(Y_hat,Y_batch.reshape(-1)).sum()\n",
    "        # 梯度置为0\n",
    "        optimizer.zero_grad()\n",
    "        # 反向传播\n",
    "        l.backward()\n",
    "        # 梯度下降\n",
    "        optimizer.step()\n",
    "\n",
    "        accuracy = (Y_hat.argmax(axis=1)==Y_batch.reshape(-1)).sum()/Y_batch.shape[0]\n",
    "    return (l,accuracy)"
   ]
  },
  {
   "cell_type": "code",
   "execution_count": 13,
   "id": "e71151b5",
   "metadata": {},
   "outputs": [],
   "source": [
    "# 优化器，loss函数\n",
    "optimizer = torch.optim.SGD(model.parameters(), lr=0.005)\n",
    "loss = nn.CrossEntropyLoss()\n",
    "# 保存 loss，accuracy\n",
    "loss_s,accuracy_s=[],[]\n",
    "epoch_num = 600\n",
    "loss_s = []\n",
    "accuracy_s = []\n",
    "# 训练epochs\n",
    "for i in range(epoch_num):\n",
    "    loss_,accuracy_ = train(jibing,jibing_res,model,1000,loss,optimizer)\n",
    "    if i % 10 == 0:\n",
    "        loss_s.append(loss_)\n",
    "        accuracy_s.append(accuracy_)"
   ]
  },
  {
   "cell_type": "code",
   "execution_count": 14,
   "id": "20d0a76a",
   "metadata": {},
   "outputs": [
    {
     "data": {
      "text/plain": [
       "array(0.6821952, dtype=float32)"
      ]
     },
     "execution_count": 14,
     "metadata": {},
     "output_type": "execute_result"
    }
   ],
   "source": [
    "index = np.linspace(1,60,60)\n",
    "loss_s[1].detach().numpy()"
   ]
  },
  {
   "cell_type": "code",
   "execution_count": 15,
   "id": "94eb7d27",
   "metadata": {},
   "outputs": [],
   "source": [
    "for i in range(len(loss_s)):\n",
    "    loss_s[i] = loss_s[i].detach().numpy()\n",
    "for i in range(len(accuracy_s)):\n",
    "    accuracy_s[i] = accuracy_s[i].detach().numpy()"
   ]
  },
  {
   "cell_type": "code",
   "execution_count": 16,
   "id": "c133f2f4",
   "metadata": {},
   "outputs": [
    {
     "data": {
      "image/png": "[encoded data removed]",
      "text/plain": [
       "<Figure size 640x480 with 1 Axes>"
      ]
     },
     "metadata": {},
     "output_type": "display_data"
    }
   ],
   "source": [
    "zhexiantu(index,loss_s,\"loss\")"
   ]
  },
  {
   "cell_type": "code",
   "execution_count": 17,
   "id": "826bde72",
   "metadata": {},
   "outputs": [
    {
     "data": {
      "image/png": "[encoded data removed]",
      "text/plain": [
       "<Figure size 640x480 with 1 Axes>"
      ]
     },
     "metadata": {},
     "output_type": "display_data"
    }
   ],
   "source": [
    "zhexiantu(index,accuracy_s,\"acc\")"
   ]
  }
 ],
 "metadata": {
  "kernelspec": {
   "display_name": "Python 3 (ipykernel)",
   "language": "python",
   "name": "python3"
  },
  "language_info": {
   "codemirror_mode": {
    "name": "ipython",
    "version": 3
   },
   "file_extension": ".py",
   "mimetype": "text/x-python",
   "name": "python",
   "nbconvert_exporter": "python",
   "pygments_lexer": "ipython3",
   "version": "3.7.0"
  }
 },
 "nbformat": 4,
 "nbformat_minor": 5
}
