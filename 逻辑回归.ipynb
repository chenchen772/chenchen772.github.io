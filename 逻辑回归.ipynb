{
 "cells": [
  {
   "cell_type": "markdown",
   "id": "c0299da8",
   "metadata": {},
   "source": [
    "## 导入包"
   ]
  },
  {
   "cell_type": "code",
   "execution_count": 1,
   "id": "dd5fb4a2",
   "metadata": {},
   "outputs": [],
   "source": [
    "from sklearn.model_selection import GridSearchCV\n",
    "from sklearn.linear_model import LogisticRegression\n",
    "from sklearn.model_selection import cross_val_score\n",
    "from sklearn.model_selection import train_test_split\n",
    "import matplotlib.pyplot as plt\n",
    "import pandas as pd\n",
    "import numpy as np\n",
    "from my_tools import *"
   ]
  },
  {
   "cell_type": "code",
   "execution_count": 2,
   "id": "60df1fb5",
   "metadata": {},
   "outputs": [],
   "source": [
    "import warnings\n",
    "warnings.filterwarnings(\"ignore\")"
   ]
  },
  {
   "cell_type": "code",
   "execution_count": 3,
   "id": "2c8d150a",
   "metadata": {
    "scrolled": false
   },
   "outputs": [],
   "source": [
    "jibing_res = pd.read_excel(\"./jibing_feature_res_final.xlsx\")\n",
    "jibing = pd.read_excel(\"./jibing_feature_final.xlsx\")"
   ]
  },
  {
   "cell_type": "code",
   "execution_count": 4,
   "id": "34b60466",
   "metadata": {},
   "outputs": [
    {
     "data": {
      "text/html": [
       "<div>\n",
       "<style scoped>\n",
       "    .dataframe tbody tr th:only-of-type {\n",
       "        vertical-align: middle;\n",
       "    }\n",
       "\n",
       "    .dataframe tbody tr th {\n",
       "        vertical-align: top;\n",
       "    }\n",
       "\n",
       "    .dataframe thead th {\n",
       "        text-align: right;\n",
       "    }\n",
       "</style>\n",
       "<table border=\"1\" class=\"dataframe\">\n",
       "  <thead>\n",
       "    <tr style=\"text-align: right;\">\n",
       "      <th></th>\n",
       "      <th>左右</th>\n",
       "      <th>是否外伤</th>\n",
       "      <th>症状持续时间</th>\n",
       "      <th>明显夜间痛</th>\n",
       "      <th>年龄</th>\n",
       "      <th>高血压</th>\n",
       "      <th>高血脂</th>\n",
       "      <th>2型糖尿病</th>\n",
       "      <th>吸烟与否</th>\n",
       "      <th>饮酒与否</th>\n",
       "      <th>...</th>\n",
       "      <th>腺苷脱氨酶ADA</th>\n",
       "      <th>果糖胺</th>\n",
       "      <th>肌酸激酶</th>\n",
       "      <th>α-L-盐藻糖苷酶</th>\n",
       "      <th>乳酸</th>\n",
       "      <th>淀粉酶</th>\n",
       "      <th>同型半胱氨酸</th>\n",
       "      <th>铁</th>\n",
       "      <th>总铁结合力</th>\n",
       "      <th>血型</th>\n",
       "    </tr>\n",
       "  </thead>\n",
       "  <tbody>\n",
       "    <tr>\n",
       "      <th>0</th>\n",
       "      <td>1</td>\n",
       "      <td>0</td>\n",
       "      <td>3</td>\n",
       "      <td>1</td>\n",
       "      <td>62</td>\n",
       "      <td>1</td>\n",
       "      <td>0</td>\n",
       "      <td>0</td>\n",
       "      <td>0</td>\n",
       "      <td>0</td>\n",
       "      <td>...</td>\n",
       "      <td>9.0</td>\n",
       "      <td>2.12</td>\n",
       "      <td>135.0</td>\n",
       "      <td>24.0</td>\n",
       "      <td>1.5</td>\n",
       "      <td>55.0</td>\n",
       "      <td>10.8</td>\n",
       "      <td>35.5</td>\n",
       "      <td>49.7</td>\n",
       "      <td>3</td>\n",
       "    </tr>\n",
       "    <tr>\n",
       "      <th>1</th>\n",
       "      <td>0</td>\n",
       "      <td>0</td>\n",
       "      <td>3</td>\n",
       "      <td>0</td>\n",
       "      <td>54</td>\n",
       "      <td>0</td>\n",
       "      <td>0</td>\n",
       "      <td>0</td>\n",
       "      <td>1</td>\n",
       "      <td>0</td>\n",
       "      <td>...</td>\n",
       "      <td>8.0</td>\n",
       "      <td>1.96</td>\n",
       "      <td>60.0</td>\n",
       "      <td>32.0</td>\n",
       "      <td>1.8</td>\n",
       "      <td>71.0</td>\n",
       "      <td>13.5</td>\n",
       "      <td>15.7</td>\n",
       "      <td>58.5</td>\n",
       "      <td>3</td>\n",
       "    </tr>\n",
       "    <tr>\n",
       "      <th>2</th>\n",
       "      <td>1</td>\n",
       "      <td>1</td>\n",
       "      <td>3</td>\n",
       "      <td>0</td>\n",
       "      <td>70</td>\n",
       "      <td>1</td>\n",
       "      <td>0</td>\n",
       "      <td>0</td>\n",
       "      <td>1</td>\n",
       "      <td>1</td>\n",
       "      <td>...</td>\n",
       "      <td>12.0</td>\n",
       "      <td>1.82</td>\n",
       "      <td>123.0</td>\n",
       "      <td>26.0</td>\n",
       "      <td>3.1</td>\n",
       "      <td>60.0</td>\n",
       "      <td>13.3</td>\n",
       "      <td>9.1</td>\n",
       "      <td>52.8</td>\n",
       "      <td>0</td>\n",
       "    </tr>\n",
       "    <tr>\n",
       "      <th>3</th>\n",
       "      <td>1</td>\n",
       "      <td>0</td>\n",
       "      <td>4</td>\n",
       "      <td>1</td>\n",
       "      <td>60</td>\n",
       "      <td>0</td>\n",
       "      <td>0</td>\n",
       "      <td>0</td>\n",
       "      <td>1</td>\n",
       "      <td>1</td>\n",
       "      <td>...</td>\n",
       "      <td>10.0</td>\n",
       "      <td>2.10</td>\n",
       "      <td>93.0</td>\n",
       "      <td>30.0</td>\n",
       "      <td>1.6</td>\n",
       "      <td>46.0</td>\n",
       "      <td>18.6</td>\n",
       "      <td>23.1</td>\n",
       "      <td>56.5</td>\n",
       "      <td>0</td>\n",
       "    </tr>\n",
       "    <tr>\n",
       "      <th>4</th>\n",
       "      <td>1</td>\n",
       "      <td>1</td>\n",
       "      <td>3</td>\n",
       "      <td>0</td>\n",
       "      <td>76</td>\n",
       "      <td>1</td>\n",
       "      <td>0</td>\n",
       "      <td>0</td>\n",
       "      <td>0</td>\n",
       "      <td>0</td>\n",
       "      <td>...</td>\n",
       "      <td>13.0</td>\n",
       "      <td>2.44</td>\n",
       "      <td>82.0</td>\n",
       "      <td>19.0</td>\n",
       "      <td>1.8</td>\n",
       "      <td>95.0</td>\n",
       "      <td>16.5</td>\n",
       "      <td>19.0</td>\n",
       "      <td>50.8</td>\n",
       "      <td>3</td>\n",
       "    </tr>\n",
       "  </tbody>\n",
       "</table>\n",
       "<p>5 rows × 60 columns</p>\n",
       "</div>"
      ],
      "text/plain": [
       "   左右  是否外伤  症状持续时间  明显夜间痛  年龄  高血压  高血脂  2型糖尿病  吸烟与否  饮酒与否  ...  腺苷脱氨酶ADA  \\\n",
       "0   1     0       3      1  62    1    0      0     0     0  ...       9.0   \n",
       "1   0     0       3      0  54    0    0      0     1     0  ...       8.0   \n",
       "2   1     1       3      0  70    1    0      0     1     1  ...      12.0   \n",
       "3   1     0       4      1  60    0    0      0     1     1  ...      10.0   \n",
       "4   1     1       3      0  76    1    0      0     0     0  ...      13.0   \n",
       "\n",
       "    果糖胺   肌酸激酶  α-L-盐藻糖苷酶   乳酸   淀粉酶  同型半胱氨酸     铁  总铁结合力  血型  \n",
       "0  2.12  135.0       24.0  1.5  55.0    10.8  35.5   49.7   3  \n",
       "1  1.96   60.0       32.0  1.8  71.0    13.5  15.7   58.5   3  \n",
       "2  1.82  123.0       26.0  3.1  60.0    13.3   9.1   52.8   0  \n",
       "3  2.10   93.0       30.0  1.6  46.0    18.6  23.1   56.5   0  \n",
       "4  2.44   82.0       19.0  1.8  95.0    16.5  19.0   50.8   3  \n",
       "\n",
       "[5 rows x 60 columns]"
      ]
     },
     "execution_count": 4,
     "metadata": {},
     "output_type": "execute_result"
    }
   ],
   "source": [
    "jibing.head()"
   ]
  },
  {
   "cell_type": "code",
   "execution_count": 5,
   "id": "491ee4f0",
   "metadata": {},
   "outputs": [
    {
     "data": {
      "text/html": [
       "<div>\n",
       "<style scoped>\n",
       "    .dataframe tbody tr th:only-of-type {\n",
       "        vertical-align: middle;\n",
       "    }\n",
       "\n",
       "    .dataframe tbody tr th {\n",
       "        vertical-align: top;\n",
       "    }\n",
       "\n",
       "    .dataframe thead th {\n",
       "        text-align: right;\n",
       "    }\n",
       "</style>\n",
       "<table border=\"1\" class=\"dataframe\">\n",
       "  <thead>\n",
       "    <tr style=\"text-align: right;\">\n",
       "      <th></th>\n",
       "      <th>结果</th>\n",
       "    </tr>\n",
       "  </thead>\n",
       "  <tbody>\n",
       "    <tr>\n",
       "      <th>0</th>\n",
       "      <td>1</td>\n",
       "    </tr>\n",
       "    <tr>\n",
       "      <th>1</th>\n",
       "      <td>0</td>\n",
       "    </tr>\n",
       "    <tr>\n",
       "      <th>2</th>\n",
       "      <td>1</td>\n",
       "    </tr>\n",
       "    <tr>\n",
       "      <th>3</th>\n",
       "      <td>0</td>\n",
       "    </tr>\n",
       "    <tr>\n",
       "      <th>4</th>\n",
       "      <td>0</td>\n",
       "    </tr>\n",
       "  </tbody>\n",
       "</table>\n",
       "</div>"
      ],
      "text/plain": [
       "   结果\n",
       "0   1\n",
       "1   0\n",
       "2   1\n",
       "3   0\n",
       "4   0"
      ]
     },
     "execution_count": 5,
     "metadata": {},
     "output_type": "execute_result"
    }
   ],
   "source": [
    "jibing_res.head()"
   ]
  },
  {
   "cell_type": "markdown",
   "id": "7ec77a87",
   "metadata": {},
   "source": [
    "### 归一化"
   ]
  },
  {
   "cell_type": "code",
   "execution_count": 6,
   "id": "d699a557",
   "metadata": {},
   "outputs": [],
   "source": [
    "jibing = guiyihua(jibing)"
   ]
  },
  {
   "cell_type": "markdown",
   "id": "c33abf71",
   "metadata": {},
   "source": [
    "### 标准化"
   ]
  },
  {
   "cell_type": "code",
   "execution_count": 7,
   "id": "27bc45a8",
   "metadata": {},
   "outputs": [],
   "source": [
    "jibing = biaozhunhua(jibing)"
   ]
  },
  {
   "cell_type": "code",
   "execution_count": 8,
   "id": "7c42a13b",
   "metadata": {
    "scrolled": true
   },
   "outputs": [
    {
     "data": {
      "text/plain": [
       "左右                1.000000\n",
       "是否外伤              0.000000\n",
       "症状持续时间            3.000000\n",
       "明显夜间痛             1.000000\n",
       "年龄                0.180789\n",
       "高血压               1.000000\n",
       "高血脂               0.000000\n",
       "2型糖尿病             0.000000\n",
       "吸烟与否              0.000000\n",
       "饮酒与否             -0.450418\n",
       "红细胞计数*10^12/L     0.050503\n",
       "血红蛋白              1.398995\n",
       "红细胞压积             0.597193\n",
       "血小板计数            -1.466795\n",
       "血小板压积            -0.051550\n",
       "总蛋白g/L           -0.809788\n",
       "白蛋白g/L           -0.540361\n",
       "球蛋白g/L           -0.615103\n",
       "白球比               0.049687\n",
       "AST天门冬氨酸氨基转移酶     0.277485\n",
       "碱性磷酸酶             0.930419\n",
       "谷氨酸转肽酶            0.111575\n",
       "AST:ALT          -0.127025\n",
       "总胆红素              2.485844\n",
       "直接胆红素             0.985923\n",
       "间接胆红素             2.507003\n",
       "钾                 0.295217\n",
       "钠                -0.182696\n",
       "氯                 0.072913\n",
       "钙                -0.360614\n",
       "磷                -2.187720\n",
       "镁                 0.275316\n",
       "葡萄糖              -0.506560\n",
       "肌酐                1.817830\n",
       "尿素                2.326748\n",
       "尿酸                0.242501\n",
       "甘油三酯             -0.187264\n",
       "总胆固醇             -1.106942\n",
       "H高密度胆固醇           0.367763\n",
       "L低密度胆固醇          -0.568218\n",
       "载脂蛋白A1            0.759419\n",
       "载脂蛋白B            -1.319767\n",
       "载脂蛋白E mg/l       -0.658359\n",
       "aPoB/aPoA1       -0.297548\n",
       "脂蛋白小a            -0.055382\n",
       "乳酸脱氢酶LDH         -0.624222\n",
       "β-2微球蛋白          -0.524135\n",
       "胆碱酯酶             -1.297805\n",
       "前白蛋白mg/l          0.114949\n",
       "总胆汁酸             -0.697309\n",
       "腺苷脱氨酶ADA         -0.686176\n",
       "果糖胺               0.024631\n",
       "肌酸激酶              0.057220\n",
       "α-L-盐藻糖苷酶         0.160258\n",
       "乳酸               -0.256001\n",
       "淀粉酶              -0.499153\n",
       "同型半胱氨酸           -0.267501\n",
       "铁                 2.898292\n",
       "总铁结合力            49.700000\n",
       "血型                3.000000\n",
       "Name: 0, dtype: float64"
      ]
     },
     "execution_count": 8,
     "metadata": {},
     "output_type": "execute_result"
    }
   ],
   "source": [
    "jibing.iloc[0]"
   ]
  },
  {
   "cell_type": "markdown",
   "id": "fcb167e3",
   "metadata": {},
   "source": [
    "### 要调的参数\n",
    "- penalty：惩罚项，L1 正则化和 L2 正则化。\n",
    "L2 正则化通常会导致模型的参数值变小，使得模型的决策边界会更平滑。它也可以帮助防止过拟合。所以这里选择l2 正则化\n",
    "- c:正则化系数的倒数\n",
    "- 对于l2 正则化，可以选择 newton-cg，lbfgs，saga\n",
    "\n",
    "  saga:随机平均梯度下降\n",
    "  \n",
    "  newton-cg:类似于牛顿法\n",
    "  \n",
    "  lbfgs:一种梯度下降的方法"
   ]
  },
  {
   "cell_type": "markdown",
   "id": "a236c1d4",
   "metadata": {},
   "source": [
    "### 确定用于网格搜索的字典"
   ]
  },
  {
   "cell_type": "code",
   "execution_count": 9,
   "id": "79435646",
   "metadata": {},
   "outputs": [],
   "source": [
    "param_grid = {'C': [0.001, 0.01, 0.1, 1, 10, 100],\n",
    "              'solver': ['newton-cg', 'saga','lbfgs']}"
   ]
  },
  {
   "cell_type": "markdown",
   "id": "3effb00d",
   "metadata": {},
   "source": [
    "### 创建模型并进行网格搜索"
   ]
  },
  {
   "cell_type": "code",
   "execution_count": 10,
   "id": "3c16e62d",
   "metadata": {},
   "outputs": [],
   "source": [
    "logistic_regression = LogisticRegression(random_state=30)\n",
    "grid_search = GridSearchCV(estimator=logistic_regression, param_grid=param_grid, cv=5)"
   ]
  },
  {
   "cell_type": "code",
   "execution_count": 11,
   "id": "76110887",
   "metadata": {},
   "outputs": [
    {
     "data": {
      "text/plain": [
       "GridSearchCV(cv=5, estimator=LogisticRegression(random_state=30),\n",
       "             param_grid={'C': [0.001, 0.01, 0.1, 1, 10, 100],\n",
       "                         'solver': ['newton-cg', 'saga', 'lbfgs']})"
      ]
     },
     "execution_count": 11,
     "metadata": {},
     "output_type": "execute_result"
    }
   ],
   "source": [
    "grid_search.fit(jibing, jibing_res)"
   ]
  },
  {
   "cell_type": "markdown",
   "id": "f3a46abe",
   "metadata": {},
   "source": [
    "### 获取最佳参数\n",
    "#### 牛顿法更加适合这个模型"
   ]
  },
  {
   "cell_type": "code",
   "execution_count": 12,
   "id": "d9ecbb79",
   "metadata": {},
   "outputs": [
    {
     "name": "stdout",
     "output_type": "stream",
     "text": [
      "c=0.001,solver=newton-cg\n"
     ]
    }
   ],
   "source": [
    "c = grid_search.best_params_['C']\n",
    "solver = grid_search.best_params_['solver']\n",
    "print(\"c={},solver={}\".format(c,solver))"
   ]
  },
  {
   "cell_type": "code",
   "execution_count": 13,
   "id": "f6a11265",
   "metadata": {},
   "outputs": [],
   "source": [
    "clf = LogisticRegression(C=c, solver=solver,random_state=30)"
   ]
  },
  {
   "cell_type": "code",
   "execution_count": 14,
   "id": "3befff65",
   "metadata": {},
   "outputs": [
    {
     "data": {
      "text/plain": [
       "{'precision': 0.8427672955974843, 'recall': 1.0, 'f1': 0.9146757679180888}"
      ]
     },
     "execution_count": 14,
     "metadata": {},
     "output_type": "execute_result"
    }
   ],
   "source": [
    "Xtrain,Xtest,Ytrain,Ytest = train_test_split(jibing,jibing_res,test_size=0.2)\n",
    "clf.fit(Xtrain, Ytrain)\n",
    "y_pre = clf.predict(Xtest)\n",
    "metrics_ = res_metrics(Ytest,y_pre)\n",
    "metrics_"
   ]
  }
 ],
 "metadata": {
  "kernelspec": {
   "display_name": "Python 3 (ipykernel)",
   "language": "python",
   "name": "python3"
  },
  "language_info": {
   "codemirror_mode": {
    "name": "ipython",
    "version": 3
   },
   "file_extension": ".py",
   "mimetype": "text/x-python",
   "name": "python",
   "nbconvert_exporter": "python",
   "pygments_lexer": "ipython3",
   "version": "3.7.0"
  }
 },
 "nbformat": 4,
 "nbformat_minor": 5
}
