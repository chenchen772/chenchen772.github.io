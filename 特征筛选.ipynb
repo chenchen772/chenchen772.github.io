{
 "cells": [
  {
   "cell_type": "markdown",
   "id": "b29904fa",
   "metadata": {},
   "source": [
    "# 特征筛选"
   ]
  },
  {
   "cell_type": "code",
   "execution_count": 1,
   "id": "c8b122be",
   "metadata": {},
   "outputs": [],
   "source": [
    "import pandas as pd\n",
    "import matplotlib\n",
    "import matplotlib.pyplot as plt\n",
    "import matplotlib.font_manager as fm\n",
    "import numpy as np\n",
    "import scipy\n",
    "import sklearn\n",
    "import re\n",
    "import sys\n",
    "import random\n",
    "# 方差\n",
    "from sklearn.feature_selection import VarianceThreshold\n",
    "# 相关性过滤\n",
    "from sklearn.feature_selection import SelectKBest\n",
    "from sklearn.feature_selection import chi2\n",
    "# 皮尔逊相关系数\n",
    "from scipy.stats import pearsonr\n",
    "from collections import OrderedDict\n",
    "# 使用决策树筛选特征\n",
    "from sklearn import tree\n",
    "# 互信息法\n",
    "from sklearn.feature_selection import mutual_info_classif as MIC\n",
    "from sklearn.feature_selection import SelectKBest,chi2\n",
    "from my_tools import *\n",
    "import warnings\n",
    "warnings.filterwarnings(\"ignore\")"
   ]
  },
  {
   "cell_type": "markdown",
   "id": "c3b5a8ea",
   "metadata": {},
   "source": [
    "### 读取数据"
   ]
  },
  {
   "cell_type": "code",
   "execution_count": 2,
   "id": "b14f23f0",
   "metadata": {},
   "outputs": [
    {
     "data": {
      "text/plain": [
       "(1598, 63)"
      ]
     },
     "execution_count": 2,
     "metadata": {},
     "output_type": "execute_result"
    }
   ],
   "source": [
    "jibing = pd.read_excel(\"./jibing_yuchuli_final.xlsx\")\n",
    "jibing.shape"
   ]
  },
  {
   "cell_type": "markdown",
   "id": "06716030",
   "metadata": {},
   "source": [
    "### 消去方差为 0 的属性"
   ]
  },
  {
   "cell_type": "code",
   "execution_count": 3,
   "id": "8494d93d",
   "metadata": {},
   "outputs": [
    {
     "data": {
      "text/plain": [
       "(1598, 63)"
      ]
     },
     "execution_count": 3,
     "metadata": {},
     "output_type": "execute_result"
    }
   ],
   "source": [
    "selector = VarianceThreshold() #实例化，不填参数默认方差为0\n",
    "jibing_var0 = selector.fit_transform(jibing) #获取删除不合格特征之后的新特征矩阵\n",
    "jibing_var0.shape"
   ]
  },
  {
   "cell_type": "code",
   "execution_count": 4,
   "id": "293a30d6",
   "metadata": {},
   "outputs": [
    {
     "data": {
      "text/html": [
       "<div>\n",
       "<style scoped>\n",
       "    .dataframe tbody tr th:only-of-type {\n",
       "        vertical-align: middle;\n",
       "    }\n",
       "\n",
       "    .dataframe tbody tr th {\n",
       "        vertical-align: top;\n",
       "    }\n",
       "\n",
       "    .dataframe thead th {\n",
       "        text-align: right;\n",
       "    }\n",
       "</style>\n",
       "<table border=\"1\" class=\"dataframe\">\n",
       "  <thead>\n",
       "    <tr style=\"text-align: right;\">\n",
       "      <th></th>\n",
       "      <th>左右</th>\n",
       "      <th>是否外伤</th>\n",
       "      <th>症状持续时间</th>\n",
       "      <th>明显夜间痛</th>\n",
       "      <th>性别</th>\n",
       "      <th>年龄</th>\n",
       "      <th>高血压</th>\n",
       "      <th>高血脂</th>\n",
       "      <th>2型糖尿病</th>\n",
       "      <th>吸烟与否</th>\n",
       "      <th>...</th>\n",
       "      <th>果糖胺</th>\n",
       "      <th>肌酸激酶</th>\n",
       "      <th>α-L-盐藻糖苷酶</th>\n",
       "      <th>乳酸</th>\n",
       "      <th>淀粉酶</th>\n",
       "      <th>同型半胱氨酸</th>\n",
       "      <th>铁</th>\n",
       "      <th>总铁结合力</th>\n",
       "      <th>血型</th>\n",
       "      <th>结果</th>\n",
       "    </tr>\n",
       "  </thead>\n",
       "  <tbody>\n",
       "    <tr>\n",
       "      <th>0</th>\n",
       "      <td>0</td>\n",
       "      <td>0</td>\n",
       "      <td>3</td>\n",
       "      <td>0</td>\n",
       "      <td>0</td>\n",
       "      <td>65</td>\n",
       "      <td>1</td>\n",
       "      <td>0</td>\n",
       "      <td>0</td>\n",
       "      <td>0</td>\n",
       "      <td>...</td>\n",
       "      <td>1.32</td>\n",
       "      <td>48.0</td>\n",
       "      <td>12.0</td>\n",
       "      <td>1.9</td>\n",
       "      <td>49.0</td>\n",
       "      <td>9.9</td>\n",
       "      <td>12.3</td>\n",
       "      <td>43.5</td>\n",
       "      <td>3</td>\n",
       "      <td>0</td>\n",
       "    </tr>\n",
       "    <tr>\n",
       "      <th>1</th>\n",
       "      <td>1</td>\n",
       "      <td>1</td>\n",
       "      <td>2</td>\n",
       "      <td>0</td>\n",
       "      <td>0</td>\n",
       "      <td>62</td>\n",
       "      <td>1</td>\n",
       "      <td>0</td>\n",
       "      <td>0</td>\n",
       "      <td>0</td>\n",
       "      <td>...</td>\n",
       "      <td>1.67</td>\n",
       "      <td>77.0</td>\n",
       "      <td>16.0</td>\n",
       "      <td>1.4</td>\n",
       "      <td>81.0</td>\n",
       "      <td>9.2</td>\n",
       "      <td>16.9</td>\n",
       "      <td>55.5</td>\n",
       "      <td>0</td>\n",
       "      <td>1</td>\n",
       "    </tr>\n",
       "    <tr>\n",
       "      <th>2</th>\n",
       "      <td>1</td>\n",
       "      <td>0</td>\n",
       "      <td>4</td>\n",
       "      <td>1</td>\n",
       "      <td>0</td>\n",
       "      <td>55</td>\n",
       "      <td>0</td>\n",
       "      <td>0</td>\n",
       "      <td>0</td>\n",
       "      <td>0</td>\n",
       "      <td>...</td>\n",
       "      <td>1.86</td>\n",
       "      <td>78.0</td>\n",
       "      <td>22.0</td>\n",
       "      <td>1.9</td>\n",
       "      <td>89.0</td>\n",
       "      <td>9.9</td>\n",
       "      <td>7.0</td>\n",
       "      <td>51.4</td>\n",
       "      <td>0</td>\n",
       "      <td>1</td>\n",
       "    </tr>\n",
       "    <tr>\n",
       "      <th>3</th>\n",
       "      <td>1</td>\n",
       "      <td>0</td>\n",
       "      <td>3</td>\n",
       "      <td>0</td>\n",
       "      <td>0</td>\n",
       "      <td>60</td>\n",
       "      <td>0</td>\n",
       "      <td>0</td>\n",
       "      <td>0</td>\n",
       "      <td>0</td>\n",
       "      <td>...</td>\n",
       "      <td>1.68</td>\n",
       "      <td>92.0</td>\n",
       "      <td>12.0</td>\n",
       "      <td>1.4</td>\n",
       "      <td>69.0</td>\n",
       "      <td>9.3</td>\n",
       "      <td>15.8</td>\n",
       "      <td>53.0</td>\n",
       "      <td>0</td>\n",
       "      <td>0</td>\n",
       "    </tr>\n",
       "    <tr>\n",
       "      <th>4</th>\n",
       "      <td>0</td>\n",
       "      <td>1</td>\n",
       "      <td>3</td>\n",
       "      <td>0</td>\n",
       "      <td>0</td>\n",
       "      <td>61</td>\n",
       "      <td>0</td>\n",
       "      <td>0</td>\n",
       "      <td>0</td>\n",
       "      <td>0</td>\n",
       "      <td>...</td>\n",
       "      <td>1.60</td>\n",
       "      <td>58.0</td>\n",
       "      <td>14.0</td>\n",
       "      <td>1.7</td>\n",
       "      <td>153.0</td>\n",
       "      <td>8.1</td>\n",
       "      <td>13.2</td>\n",
       "      <td>45.9</td>\n",
       "      <td>0</td>\n",
       "      <td>1</td>\n",
       "    </tr>\n",
       "  </tbody>\n",
       "</table>\n",
       "<p>5 rows × 63 columns</p>\n",
       "</div>"
      ],
      "text/plain": [
       "   左右  是否外伤  症状持续时间  明显夜间痛  性别  年龄  高血压  高血脂  2型糖尿病  吸烟与否  ...   果糖胺  肌酸激酶  \\\n",
       "0   0     0       3      0   0  65    1    0      0     0  ...  1.32  48.0   \n",
       "1   1     1       2      0   0  62    1    0      0     0  ...  1.67  77.0   \n",
       "2   1     0       4      1   0  55    0    0      0     0  ...  1.86  78.0   \n",
       "3   1     0       3      0   0  60    0    0      0     0  ...  1.68  92.0   \n",
       "4   0     1       3      0   0  61    0    0      0     0  ...  1.60  58.0   \n",
       "\n",
       "   α-L-盐藻糖苷酶   乳酸    淀粉酶  同型半胱氨酸     铁  总铁结合力  血型  结果  \n",
       "0       12.0  1.9   49.0     9.9  12.3   43.5   3   0  \n",
       "1       16.0  1.4   81.0     9.2  16.9   55.5   0   1  \n",
       "2       22.0  1.9   89.0     9.9   7.0   51.4   0   1  \n",
       "3       12.0  1.4   69.0     9.3  15.8   53.0   0   0  \n",
       "4       14.0  1.7  153.0     8.1  13.2   45.9   0   1  \n",
       "\n",
       "[5 rows x 63 columns]"
      ]
     },
     "execution_count": 4,
     "metadata": {},
     "output_type": "execute_result"
    }
   ],
   "source": [
    "jibing.head()"
   ]
  },
  {
   "cell_type": "markdown",
   "id": "987d2fe3",
   "metadata": {},
   "source": [
    "### 相关性分析"
   ]
  },
  {
   "cell_type": "markdown",
   "id": "53b7e7a0",
   "metadata": {},
   "source": [
    "#### 皮尔逊相关系数"
   ]
  },
  {
   "cell_type": "code",
   "execution_count": 5,
   "id": "650167a0",
   "metadata": {},
   "outputs": [],
   "source": [
    "col = jibing.columns.tolist()\n",
    "col.remove(\"结果\")"
   ]
  },
  {
   "cell_type": "code",
   "execution_count": 6,
   "id": "e2745c39",
   "metadata": {},
   "outputs": [],
   "source": [
    "dict_ = dict()\n",
    "feature_ls = []\n",
    "for col_ in col:\n",
    "    corr, p = pearsonr(jibing[\"结果\"], jibing[col_])\n",
    "    \"\"\"\n",
    "        p > 0.05 才会有统计学意义\n",
    "        所以这里将 p > 0.05 的特征放到一个字典中\n",
    "        查看他们与结果的相关性\n",
    "    \"\"\"\n",
    "    if p > 0.05:\n",
    "        feature_ls.append(col_)\n",
    "        dict_[col_] = abs(corr)"
   ]
  },
  {
   "cell_type": "code",
   "execution_count": 7,
   "id": "be0caf6d",
   "metadata": {},
   "outputs": [
    {
     "data": {
      "text/plain": [
       "59"
      ]
     },
     "execution_count": 7,
     "metadata": {},
     "output_type": "execute_result"
    }
   ],
   "source": [
    "len(dict_)"
   ]
  },
  {
   "cell_type": "code",
   "execution_count": 8,
   "id": "86401aa1",
   "metadata": {},
   "outputs": [
    {
     "data": {
      "text/plain": [
       "['左右',\n",
       " '症状持续时间',\n",
       " '明显夜间痛',\n",
       " '性别',\n",
       " '年龄',\n",
       " '高血压',\n",
       " '高血脂',\n",
       " '2型糖尿病',\n",
       " '吸烟与否',\n",
       " '饮酒与否',\n",
       " '红细胞计数*10^12/L',\n",
       " '血红蛋白',\n",
       " '红细胞压积',\n",
       " '血小板计数',\n",
       " '血小板压积',\n",
       " '总蛋白g/L',\n",
       " '白蛋白g/L',\n",
       " '球蛋白g/L',\n",
       " '白球比',\n",
       " 'ALT丙氨酸氨基转移酶',\n",
       " 'AST天门冬氨酸氨基转移酶',\n",
       " '碱性磷酸酶',\n",
       " '谷氨酸转肽酶',\n",
       " 'AST:ALT',\n",
       " '总胆红素',\n",
       " '直接胆红素',\n",
       " '间接胆红素',\n",
       " '钾',\n",
       " '钠',\n",
       " '氯',\n",
       " '钙',\n",
       " '磷',\n",
       " '镁',\n",
       " '葡萄糖',\n",
       " '尿素',\n",
       " '尿酸',\n",
       " '甘油三酯',\n",
       " '总胆固醇',\n",
       " 'H高密度胆固醇',\n",
       " 'L低密度胆固醇',\n",
       " '载脂蛋白A1',\n",
       " '载脂蛋白B',\n",
       " '载脂蛋白E mg/l',\n",
       " 'aPoB/aPoA1',\n",
       " '脂蛋白小a',\n",
       " '乳酸脱氢酶LDH',\n",
       " 'β-2微球蛋白',\n",
       " '胆碱酯酶',\n",
       " '前白蛋白mg/l',\n",
       " '总胆汁酸',\n",
       " '腺苷脱氨酶ADA',\n",
       " '果糖胺',\n",
       " '肌酸激酶',\n",
       " 'α-L-盐藻糖苷酶',\n",
       " '淀粉酶',\n",
       " '同型半胱氨酸',\n",
       " '铁',\n",
       " '总铁结合力',\n",
       " '血型']"
      ]
     },
     "execution_count": 8,
     "metadata": {},
     "output_type": "execute_result"
    }
   ],
   "source": [
    "feature_ls"
   ]
  },
  {
   "cell_type": "code",
   "execution_count": 9,
   "id": "d95e0138",
   "metadata": {
    "scrolled": false
   },
   "outputs": [
    {
     "data": {
      "image/png": "[encoded data removed]",
      "text/plain": [
       "<Figure size 640x480 with 1 Axes>"
      ]
     },
     "metadata": {},
     "output_type": "display_data"
    },
    {
     "data": {
      "image/png": "[encoded data removed]",
      "text/plain": [
       "<Figure size 640x480 with 1 Axes>"
      ]
     },
     "metadata": {},
     "output_type": "display_data"
    },
    {
     "data": {
      "image/png": "[encoded data removed]",
      "text/plain": [
       "<Figure size 640x480 with 1 Axes>"
      ]
     },
     "metadata": {},
     "output_type": "display_data"
    }
   ],
   "source": [
    "# 设置字体\n",
    "set_font()\n",
    "start = 0\n",
    "end = 19\n",
    "for i in range(3):\n",
    "    # 使用自定义字体\n",
    "    show_x = list(dict_.keys())[start:end]\n",
    "    show_y = list(dict_.values())[start:end]\n",
    "    plt.xlabel('属性名')\n",
    "    plt.ylabel('相关系数')\n",
    "    # 绘制柱状图\n",
    "    plt.bar(show_x, show_y)\n",
    "    # 显示图形\n",
    "    start = start + 20\n",
    "    end = end + 20\n",
    "    plt.xticks(rotation=90)\n",
    "    plt.title(\"相关性系数\")\n",
    "    plt.show()"
   ]
  },
  {
   "cell_type": "markdown",
   "id": "704291a8",
   "metadata": {},
   "source": [
    "### 使用决策树筛选特征"
   ]
  },
  {
   "cell_type": "code",
   "execution_count": 10,
   "id": "865542f1",
   "metadata": {},
   "outputs": [],
   "source": [
    "clf = tree.DecisionTreeClassifier(random_state=30)\n",
    "clf = clf.fit(jibing.iloc[:,:-1],jibing.iloc[:,-1])"
   ]
  },
  {
   "cell_type": "markdown",
   "id": "f9a41a84",
   "metadata": {},
   "source": [
    "### 获取特征的重要性\n",
    "#### 根据决策树的某些系数划分重要程度"
   ]
  },
  {
   "cell_type": "code",
   "execution_count": 11,
   "id": "dd53b08a",
   "metadata": {},
   "outputs": [
    {
     "data": {
      "text/plain": [
       "array([0.00642058, 0.00428039, 0.00499379, 0.02252402, 0.        ,\n",
       "       0.01654977, 0.01911454, 0.        , 0.        , 0.        ,\n",
       "       0.        , 0.03454957, 0.00667023, 0.0113456 , 0.02181291,\n",
       "       0.008653  , 0.0320874 , 0.06006682, 0.02659235, 0.02146013,\n",
       "       0.00285359, 0.        , 0.01941168, 0.01444173, 0.02098024,\n",
       "       0.00456575, 0.02118258, 0.00256741, 0.01527166, 0.01516202,\n",
       "       0.02008489, 0.00494003, 0.        , 0.01235312, 0.03628761,\n",
       "       0.02015343, 0.02685477, 0.03634301, 0.01141437, 0.03151978,\n",
       "       0.01307189, 0.00508406, 0.01698537, 0.00808379, 0.01866136,\n",
       "       0.02006391, 0.0165685 , 0.03874059, 0.01265598, 0.02484254,\n",
       "       0.01521916, 0.0041057 , 0.01748961, 0.0339876 , 0.00445256,\n",
       "       0.01425327, 0.02496806, 0.01092751, 0.01736746, 0.05684635,\n",
       "       0.01211596, 0.        ])"
      ]
     },
     "execution_count": 11,
     "metadata": {},
     "output_type": "execute_result"
    }
   ],
   "source": [
    "tree_importance = clf.feature_importances_\n",
    "tree_importance"
   ]
  },
  {
   "cell_type": "markdown",
   "id": "cd85abcd",
   "metadata": {},
   "source": [
    "### 由于特征是比较少的，所以将皮尔逊系数和决策树特征重要性放到一起考虑"
   ]
  },
  {
   "cell_type": "code",
   "execution_count": 12,
   "id": "0a336197",
   "metadata": {},
   "outputs": [],
   "source": [
    "# 确定一会儿要删除的特征\n",
    "# 把它们放到drop_list中\n",
    "drop_list = []"
   ]
  },
  {
   "cell_type": "code",
   "execution_count": 13,
   "id": "379868de",
   "metadata": {},
   "outputs": [],
   "source": [
    "# 获取重要性为0的特征\n",
    "indexes = [i for i, x in enumerate(tree_importance) if x == 0]"
   ]
  },
  {
   "cell_type": "code",
   "execution_count": 14,
   "id": "6fe73182",
   "metadata": {},
   "outputs": [
    {
     "data": {
      "text/plain": [
       "[4, 7, 8, 9, 10, 21, 32, 61]"
      ]
     },
     "execution_count": 14,
     "metadata": {},
     "output_type": "execute_result"
    }
   ],
   "source": [
    "indexes"
   ]
  },
  {
   "cell_type": "code",
   "execution_count": 15,
   "id": "e54ba484",
   "metadata": {},
   "outputs": [
    {
     "data": {
      "text/plain": [
       "['性别', 'AST天门冬氨酸氨基转移酶']"
      ]
     },
     "execution_count": 15,
     "metadata": {},
     "output_type": "execute_result"
    }
   ],
   "source": [
    "for index in indexes:\n",
    "    if dict_[col[index]] < 0.01:\n",
    "        drop_list.append(col[index])\n",
    "drop_list"
   ]
  },
  {
   "cell_type": "markdown",
   "id": "e32c2b9c",
   "metadata": {},
   "source": [
    "### 将无关属性去掉"
   ]
  },
  {
   "cell_type": "code",
   "execution_count": 16,
   "id": "bb75cb25",
   "metadata": {},
   "outputs": [
    {
     "data": {
      "text/plain": [
       "(1598, 63)"
      ]
     },
     "execution_count": 16,
     "metadata": {},
     "output_type": "execute_result"
    }
   ],
   "source": [
    "jibing.shape"
   ]
  },
  {
   "cell_type": "code",
   "execution_count": 17,
   "id": "b9666fc0",
   "metadata": {},
   "outputs": [
    {
     "data": {
      "text/plain": [
       "pandas.core.frame.DataFrame"
      ]
     },
     "execution_count": 17,
     "metadata": {},
     "output_type": "execute_result"
    }
   ],
   "source": [
    "type(jibing)"
   ]
  },
  {
   "cell_type": "code",
   "execution_count": 18,
   "id": "4f72da61",
   "metadata": {},
   "outputs": [],
   "source": [
    "for name in drop_list:\n",
    "    jibing.drop(name, axis=1,inplace = True)"
   ]
  },
  {
   "cell_type": "code",
   "execution_count": 19,
   "id": "5d1c0c4b",
   "metadata": {},
   "outputs": [
    {
     "data": {
      "text/plain": [
       "(1598, 61)"
      ]
     },
     "execution_count": 19,
     "metadata": {},
     "output_type": "execute_result"
    }
   ],
   "source": [
    "jibing.shape"
   ]
  },
  {
   "cell_type": "markdown",
   "id": "f8d12e1f",
   "metadata": {},
   "source": [
    "### 特征和结果分开"
   ]
  },
  {
   "cell_type": "code",
   "execution_count": 20,
   "id": "3b8d42ef",
   "metadata": {},
   "outputs": [
    {
     "data": {
      "text/plain": [
       "0    0\n",
       "1    1\n",
       "2    1\n",
       "3    0\n",
       "4    1\n",
       "Name: 结果, dtype: int64"
      ]
     },
     "execution_count": 20,
     "metadata": {},
     "output_type": "execute_result"
    }
   ],
   "source": [
    "jibing_res = jibing.iloc[:,-1]\n",
    "jibing_res.head()"
   ]
  },
  {
   "cell_type": "code",
   "execution_count": 21,
   "id": "58d3b2b3",
   "metadata": {},
   "outputs": [
    {
     "data": {
      "text/html": [
       "<div>\n",
       "<style scoped>\n",
       "    .dataframe tbody tr th:only-of-type {\n",
       "        vertical-align: middle;\n",
       "    }\n",
       "\n",
       "    .dataframe tbody tr th {\n",
       "        vertical-align: top;\n",
       "    }\n",
       "\n",
       "    .dataframe thead th {\n",
       "        text-align: right;\n",
       "    }\n",
       "</style>\n",
       "<table border=\"1\" class=\"dataframe\">\n",
       "  <thead>\n",
       "    <tr style=\"text-align: right;\">\n",
       "      <th></th>\n",
       "      <th>左右</th>\n",
       "      <th>是否外伤</th>\n",
       "      <th>症状持续时间</th>\n",
       "      <th>明显夜间痛</th>\n",
       "      <th>年龄</th>\n",
       "      <th>高血压</th>\n",
       "      <th>高血脂</th>\n",
       "      <th>2型糖尿病</th>\n",
       "      <th>吸烟与否</th>\n",
       "      <th>饮酒与否</th>\n",
       "      <th>...</th>\n",
       "      <th>腺苷脱氨酶ADA</th>\n",
       "      <th>果糖胺</th>\n",
       "      <th>肌酸激酶</th>\n",
       "      <th>α-L-盐藻糖苷酶</th>\n",
       "      <th>乳酸</th>\n",
       "      <th>淀粉酶</th>\n",
       "      <th>同型半胱氨酸</th>\n",
       "      <th>铁</th>\n",
       "      <th>总铁结合力</th>\n",
       "      <th>血型</th>\n",
       "    </tr>\n",
       "  </thead>\n",
       "  <tbody>\n",
       "    <tr>\n",
       "      <th>0</th>\n",
       "      <td>0</td>\n",
       "      <td>0</td>\n",
       "      <td>3</td>\n",
       "      <td>0</td>\n",
       "      <td>65</td>\n",
       "      <td>1</td>\n",
       "      <td>0</td>\n",
       "      <td>0</td>\n",
       "      <td>0</td>\n",
       "      <td>0</td>\n",
       "      <td>...</td>\n",
       "      <td>10.0</td>\n",
       "      <td>1.32</td>\n",
       "      <td>48.0</td>\n",
       "      <td>12.0</td>\n",
       "      <td>1.9</td>\n",
       "      <td>49.0</td>\n",
       "      <td>9.9</td>\n",
       "      <td>12.3</td>\n",
       "      <td>43.5</td>\n",
       "      <td>3</td>\n",
       "    </tr>\n",
       "    <tr>\n",
       "      <th>1</th>\n",
       "      <td>1</td>\n",
       "      <td>1</td>\n",
       "      <td>2</td>\n",
       "      <td>0</td>\n",
       "      <td>62</td>\n",
       "      <td>1</td>\n",
       "      <td>0</td>\n",
       "      <td>0</td>\n",
       "      <td>0</td>\n",
       "      <td>0</td>\n",
       "      <td>...</td>\n",
       "      <td>10.0</td>\n",
       "      <td>1.67</td>\n",
       "      <td>77.0</td>\n",
       "      <td>16.0</td>\n",
       "      <td>1.4</td>\n",
       "      <td>81.0</td>\n",
       "      <td>9.2</td>\n",
       "      <td>16.9</td>\n",
       "      <td>55.5</td>\n",
       "      <td>0</td>\n",
       "    </tr>\n",
       "    <tr>\n",
       "      <th>2</th>\n",
       "      <td>1</td>\n",
       "      <td>0</td>\n",
       "      <td>4</td>\n",
       "      <td>1</td>\n",
       "      <td>55</td>\n",
       "      <td>0</td>\n",
       "      <td>0</td>\n",
       "      <td>0</td>\n",
       "      <td>0</td>\n",
       "      <td>0</td>\n",
       "      <td>...</td>\n",
       "      <td>15.0</td>\n",
       "      <td>1.86</td>\n",
       "      <td>78.0</td>\n",
       "      <td>22.0</td>\n",
       "      <td>1.9</td>\n",
       "      <td>89.0</td>\n",
       "      <td>9.9</td>\n",
       "      <td>7.0</td>\n",
       "      <td>51.4</td>\n",
       "      <td>0</td>\n",
       "    </tr>\n",
       "    <tr>\n",
       "      <th>3</th>\n",
       "      <td>1</td>\n",
       "      <td>0</td>\n",
       "      <td>3</td>\n",
       "      <td>0</td>\n",
       "      <td>60</td>\n",
       "      <td>0</td>\n",
       "      <td>0</td>\n",
       "      <td>0</td>\n",
       "      <td>0</td>\n",
       "      <td>0</td>\n",
       "      <td>...</td>\n",
       "      <td>16.0</td>\n",
       "      <td>1.68</td>\n",
       "      <td>92.0</td>\n",
       "      <td>12.0</td>\n",
       "      <td>1.4</td>\n",
       "      <td>69.0</td>\n",
       "      <td>9.3</td>\n",
       "      <td>15.8</td>\n",
       "      <td>53.0</td>\n",
       "      <td>0</td>\n",
       "    </tr>\n",
       "    <tr>\n",
       "      <th>4</th>\n",
       "      <td>0</td>\n",
       "      <td>1</td>\n",
       "      <td>3</td>\n",
       "      <td>0</td>\n",
       "      <td>61</td>\n",
       "      <td>0</td>\n",
       "      <td>0</td>\n",
       "      <td>0</td>\n",
       "      <td>0</td>\n",
       "      <td>0</td>\n",
       "      <td>...</td>\n",
       "      <td>13.0</td>\n",
       "      <td>1.60</td>\n",
       "      <td>58.0</td>\n",
       "      <td>14.0</td>\n",
       "      <td>1.7</td>\n",
       "      <td>153.0</td>\n",
       "      <td>8.1</td>\n",
       "      <td>13.2</td>\n",
       "      <td>45.9</td>\n",
       "      <td>0</td>\n",
       "    </tr>\n",
       "  </tbody>\n",
       "</table>\n",
       "<p>5 rows × 60 columns</p>\n",
       "</div>"
      ],
      "text/plain": [
       "   左右  是否外伤  症状持续时间  明显夜间痛  年龄  高血压  高血脂  2型糖尿病  吸烟与否  饮酒与否  ...  腺苷脱氨酶ADA  \\\n",
       "0   0     0       3      0  65    1    0      0     0     0  ...      10.0   \n",
       "1   1     1       2      0  62    1    0      0     0     0  ...      10.0   \n",
       "2   1     0       4      1  55    0    0      0     0     0  ...      15.0   \n",
       "3   1     0       3      0  60    0    0      0     0     0  ...      16.0   \n",
       "4   0     1       3      0  61    0    0      0     0     0  ...      13.0   \n",
       "\n",
       "    果糖胺  肌酸激酶  α-L-盐藻糖苷酶   乳酸    淀粉酶  同型半胱氨酸     铁  总铁结合力  血型  \n",
       "0  1.32  48.0       12.0  1.9   49.0     9.9  12.3   43.5   3  \n",
       "1  1.67  77.0       16.0  1.4   81.0     9.2  16.9   55.5   0  \n",
       "2  1.86  78.0       22.0  1.9   89.0     9.9   7.0   51.4   0  \n",
       "3  1.68  92.0       12.0  1.4   69.0     9.3  15.8   53.0   0  \n",
       "4  1.60  58.0       14.0  1.7  153.0     8.1  13.2   45.9   0  \n",
       "\n",
       "[5 rows x 60 columns]"
      ]
     },
     "execution_count": 21,
     "metadata": {},
     "output_type": "execute_result"
    }
   ],
   "source": [
    "jibing = jibing.iloc[:,:-1]\n",
    "jibing.head()"
   ]
  },
  {
   "cell_type": "code",
   "execution_count": 22,
   "id": "14b4085c",
   "metadata": {},
   "outputs": [
    {
     "data": {
      "text/html": [
       "<div>\n",
       "<style scoped>\n",
       "    .dataframe tbody tr th:only-of-type {\n",
       "        vertical-align: middle;\n",
       "    }\n",
       "\n",
       "    .dataframe tbody tr th {\n",
       "        vertical-align: top;\n",
       "    }\n",
       "\n",
       "    .dataframe thead th {\n",
       "        text-align: right;\n",
       "    }\n",
       "</style>\n",
       "<table border=\"1\" class=\"dataframe\">\n",
       "  <thead>\n",
       "    <tr style=\"text-align: right;\">\n",
       "      <th></th>\n",
       "      <th>左右</th>\n",
       "      <th>是否外伤</th>\n",
       "      <th>症状持续时间</th>\n",
       "      <th>明显夜间痛</th>\n",
       "      <th>年龄</th>\n",
       "      <th>高血压</th>\n",
       "      <th>高血脂</th>\n",
       "      <th>2型糖尿病</th>\n",
       "      <th>吸烟与否</th>\n",
       "      <th>饮酒与否</th>\n",
       "      <th>...</th>\n",
       "      <th>腺苷脱氨酶ADA</th>\n",
       "      <th>果糖胺</th>\n",
       "      <th>肌酸激酶</th>\n",
       "      <th>α-L-盐藻糖苷酶</th>\n",
       "      <th>乳酸</th>\n",
       "      <th>淀粉酶</th>\n",
       "      <th>同型半胱氨酸</th>\n",
       "      <th>铁</th>\n",
       "      <th>总铁结合力</th>\n",
       "      <th>血型</th>\n",
       "    </tr>\n",
       "  </thead>\n",
       "  <tbody>\n",
       "    <tr>\n",
       "      <th>0</th>\n",
       "      <td>0</td>\n",
       "      <td>0</td>\n",
       "      <td>3</td>\n",
       "      <td>0</td>\n",
       "      <td>65</td>\n",
       "      <td>1</td>\n",
       "      <td>0</td>\n",
       "      <td>0</td>\n",
       "      <td>0</td>\n",
       "      <td>0</td>\n",
       "      <td>...</td>\n",
       "      <td>10.0</td>\n",
       "      <td>1.32</td>\n",
       "      <td>48.0</td>\n",
       "      <td>12.0</td>\n",
       "      <td>1.9</td>\n",
       "      <td>49.0</td>\n",
       "      <td>9.9</td>\n",
       "      <td>12.3</td>\n",
       "      <td>43.5</td>\n",
       "      <td>3</td>\n",
       "    </tr>\n",
       "    <tr>\n",
       "      <th>1</th>\n",
       "      <td>1</td>\n",
       "      <td>1</td>\n",
       "      <td>2</td>\n",
       "      <td>0</td>\n",
       "      <td>62</td>\n",
       "      <td>1</td>\n",
       "      <td>0</td>\n",
       "      <td>0</td>\n",
       "      <td>0</td>\n",
       "      <td>0</td>\n",
       "      <td>...</td>\n",
       "      <td>10.0</td>\n",
       "      <td>1.67</td>\n",
       "      <td>77.0</td>\n",
       "      <td>16.0</td>\n",
       "      <td>1.4</td>\n",
       "      <td>81.0</td>\n",
       "      <td>9.2</td>\n",
       "      <td>16.9</td>\n",
       "      <td>55.5</td>\n",
       "      <td>0</td>\n",
       "    </tr>\n",
       "    <tr>\n",
       "      <th>2</th>\n",
       "      <td>1</td>\n",
       "      <td>0</td>\n",
       "      <td>4</td>\n",
       "      <td>1</td>\n",
       "      <td>55</td>\n",
       "      <td>0</td>\n",
       "      <td>0</td>\n",
       "      <td>0</td>\n",
       "      <td>0</td>\n",
       "      <td>0</td>\n",
       "      <td>...</td>\n",
       "      <td>15.0</td>\n",
       "      <td>1.86</td>\n",
       "      <td>78.0</td>\n",
       "      <td>22.0</td>\n",
       "      <td>1.9</td>\n",
       "      <td>89.0</td>\n",
       "      <td>9.9</td>\n",
       "      <td>7.0</td>\n",
       "      <td>51.4</td>\n",
       "      <td>0</td>\n",
       "    </tr>\n",
       "    <tr>\n",
       "      <th>3</th>\n",
       "      <td>1</td>\n",
       "      <td>0</td>\n",
       "      <td>3</td>\n",
       "      <td>0</td>\n",
       "      <td>60</td>\n",
       "      <td>0</td>\n",
       "      <td>0</td>\n",
       "      <td>0</td>\n",
       "      <td>0</td>\n",
       "      <td>0</td>\n",
       "      <td>...</td>\n",
       "      <td>16.0</td>\n",
       "      <td>1.68</td>\n",
       "      <td>92.0</td>\n",
       "      <td>12.0</td>\n",
       "      <td>1.4</td>\n",
       "      <td>69.0</td>\n",
       "      <td>9.3</td>\n",
       "      <td>15.8</td>\n",
       "      <td>53.0</td>\n",
       "      <td>0</td>\n",
       "    </tr>\n",
       "    <tr>\n",
       "      <th>4</th>\n",
       "      <td>0</td>\n",
       "      <td>1</td>\n",
       "      <td>3</td>\n",
       "      <td>0</td>\n",
       "      <td>61</td>\n",
       "      <td>0</td>\n",
       "      <td>0</td>\n",
       "      <td>0</td>\n",
       "      <td>0</td>\n",
       "      <td>0</td>\n",
       "      <td>...</td>\n",
       "      <td>13.0</td>\n",
       "      <td>1.60</td>\n",
       "      <td>58.0</td>\n",
       "      <td>14.0</td>\n",
       "      <td>1.7</td>\n",
       "      <td>153.0</td>\n",
       "      <td>8.1</td>\n",
       "      <td>13.2</td>\n",
       "      <td>45.9</td>\n",
       "      <td>0</td>\n",
       "    </tr>\n",
       "    <tr>\n",
       "      <th>...</th>\n",
       "      <td>...</td>\n",
       "      <td>...</td>\n",
       "      <td>...</td>\n",
       "      <td>...</td>\n",
       "      <td>...</td>\n",
       "      <td>...</td>\n",
       "      <td>...</td>\n",
       "      <td>...</td>\n",
       "      <td>...</td>\n",
       "      <td>...</td>\n",
       "      <td>...</td>\n",
       "      <td>...</td>\n",
       "      <td>...</td>\n",
       "      <td>...</td>\n",
       "      <td>...</td>\n",
       "      <td>...</td>\n",
       "      <td>...</td>\n",
       "      <td>...</td>\n",
       "      <td>...</td>\n",
       "      <td>...</td>\n",
       "      <td>...</td>\n",
       "    </tr>\n",
       "    <tr>\n",
       "      <th>1593</th>\n",
       "      <td>0</td>\n",
       "      <td>0</td>\n",
       "      <td>4</td>\n",
       "      <td>1</td>\n",
       "      <td>76</td>\n",
       "      <td>1</td>\n",
       "      <td>0</td>\n",
       "      <td>0</td>\n",
       "      <td>0</td>\n",
       "      <td>0</td>\n",
       "      <td>...</td>\n",
       "      <td>12.0</td>\n",
       "      <td>1.61</td>\n",
       "      <td>60.0</td>\n",
       "      <td>5.0</td>\n",
       "      <td>1.5</td>\n",
       "      <td>60.0</td>\n",
       "      <td>7.9</td>\n",
       "      <td>21.5</td>\n",
       "      <td>50.1</td>\n",
       "      <td>3</td>\n",
       "    </tr>\n",
       "    <tr>\n",
       "      <th>1594</th>\n",
       "      <td>1</td>\n",
       "      <td>1</td>\n",
       "      <td>3</td>\n",
       "      <td>1</td>\n",
       "      <td>58</td>\n",
       "      <td>1</td>\n",
       "      <td>0</td>\n",
       "      <td>0</td>\n",
       "      <td>0</td>\n",
       "      <td>0</td>\n",
       "      <td>...</td>\n",
       "      <td>16.0</td>\n",
       "      <td>1.92</td>\n",
       "      <td>96.0</td>\n",
       "      <td>22.0</td>\n",
       "      <td>1.1</td>\n",
       "      <td>89.0</td>\n",
       "      <td>10.3</td>\n",
       "      <td>16.3</td>\n",
       "      <td>55.2</td>\n",
       "      <td>3</td>\n",
       "    </tr>\n",
       "    <tr>\n",
       "      <th>1595</th>\n",
       "      <td>0</td>\n",
       "      <td>1</td>\n",
       "      <td>3</td>\n",
       "      <td>1</td>\n",
       "      <td>68</td>\n",
       "      <td>0</td>\n",
       "      <td>0</td>\n",
       "      <td>0</td>\n",
       "      <td>0</td>\n",
       "      <td>0</td>\n",
       "      <td>...</td>\n",
       "      <td>11.0</td>\n",
       "      <td>1.84</td>\n",
       "      <td>84.0</td>\n",
       "      <td>21.0</td>\n",
       "      <td>2.3</td>\n",
       "      <td>43.0</td>\n",
       "      <td>13.1</td>\n",
       "      <td>17.3</td>\n",
       "      <td>46.7</td>\n",
       "      <td>0</td>\n",
       "    </tr>\n",
       "    <tr>\n",
       "      <th>1596</th>\n",
       "      <td>0</td>\n",
       "      <td>0</td>\n",
       "      <td>3</td>\n",
       "      <td>1</td>\n",
       "      <td>62</td>\n",
       "      <td>0</td>\n",
       "      <td>0</td>\n",
       "      <td>0</td>\n",
       "      <td>0</td>\n",
       "      <td>0</td>\n",
       "      <td>...</td>\n",
       "      <td>19.0</td>\n",
       "      <td>2.30</td>\n",
       "      <td>76.0</td>\n",
       "      <td>36.0</td>\n",
       "      <td>1.1</td>\n",
       "      <td>125.0</td>\n",
       "      <td>18.8</td>\n",
       "      <td>24.0</td>\n",
       "      <td>51.5</td>\n",
       "      <td>0</td>\n",
       "    </tr>\n",
       "    <tr>\n",
       "      <th>1597</th>\n",
       "      <td>0</td>\n",
       "      <td>0</td>\n",
       "      <td>4</td>\n",
       "      <td>0</td>\n",
       "      <td>53</td>\n",
       "      <td>0</td>\n",
       "      <td>0</td>\n",
       "      <td>0</td>\n",
       "      <td>0</td>\n",
       "      <td>0</td>\n",
       "      <td>...</td>\n",
       "      <td>14.0</td>\n",
       "      <td>1.54</td>\n",
       "      <td>77.0</td>\n",
       "      <td>11.0</td>\n",
       "      <td>1.3</td>\n",
       "      <td>79.0</td>\n",
       "      <td>11.0</td>\n",
       "      <td>11.5</td>\n",
       "      <td>54.0</td>\n",
       "      <td>0</td>\n",
       "    </tr>\n",
       "  </tbody>\n",
       "</table>\n",
       "<p>1598 rows × 60 columns</p>\n",
       "</div>"
      ],
      "text/plain": [
       "      左右  是否外伤  症状持续时间  明显夜间痛  年龄  高血压  高血脂  2型糖尿病  吸烟与否  饮酒与否  ...  腺苷脱氨酶ADA  \\\n",
       "0      0     0       3      0  65    1    0      0     0     0  ...      10.0   \n",
       "1      1     1       2      0  62    1    0      0     0     0  ...      10.0   \n",
       "2      1     0       4      1  55    0    0      0     0     0  ...      15.0   \n",
       "3      1     0       3      0  60    0    0      0     0     0  ...      16.0   \n",
       "4      0     1       3      0  61    0    0      0     0     0  ...      13.0   \n",
       "...   ..   ...     ...    ...  ..  ...  ...    ...   ...   ...  ...       ...   \n",
       "1593   0     0       4      1  76    1    0      0     0     0  ...      12.0   \n",
       "1594   1     1       3      1  58    1    0      0     0     0  ...      16.0   \n",
       "1595   0     1       3      1  68    0    0      0     0     0  ...      11.0   \n",
       "1596   0     0       3      1  62    0    0      0     0     0  ...      19.0   \n",
       "1597   0     0       4      0  53    0    0      0     0     0  ...      14.0   \n",
       "\n",
       "       果糖胺  肌酸激酶  α-L-盐藻糖苷酶   乳酸    淀粉酶  同型半胱氨酸     铁  总铁结合力  血型  \n",
       "0     1.32  48.0       12.0  1.9   49.0     9.9  12.3   43.5   3  \n",
       "1     1.67  77.0       16.0  1.4   81.0     9.2  16.9   55.5   0  \n",
       "2     1.86  78.0       22.0  1.9   89.0     9.9   7.0   51.4   0  \n",
       "3     1.68  92.0       12.0  1.4   69.0     9.3  15.8   53.0   0  \n",
       "4     1.60  58.0       14.0  1.7  153.0     8.1  13.2   45.9   0  \n",
       "...    ...   ...        ...  ...    ...     ...   ...    ...  ..  \n",
       "1593  1.61  60.0        5.0  1.5   60.0     7.9  21.5   50.1   3  \n",
       "1594  1.92  96.0       22.0  1.1   89.0    10.3  16.3   55.2   3  \n",
       "1595  1.84  84.0       21.0  2.3   43.0    13.1  17.3   46.7   0  \n",
       "1596  2.30  76.0       36.0  1.1  125.0    18.8  24.0   51.5   0  \n",
       "1597  1.54  77.0       11.0  1.3   79.0    11.0  11.5   54.0   0  \n",
       "\n",
       "[1598 rows x 60 columns]"
      ]
     },
     "execution_count": 22,
     "metadata": {},
     "output_type": "execute_result"
    }
   ],
   "source": [
    "jibing"
   ]
  },
  {
   "cell_type": "markdown",
   "id": "78164a38",
   "metadata": {},
   "source": [
    "### 保存"
   ]
  },
  {
   "cell_type": "code",
   "execution_count": 23,
   "id": "081b7169",
   "metadata": {},
   "outputs": [],
   "source": [
    "jibing.to_excel(\"./jibing_feature_final.xlsx\", index=False)"
   ]
  },
  {
   "cell_type": "code",
   "execution_count": 24,
   "id": "509d30b8",
   "metadata": {},
   "outputs": [],
   "source": [
    "jibing_res.to_excel(\"./jibing_feature_res_final.xlsx\", index=False)"
   ]
  },
  {
   "cell_type": "markdown",
   "id": "0e774adf",
   "metadata": {},
   "source": [
    "## 这只是初步筛选，在具体的算法中还会进一步筛选"
   ]
  }
 ],
 "metadata": {
  "kernelspec": {
   "display_name": "Python 3 (ipykernel)",
   "language": "python",
   "name": "python3"
  },
  "language_info": {
   "codemirror_mode": {
    "name": "ipython",
    "version": 3
   },
   "file_extension": ".py",
   "mimetype": "text/x-python",
   "name": "python",
   "nbconvert_exporter": "python",
   "pygments_lexer": "ipython3",
   "version": "3.7.0"
  }
 },
 "nbformat": 4,
 "nbformat_minor": 5
}
